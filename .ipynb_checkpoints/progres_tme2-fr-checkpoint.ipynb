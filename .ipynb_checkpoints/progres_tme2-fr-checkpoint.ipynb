{
 "cells": [
  {
   "cell_type": "markdown",
   "id": "294988a5",
   "metadata": {},
   "source": [
    "# PROGRES - TME2\n",
    "\n",
    "Fabien Mathieu - fabien.mathieu@normalesup.org\n",
    "\n",
    "Sébastien Tixeuil - Sebastien.Tixeuil@lip6.fr"
   ]
  },
  {
   "cell_type": "markdown",
   "id": "f9046b32",
   "metadata": {},
   "source": [
    "**Note** : \n",
    "- Les exercices étoiles (indiqués par *) ne doivent être faits que si tous les autres exercices ont été faits. Vous \n",
    "Vous n'êtes pas obligé de les faire pour obtenir un score de 20/20.\n",
    "- stackoverflow est votre ami... **Mais** si vous utilisez quelque chose que vous trouvez sur Internet, vous devez citer votre source **ET** ajouter des explications. Si vous copiez/collez quelque chose sans explication, vous n'obtiendrez pas la note maximale même si cela fonctionne !"
   ]
  },
  {
   "cell_type": "markdown",
   "id": "a01a42a0",
   "metadata": {},
   "source": [
    "# Exercice 1 - Expressions régulières"
   ]
  },
  {
   "cell_type": "markdown",
   "id": "e777c51e",
   "metadata": {},
   "source": [
    "1. Utilisez des expressions régulières pour identifier les adresses gmail valides et les afficher dans la liste suivante :"
   ]
  },
  {
   "cell_type": "code",
   "execution_count": 1,
   "id": "cd42208b",
   "metadata": {
    "ExecuteTime": {
     "end_time": "2022-10-20T21:50:10.162172Z",
     "start_time": "2022-10-20T21:50:10.139049Z"
    }
   },
   "outputs": [],
   "source": [
    "L = ['marie.Dupond@gmail.com', 'lucie.Durand@wanadoo.fr', \n",
    "'Sophie.Parmentier @ gmail.com', 'franck.Dupres.gmail.com', \n",
    "'pierre.Martin@lip6 .fr ',' eric.Deschamps@gmail.com '] "
   ]
  },
  {
   "cell_type": "markdown",
   "id": "d522f37b",
   "metadata": {},
   "source": [
    "Voulez-vous récupérer la dernière entrée ?"
   ]
  },
  {
   "cell_type": "markdown",
   "id": "8031d815",
   "metadata": {},
   "source": [
    "Réponse"
   ]
  },
  {
   "cell_type": "code",
   "execution_count": 2,
   "id": "e58857cd",
   "metadata": {
    "ExecuteTime": {
     "end_time": "2022-10-20T20:08:35.227425Z",
     "start_time": "2022-10-20T20:08:35.209208Z"
    }
   },
   "outputs": [],
   "source": [
    "import re \n",
    "def true_gmail(mail_list):\n",
    "    regex=r'\\b([A-Za-z0-9]+[-._])*[A-Za-z0-9]+@gmail.com\\b' #verifier que l'@ est de format string+(-._)+string@gmail.com\n",
    "    for x in mail_list:\n",
    "        if (re.match(regex,x)):\n",
    "            print(x)"
   ]
  },
  {
   "cell_type": "code",
   "execution_count": 3,
   "id": "816fd798",
   "metadata": {
    "ExecuteTime": {
     "end_time": "2022-10-20T21:50:14.425760Z",
     "start_time": "2022-10-20T21:50:14.398567Z"
    }
   },
   "outputs": [
    {
     "name": "stdout",
     "output_type": "stream",
     "text": [
      "marie.Dupond@gmail.com\n"
     ]
    }
   ],
   "source": [
    "true_gmail(L)"
   ]
  },
  {
   "cell_type": "markdown",
   "id": "5375b8f3",
   "metadata": {},
   "source": [
    "2. Utilisez des expressions régulières pour vérifier si une chaîne de caractères se termine par un chiffre."
   ]
  },
  {
   "cell_type": "markdown",
   "id": "277eb076",
   "metadata": {},
   "source": [
    "Réponse"
   ]
  },
  {
   "cell_type": "code",
   "execution_count": 7,
   "id": "13acfb67",
   "metadata": {
    "ExecuteTime": {
     "end_time": "2022-10-20T20:09:17.083729Z",
     "start_time": "2022-10-20T20:09:17.065636Z"
    }
   },
   "outputs": [],
   "source": [
    "import re \n",
    "def ends_with_number(txt):\n",
    "    match=re.search(r'\\d+$',txt) #verifier que la chaine se termine par un décimal avec le symbole $\n",
    "    if match is not None:\n",
    "        print('La chaine se termine par un chiffre')\n",
    "    else:\n",
    "        print('La chaine ne se termine pas par un chiffre')"
   ]
  },
  {
   "cell_type": "code",
   "execution_count": 8,
   "id": "ce9da640",
   "metadata": {
    "ExecuteTime": {
     "end_time": "2022-10-20T21:50:20.266726Z",
     "start_time": "2022-10-20T21:50:20.248243Z"
    }
   },
   "outputs": [
    {
     "name": "stdout",
     "output_type": "stream",
     "text": [
      "La chaine ne se termine pas par un chiffre\n"
     ]
    }
   ],
   "source": [
    "ends_with_number('to42to')"
   ]
  },
  {
   "cell_type": "code",
   "execution_count": 9,
   "id": "6aa5f293",
   "metadata": {
    "ExecuteTime": {
     "end_time": "2022-10-20T21:50:21.171296Z",
     "start_time": "2022-10-20T21:50:21.158474Z"
    }
   },
   "outputs": [
    {
     "name": "stdout",
     "output_type": "stream",
     "text": [
      "La chaine se termine par un chiffre\n"
     ]
    }
   ],
   "source": [
    "ends_with_number('to42to666')"
   ]
  },
  {
   "cell_type": "markdown",
   "id": "50bde5d7",
   "metadata": {},
   "source": [
    "3. Utilisez des expressions régulières pour supprimer les zéros problématiques d'une adresse IPv4 exprimée sous forme de chaîne. (exemple : \"216.08.094.196\" devrait devenir \"216.8.94.196\", mais \"216.80.140.196\" devrait rester \"216.80.140.196\")."
   ]
  },
  {
   "cell_type": "markdown",
   "id": "9dddd29b",
   "metadata": {},
   "source": [
    "Réponse"
   ]
  },
  {
   "cell_type": "code",
   "execution_count": 9,
   "id": "8d2f77ce",
   "metadata": {
    "ExecuteTime": {
     "end_time": "2022-10-20T18:31:14.895864Z",
     "start_time": "2022-10-20T18:31:14.881965Z"
    }
   },
   "outputs": [],
   "source": [
    "import re\n",
    "def normalize_ip(txt):\n",
    "    new_ip=re.sub(r'\\b0+(\\d+)',r'\\1',txt) #remplacer le premier 0 par les decimales situées après\n",
    "    print(new_ip)"
   ]
  },
  {
   "cell_type": "code",
   "execution_count": 10,
   "id": "088d349e",
   "metadata": {
    "ExecuteTime": {
     "end_time": "2022-10-20T21:50:25.361966Z",
     "start_time": "2022-10-20T21:50:25.348436Z"
    }
   },
   "outputs": [
    {
     "name": "stdout",
     "output_type": "stream",
     "text": [
      "216.8.94.196\n"
     ]
    }
   ],
   "source": [
    "normalize_ip(\"216.08.094.196\")"
   ]
  },
  {
   "cell_type": "code",
   "execution_count": 11,
   "id": "b4b6be3f",
   "metadata": {
    "ExecuteTime": {
     "end_time": "2022-10-20T21:50:26.174815Z",
     "start_time": "2022-10-20T21:50:26.158508Z"
    }
   },
   "outputs": [
    {
     "name": "stdout",
     "output_type": "stream",
     "text": [
      "216.80.140.196\n"
     ]
    }
   ],
   "source": [
    "normalize_ip(\"216.80.140.196\")"
   ]
  },
  {
   "cell_type": "markdown",
   "id": "defac980",
   "metadata": {},
   "source": [
    "4. Utilisez des expressions régulières pour transformer une date du format MM-DD-YYYY en format DD-MM-YYYY. (exemple : \"11-06-2020\" devrait devenir \"06-11-2020\"). En option*, faites la même chose en utilisant le paquet `datetime`."
   ]
  },
  {
   "cell_type": "markdown",
   "id": "50aaf83a",
   "metadata": {},
   "source": [
    "Réponse"
   ]
  },
  {
   "cell_type": "code",
   "execution_count": 12,
   "id": "01892f64",
   "metadata": {
    "ExecuteTime": {
     "end_time": "2022-10-20T18:36:07.803825Z",
     "start_time": "2022-10-20T18:36:07.784342Z"
    }
   },
   "outputs": [],
   "source": [
    "import re\n",
    "def switch_md(txt):\n",
    "    new_date=re.sub(r'(\\d{2})-(\\d{2})-(\\d{4})', r'\\2-\\1-\\3', txt)\n",
    "    #division de la date en segments\n",
    "    #réarrangement de ces segments dans l'ordre souhaité\n",
    "    print(new_date)"
   ]
  },
  {
   "cell_type": "code",
   "execution_count": 13,
   "id": "0f731cbc",
   "metadata": {
    "ExecuteTime": {
     "end_time": "2022-10-20T21:50:32.667462Z",
     "start_time": "2022-10-20T21:50:32.648171Z"
    }
   },
   "outputs": [
    {
     "name": "stdout",
     "output_type": "stream",
     "text": [
      "06-11-2020\n"
     ]
    }
   ],
   "source": [
    "switch_md(\"11-06-2020\")"
   ]
  },
  {
   "cell_type": "markdown",
   "id": "4de1a107",
   "metadata": {},
   "source": [
    "# Exercice 2 - Analyser le XML"
   ]
  },
  {
   "cell_type": "markdown",
   "id": "3954449b",
   "metadata": {},
   "source": [
    "1. Récupérez le contenu de la page à :"
   ]
  },
  {
   "cell_type": "code",
   "execution_count": 33,
   "id": "a640a342",
   "metadata": {
    "ExecuteTime": {
     "end_time": "2022-10-20T21:50:38.260551Z",
     "start_time": "2022-10-20T21:50:38.248637Z"
    }
   },
   "outputs": [],
   "source": [
    "from requests import Session\n",
    "s = Session()\n",
    "url = \"https://www.w3schools.com/xml/cd_catalog.xml\""
   ]
  },
  {
   "cell_type": "markdown",
   "id": "c371f1f2",
   "metadata": {},
   "source": [
    "Regardez le contenu du texte et chargez-le en xml."
   ]
  },
  {
   "cell_type": "code",
   "execution_count": 34,
   "id": "8b2eab03",
   "metadata": {},
   "outputs": [],
   "source": [
    "def get_xml(url,file):\n",
    "    r=s.get(url)\n",
    "    with open(file, \"w\") as f:\n",
    "        f.write(r.text)\n",
    "get_xml(url,\"cd_catalog.xml\")"
   ]
  },
  {
   "cell_type": "code",
   "execution_count": 35,
   "id": "70d5a9fd",
   "metadata": {},
   "outputs": [
    {
     "name": "stdout",
     "output_type": "stream",
     "text": [
      "CATALOG \n",
      "  \n",
      "CD \n",
      "    \n",
      "TITLE Empire Burlesque\n",
      "ARTIST Bob Dylan\n",
      "COUNTRY USA\n",
      "COMPANY Columbia\n",
      "PRICE 10.90\n",
      "YEAR 1985\n",
      "CD \n",
      "    \n",
      "TITLE Hide your heart\n",
      "ARTIST Bonnie Tyler\n",
      "COUNTRY UK\n",
      "COMPANY CBS Records\n",
      "PRICE 9.90\n",
      "YEAR 1988\n",
      "CD \n",
      "    \n",
      "TITLE Greatest Hits\n",
      "ARTIST Dolly Parton\n",
      "COUNTRY USA\n",
      "COMPANY RCA\n",
      "PRICE 9.90\n",
      "YEAR 1982\n",
      "CD \n",
      "    \n",
      "TITLE Still got the blues\n",
      "ARTIST Gary Moore\n",
      "COUNTRY UK\n",
      "COMPANY Virgin records\n",
      "PRICE 10.20\n",
      "YEAR 1990\n",
      "CD \n",
      "    \n",
      "TITLE Eros\n",
      "ARTIST Eros Ramazzotti\n",
      "COUNTRY EU\n",
      "COMPANY BMG\n",
      "PRICE 9.90\n",
      "YEAR 1997\n",
      "CD \n",
      "    \n",
      "TITLE One night only\n",
      "ARTIST Bee Gees\n",
      "COUNTRY UK\n",
      "COMPANY Polydor\n",
      "PRICE 10.90\n",
      "YEAR 1998\n",
      "CD \n",
      "    \n",
      "TITLE Sylvias Mother\n",
      "ARTIST Dr.Hook\n",
      "COUNTRY UK\n",
      "COMPANY CBS\n",
      "PRICE 8.10\n",
      "YEAR 1973\n",
      "CD \n",
      "    \n",
      "TITLE Maggie May\n",
      "ARTIST Rod Stewart\n",
      "COUNTRY UK\n",
      "COMPANY Pickwick\n",
      "PRICE 8.50\n",
      "YEAR 1990\n",
      "CD \n",
      "    \n",
      "TITLE Romanza\n",
      "ARTIST Andrea Bocelli\n",
      "COUNTRY EU\n",
      "COMPANY Polydor\n",
      "PRICE 10.80\n",
      "YEAR 1996\n",
      "CD \n",
      "    \n",
      "TITLE When a man loves a woman\n",
      "ARTIST Percy Sledge\n",
      "COUNTRY USA\n",
      "COMPANY Atlantic\n",
      "PRICE 8.70\n",
      "YEAR 1987\n",
      "CD \n",
      "    \n",
      "TITLE Black angel\n",
      "ARTIST Savage Rose\n",
      "COUNTRY EU\n",
      "COMPANY Mega\n",
      "PRICE 10.90\n",
      "YEAR 1995\n",
      "CD \n",
      "    \n",
      "TITLE 1999 Grammy Nominees\n",
      "ARTIST Many\n",
      "COUNTRY USA\n",
      "COMPANY Grammy\n",
      "PRICE 10.20\n",
      "YEAR 1999\n",
      "CD \n",
      "    \n",
      "TITLE For the good times\n",
      "ARTIST Kenny Rogers\n",
      "COUNTRY UK\n",
      "COMPANY Mucik Master\n",
      "PRICE 8.70\n",
      "YEAR 1995\n",
      "CD \n",
      "    \n",
      "TITLE Big Willie style\n",
      "ARTIST Will Smith\n",
      "COUNTRY USA\n",
      "COMPANY Columbia\n",
      "PRICE 9.90\n",
      "YEAR 1997\n",
      "CD \n",
      "    \n",
      "TITLE Tupelo Honey\n",
      "ARTIST Van Morrison\n",
      "COUNTRY UK\n",
      "COMPANY Polydor\n",
      "PRICE 8.20\n",
      "YEAR 1971\n",
      "CD \n",
      "    \n",
      "TITLE Soulsville\n",
      "ARTIST Jorn Hoel\n",
      "COUNTRY Norway\n",
      "COMPANY WEA\n",
      "PRICE 7.90\n",
      "YEAR 1996\n",
      "CD \n",
      "    \n",
      "TITLE The very best of\n",
      "ARTIST Cat Stevens\n",
      "COUNTRY UK\n",
      "COMPANY Island\n",
      "PRICE 8.90\n",
      "YEAR 1990\n",
      "CD \n",
      "    \n",
      "TITLE Stop\n",
      "ARTIST Sam Brown\n",
      "COUNTRY UK\n",
      "COMPANY A and M\n",
      "PRICE 8.90\n",
      "YEAR 1988\n",
      "CD \n",
      "    \n",
      "TITLE Bridge of Spies\n",
      "ARTIST T'Pau\n",
      "COUNTRY UK\n",
      "COMPANY Siren\n",
      "PRICE 7.90\n",
      "YEAR 1987\n",
      "CD \n",
      "    \n",
      "TITLE Private Dancer\n",
      "ARTIST Tina Turner\n",
      "COUNTRY UK\n",
      "COMPANY Capitol\n",
      "PRICE 8.90\n",
      "YEAR 1983\n",
      "CD \n",
      "    \n",
      "TITLE Midt om natten\n",
      "ARTIST Kim Larsen\n",
      "COUNTRY EU\n",
      "COMPANY Medley\n",
      "PRICE 7.80\n",
      "YEAR 1983\n",
      "CD \n",
      "    \n",
      "TITLE Pavarotti Gala Concert\n",
      "ARTIST Luciano Pavarotti\n",
      "COUNTRY UK\n",
      "COMPANY DECCA\n",
      "PRICE 9.90\n",
      "YEAR 1991\n",
      "CD \n",
      "    \n",
      "TITLE The dock of the bay\n",
      "ARTIST Otis Redding\n",
      "COUNTRY USA\n",
      "COMPANY Stax Records\n",
      "PRICE 7.90\n",
      "YEAR 1968\n",
      "CD \n",
      "    \n",
      "TITLE Picture book\n",
      "ARTIST Simply Red\n",
      "COUNTRY EU\n",
      "COMPANY Elektra\n",
      "PRICE 7.20\n",
      "YEAR 1985\n",
      "CD \n",
      "    \n",
      "TITLE Red\n",
      "ARTIST The Communards\n",
      "COUNTRY UK\n",
      "COMPANY London\n",
      "PRICE 7.80\n",
      "YEAR 1987\n",
      "CD \n",
      "    \n",
      "TITLE Unchain my heart\n",
      "ARTIST Joe Cocker\n",
      "COUNTRY USA\n",
      "COMPANY EMI\n",
      "PRICE 8.20\n",
      "YEAR 1987\n"
     ]
    }
   ],
   "source": [
    "from xml.etree import ElementTree as ET\n",
    "\n",
    "tree=ET.parse('cd_catalog.xml')\n",
    "\n",
    "for x in tree.iter():\n",
    "    print (x.tag,x.text)"
   ]
  },
  {
   "cell_type": "markdown",
   "id": "e22ed90b",
   "metadata": {},
   "source": [
    "2. Affichez pour chaque CD : titre, artiste, pays, société, année."
   ]
  },
  {
   "cell_type": "markdown",
   "id": "b449e5ef",
   "metadata": {},
   "source": [
    "Réponse"
   ]
  },
  {
   "cell_type": "code",
   "execution_count": 39,
   "id": "0ee85351",
   "metadata": {
    "ExecuteTime": {
     "end_time": "2022-10-20T20:17:09.366436Z",
     "start_time": "2022-10-20T20:17:09.347954Z"
    },
    "slideshow": {
     "slide_type": ""
    }
   },
   "outputs": [
    {
     "name": "stdout",
     "output_type": "stream",
     "text": [
      "CATALOG \n",
      "  \n",
      "CD \n",
      "    \n",
      "TITLE Empire Burlesque\n",
      "ARTIST Bob Dylan\n",
      "COUNTRY USA\n",
      "COMPANY Columbia\n",
      "PRICE 10.90\n",
      "YEAR 1985\n",
      "CD \n",
      "    \n",
      "TITLE Hide your heart\n",
      "ARTIST Bonnie Tyler\n",
      "COUNTRY UK\n",
      "COMPANY CBS Records\n",
      "PRICE 9.90\n",
      "YEAR 1988\n",
      "CD \n",
      "    \n",
      "TITLE Greatest Hits\n",
      "ARTIST Dolly Parton\n",
      "COUNTRY USA\n",
      "COMPANY RCA\n",
      "PRICE 9.90\n",
      "YEAR 1982\n",
      "CD \n",
      "    \n",
      "TITLE Still got the blues\n",
      "ARTIST Gary Moore\n",
      "COUNTRY UK\n",
      "COMPANY Virgin records\n",
      "PRICE 10.20\n",
      "YEAR 1990\n",
      "CD \n",
      "    \n",
      "TITLE Eros\n",
      "ARTIST Eros Ramazzotti\n",
      "COUNTRY EU\n",
      "COMPANY BMG\n",
      "PRICE 9.90\n",
      "YEAR 1997\n",
      "CD \n",
      "    \n",
      "TITLE One night only\n",
      "ARTIST Bee Gees\n",
      "COUNTRY UK\n",
      "COMPANY Polydor\n",
      "PRICE 10.90\n",
      "YEAR 1998\n",
      "CD \n",
      "    \n",
      "TITLE Sylvias Mother\n",
      "ARTIST Dr.Hook\n",
      "COUNTRY UK\n",
      "COMPANY CBS\n",
      "PRICE 8.10\n",
      "YEAR 1973\n",
      "CD \n",
      "    \n",
      "TITLE Maggie May\n",
      "ARTIST Rod Stewart\n",
      "COUNTRY UK\n",
      "COMPANY Pickwick\n",
      "PRICE 8.50\n",
      "YEAR 1990\n",
      "CD \n",
      "    \n",
      "TITLE Romanza\n",
      "ARTIST Andrea Bocelli\n",
      "COUNTRY EU\n",
      "COMPANY Polydor\n",
      "PRICE 10.80\n",
      "YEAR 1996\n",
      "CD \n",
      "    \n",
      "TITLE When a man loves a woman\n",
      "ARTIST Percy Sledge\n",
      "COUNTRY USA\n",
      "COMPANY Atlantic\n",
      "PRICE 8.70\n",
      "YEAR 1987\n",
      "CD \n",
      "    \n",
      "TITLE Black angel\n",
      "ARTIST Savage Rose\n",
      "COUNTRY EU\n",
      "COMPANY Mega\n",
      "PRICE 10.90\n",
      "YEAR 1995\n",
      "CD \n",
      "    \n",
      "TITLE 1999 Grammy Nominees\n",
      "ARTIST Many\n",
      "COUNTRY USA\n",
      "COMPANY Grammy\n",
      "PRICE 10.20\n",
      "YEAR 1999\n",
      "CD \n",
      "    \n",
      "TITLE For the good times\n",
      "ARTIST Kenny Rogers\n",
      "COUNTRY UK\n",
      "COMPANY Mucik Master\n",
      "PRICE 8.70\n",
      "YEAR 1995\n",
      "CD \n",
      "    \n",
      "TITLE Big Willie style\n",
      "ARTIST Will Smith\n",
      "COUNTRY USA\n",
      "COMPANY Columbia\n",
      "PRICE 9.90\n",
      "YEAR 1997\n",
      "CD \n",
      "    \n",
      "TITLE Tupelo Honey\n",
      "ARTIST Van Morrison\n",
      "COUNTRY UK\n",
      "COMPANY Polydor\n",
      "PRICE 8.20\n",
      "YEAR 1971\n",
      "CD \n",
      "    \n",
      "TITLE Soulsville\n",
      "ARTIST Jorn Hoel\n",
      "COUNTRY Norway\n",
      "COMPANY WEA\n",
      "PRICE 7.90\n",
      "YEAR 1996\n",
      "CD \n",
      "    \n",
      "TITLE The very best of\n",
      "ARTIST Cat Stevens\n",
      "COUNTRY UK\n",
      "COMPANY Island\n",
      "PRICE 8.90\n",
      "YEAR 1990\n",
      "CD \n",
      "    \n",
      "TITLE Stop\n",
      "ARTIST Sam Brown\n",
      "COUNTRY UK\n",
      "COMPANY A and M\n",
      "PRICE 8.90\n",
      "YEAR 1988\n",
      "CD \n",
      "    \n",
      "TITLE Bridge of Spies\n",
      "ARTIST T'Pau\n",
      "COUNTRY UK\n",
      "COMPANY Siren\n",
      "PRICE 7.90\n",
      "YEAR 1987\n",
      "CD \n",
      "    \n",
      "TITLE Private Dancer\n",
      "ARTIST Tina Turner\n",
      "COUNTRY UK\n",
      "COMPANY Capitol\n",
      "PRICE 8.90\n",
      "YEAR 1983\n",
      "CD \n",
      "    \n",
      "TITLE Midt om natten\n",
      "ARTIST Kim Larsen\n",
      "COUNTRY EU\n",
      "COMPANY Medley\n",
      "PRICE 7.80\n",
      "YEAR 1983\n",
      "CD \n",
      "    \n",
      "TITLE Pavarotti Gala Concert\n",
      "ARTIST Luciano Pavarotti\n",
      "COUNTRY UK\n",
      "COMPANY DECCA\n",
      "PRICE 9.90\n",
      "YEAR 1991\n",
      "CD \n",
      "    \n",
      "TITLE The dock of the bay\n",
      "ARTIST Otis Redding\n",
      "COUNTRY USA\n",
      "COMPANY Stax Records\n",
      "PRICE 7.90\n",
      "YEAR 1968\n",
      "CD \n",
      "    \n",
      "TITLE Picture book\n",
      "ARTIST Simply Red\n",
      "COUNTRY EU\n",
      "COMPANY Elektra\n",
      "PRICE 7.20\n",
      "YEAR 1985\n",
      "CD \n",
      "    \n",
      "TITLE Red\n",
      "ARTIST The Communards\n",
      "COUNTRY UK\n",
      "COMPANY London\n",
      "PRICE 7.80\n",
      "YEAR 1987\n",
      "CD \n",
      "    \n",
      "TITLE Unchain my heart\n",
      "ARTIST Joe Cocker\n",
      "COUNTRY USA\n",
      "COMPANY EMI\n",
      "PRICE 8.20\n",
      "YEAR 1987\n"
     ]
    }
   ],
   "source": [
    "from xml.etree import ElementTree as ET\n",
    "def display_cd(entry):\n",
    "\n",
    "    tree=ET.parse(entry)\n",
    "\n",
    "    for x in tree.iter():\n",
    "        print (x.tag,x.text)\n",
    "display_cd('cd_catalog.xml')"
   ]
  },
  {
   "cell_type": "markdown",
   "id": "3c94c7d5",
   "metadata": {},
   "source": [
    "3. Affichez tous les CD des années 1980."
   ]
  },
  {
   "cell_type": "code",
   "execution_count": 41,
   "id": "0e5e7eca",
   "metadata": {
    "slideshow": {
     "slide_type": "slide"
    }
   },
   "outputs": [
    {
     "name": "stdout",
     "output_type": "stream",
     "text": [
      "TITLE Empire Burlesque\n",
      "ARTIST Bob Dylan\n",
      "COUNTRY USA\n",
      "COMPANY Columbia\n",
      "PRICE 10.90\n",
      "YEAR 1985\n",
      "TITLE Hide your heart\n",
      "ARTIST Bonnie Tyler\n",
      "COUNTRY UK\n",
      "COMPANY CBS Records\n",
      "PRICE 9.90\n",
      "YEAR 1988\n",
      "TITLE Greatest Hits\n",
      "ARTIST Dolly Parton\n",
      "COUNTRY USA\n",
      "COMPANY RCA\n",
      "PRICE 9.90\n",
      "YEAR 1982\n",
      "TITLE When a man loves a woman\n",
      "ARTIST Percy Sledge\n",
      "COUNTRY USA\n",
      "COMPANY Atlantic\n",
      "PRICE 8.70\n",
      "YEAR 1987\n",
      "TITLE Stop\n",
      "ARTIST Sam Brown\n",
      "COUNTRY UK\n",
      "COMPANY A and M\n",
      "PRICE 8.90\n",
      "YEAR 1988\n",
      "TITLE Bridge of Spies\n",
      "ARTIST T'Pau\n",
      "COUNTRY UK\n",
      "COMPANY Siren\n",
      "PRICE 7.90\n",
      "YEAR 1987\n",
      "TITLE Private Dancer\n",
      "ARTIST Tina Turner\n",
      "COUNTRY UK\n",
      "COMPANY Capitol\n",
      "PRICE 8.90\n",
      "YEAR 1983\n",
      "TITLE Midt om natten\n",
      "ARTIST Kim Larsen\n",
      "COUNTRY EU\n",
      "COMPANY Medley\n",
      "PRICE 7.80\n",
      "YEAR 1983\n",
      "TITLE Picture book\n",
      "ARTIST Simply Red\n",
      "COUNTRY EU\n",
      "COMPANY Elektra\n",
      "PRICE 7.20\n",
      "YEAR 1985\n",
      "TITLE Red\n",
      "ARTIST The Communards\n",
      "COUNTRY UK\n",
      "COMPANY London\n",
      "PRICE 7.80\n",
      "YEAR 1987\n",
      "TITLE Unchain my heart\n",
      "ARTIST Joe Cocker\n",
      "COUNTRY USA\n",
      "COMPANY EMI\n",
      "PRICE 8.20\n",
      "YEAR 1987\n"
     ]
    }
   ],
   "source": [
    "from xml.etree import ElementTree as ET\n",
    "import requests\n",
    "\n",
    "def affiche_cd_80(entry):\n",
    "    rq=requests.get(entry)\n",
    "    root=ET.fromstring(rq.text)\n",
    "    années=[\"1980\",\"1981\",\"1982\",\"1983\",\"1984\",\"1985\",\"1986\",\"1987\",\"1988\",\"1989\"]\n",
    "    for x in root:\n",
    "        if x[5].text in années:\n",
    "            for attributes in x:\n",
    "                print(attributes.tag,attributes.text)\n",
    "affiche_cd_80(urldata=json.load(f)\n",
    "    datas=data[:20])"
   ]
  },
  {
   "cell_type": "markdown",
   "id": "d395138d",
   "metadata": {},
   "source": [
    "4. Affichez tous les CD britanniques."
   ]
  },
  {
   "cell_type": "code",
   "execution_count": 42,
   "id": "bdc38ece",
   "metadata": {},
   "outputs": [
    {
     "name": "stdout",
     "output_type": "stream",
     "text": [
      "TITLE Hide your heart\n",
      "ARTIST Bonnie Tyler\n",
      "COUNTRY UK\n",
      "COMPANY CBS Records\n",
      "PRICE 9.90\n",
      "YEAR 1988\n",
      "TITLE Still got the blues\n",
      "ARTIST Gary Moore\n",
      "COUNTRY UK\n",
      "COMPANY Virgin records\n",
      "PRICE 10.20\n",
      "YEAR 1990\n",
      "TITLE One night only\n",
      "ARTIST Bee Gees\n",
      "COUNTRY UK\n",
      "COMPANY Polydor\n",
      "PRICE 10.90\n",
      "YEAR 1998\n",
      "TITLE Sylvias Mother\n",
      "ARTIST Dr.Hook\n",
      "COUNTRY UK\n",
      "COMPANY CBS\n",
      "PRICE 8.10\n",
      "YEAR 1973\n",
      "TITLE Maggie May\n",
      "ARTIST Rod Stewart\n",
      "COUNTRY UK\n",
      "COMPANY Pickwick\n",
      "PRICE 8.50\n",
      "YEAR 1990\n",
      "TITLE For the good times\n",
      "ARTIST Kenny Rogers\n",
      "COUNTRY UK\n",
      "COMPANY Mucik Master\n",
      "PRICE 8.70\n",
      "YEAR 1995\n",
      "TITLE Tupelo Honey\n",
      "ARTIST Van Morrison\n",
      "COUNTRY UK\n",
      "COMPANY Polydor\n",
      "PRICE 8.20\n",
      "YEAR 1971\n",
      "TITLE The very best of\n",
      "ARTIST Cat Stevens\n",
      "COUNTRY UK\n",
      "COMPANY Island\n",
      "PRICE 8.90\n",
      "YEAR 1990\n",
      "TITLE Stop\n",
      "ARTIST Sam Brown\n",
      "COUNTRY UK\n",
      "COMPANY A and M\n",
      "PRICE 8.90\n",
      "YEAR 1988\n",
      "TITLE Bridge of Spies\n",
      "ARTIST T'Pau\n",
      "COUNTRY UK\n",
      "COMPANY Siren\n",
      "PRICE 7.90\n",
      "YEAR 1987\n",
      "TITLE Private Dancer\n",
      "ARTIST Tina Turner\n",
      "COUNTRY UK\n",
      "COMPANY Capitol\n",
      "PRICE 8.90\n",
      "YEAR 1983\n",
      "TITLE Pavarotti Gala Concert\n",
      "ARTIST Luciano Pavarotti\n",
      "COUNTRY UK\n",
      "COMPANY DECCA\n",
      "PRICE 9.90\n",
      "YEAR 1991\n",
      "TITLE Red\n",
      "ARTIST The Communards\n",
      "COUNTRY UK\n",
      "COMPANY London\n",
      "PRICE 7.80\n",
      "YEAR 1987\n"
     ]
    }
   ],
   "source": [
    "from xml.etree import ElementTree as ET\n",
    "import requests\n",
    "\n",
    "def affiche_cd_UK(entry):\n",
    "    rq=requests.get(entry)\n",
    "    root=ET.fromstring(rq.text)\n",
    "    années=[\"1980\",\"1981\",\"1982\",\"1983\",\"1984\",\"1985\",\"1986\",\"1987\",\"1988\",\"1989\"]\n",
    "    for x in root:\n",
    "        if x[2].text == 'UK':\n",
    "            for attributes in x:\n",
    "                print(attributes.tag,attributes.text)\n",
    "\n",
    "affiche_cd_UK(url)\n",
    "\n"
   ]
  },
  {
   "cell_type": "markdown",
   "id": "4dda5235",
   "metadata": {},
   "source": [
    "# Exercice 3 - Analyser JSON"
   ]
  },
  {
   "cell_type": "markdown",
   "id": "c089cd6a",
   "metadata": {},
   "source": [
    "1. Obtenez le fichier des lieux de tournage à Paris sur :"
   ]
  },
  {
   "cell_type": "code",
   "execution_count": 52,
   "id": "de719209",
   "metadata": {
    "ExecuteTime": {
     "end_time": "2022-10-20T21:50:56.350197Z",
     "start_time": "2022-10-20T21:50:56.329487Z"
    }
   },
   "outputs": [],
   "source": [
    "from requests import Session\n",
    "s = Session()\n",
    "import json\n",
    "url = \"https://opendata.paris.fr/explore/dataset/lieux-de-tournage-a-paris/download/?format=json&timezone=Europe/Berlin&lang=fr\""
   ]
  },
  {
   "cell_type": "markdown",
   "id": "343174e2",
   "metadata": {},
   "source": [
    "Combien d'entrées avez-vous ?"
   ]
  },
  {
   "cell_type": "code",
   "execution_count": 72,
   "id": "dea40cca",
   "metadata": {},
   "outputs": [],
   "source": [
    "def get_json(url,file):\n",
    "    r=s.get(url)\n",
    "    with open(file, \"w\") as f:\n",
    "        f.write(r.text)"
   ]
  },
  {
   "cell_type": "code",
   "execution_count": 73,
   "id": "d7166dc7",
   "metadata": {},
   "outputs": [],
   "source": [
    "get_json(url,\"tournage.json\")\n",
    "# with open(\"tournage.json\",\"r\") as f:\n",
    "#     data=json.load(f)\n",
    "#     datas=data[:20]\n",
    "#     for p in datas:\n",
    "#         fields=p['fields']\n",
    "#         print(fields)"
   ]
  },
  {
   "cell_type": "code",
   "execution_count": 78,
   "id": "a2b607ee",
   "metadata": {},
   "outputs": [],
   "source": [
    "def len():\n",
    "    with open(\"tournage.json\",\"rt\") as f:\n",
    "        data=json.load(f)\n",
    "        cpt=0\n",
    "        for p in data:\n",
    "            cpt=cpt+1\n",
    "        print(cpt)"
   ]
  },
  {
   "cell_type": "code",
   "execution_count": 80,
   "id": "b8d881b2",
   "metadata": {},
   "outputs": [
    {
     "name": "stdout",
     "output_type": "stream",
     "text": [
      "10766\n"
     ]
    }
   ],
   "source": [
    "len()"
   ]
  },
  {
   "cell_type": "markdown",
   "id": "92c79a2d",
   "metadata": {},
   "source": [
    "Réponse"
   ]
  },
  {
   "cell_type": "markdown",
   "id": "4b6d23f6",
   "metadata": {},
   "source": [
    "2. Analysez le fichier JSON résultant pour afficher, pour toutes les entrées : directeur, titre, arrondissement, date de début, date de fin et coordonnées géographiques. Vous pouvez n'afficher que les 20 premières entrées, mais vous devez vérifier que vous êtes en mesure d'afficher toutes les entrées. Attention : certaines entrées peuvent avoir des problèmes..."
   ]
  },
  {
   "cell_type": "markdown",
   "id": "93529413",
   "metadata": {},
   "source": [
    "Réponse"
   ]
  },
  {
   "cell_type": "code",
   "execution_count": 53,
   "id": "811ea6cf",
   "metadata": {},
   "outputs": [],
   "source": [
    "def get_json(url,file):\n",
    "    r=s.get(url)\n",
    "    with open(file, \"w\") as f:\n",
    "        f.write(r.text)"
   ]
  },
  {
   "cell_type": "code",
   "execution_count": 55,
   "id": "123f8a2c",
   "metadata": {},
   "outputs": [
    {
     "name": "stdout",
     "output_type": "stream",
     "text": [
      "Directeur: MANDARIN PRODUCTION; Titre: TOUT S'EST BIEN PASSE; Arrondissement: 75013; Date de debut: 2020-08-20; Date de fin: 2020-08-21; Geo: [48.83566000015182, 2.348314535961912]\n",
      "Directeur: MANDARIN PRODUCTION; Titre: TOUT S'EST BIEN PASSE; Arrondissement: 75013; Date de debut: 2020-08-20; Date de fin: 2020-08-21; Geo: [48.83566000015182, 2.348314535961912]\n",
      "Directeur: MANDARIN PRODUCTION; Titre: TOUT S'EST BIEN PASSE; Arrondissement: 75013; Date de debut: 2020-08-20; Date de fin: 2020-08-21; Geo: [48.83566000015182, 2.348314535961912]\n",
      "Directeur: MANDARIN PRODUCTION; Titre: TOUT S'EST BIEN PASSE; Arrondissement: 75013; Date de debut: 2020-08-20; Date de fin: 2020-08-21; Geo: [48.83566000015182, 2.348314535961912]\n",
      "Directeur: MANDARIN PRODUCTION; Titre: TOUT S'EST BIEN PASSE; Arrondissement: 75013; Date de debut: 2020-08-20; Date de fin: 2020-08-21; Geo: [48.83566000015182, 2.348314535961912]\n",
      "Directeur: MANDARIN PRODUCTION; Titre: TOUT S'EST BIEN PASSE; Arrondissement: 75013; Date de debut: 2020-08-20; Date de fin: 2020-08-21; Geo: [48.83566000015182, 2.348314535961912]\n",
      "Directeur: MANDARIN PRODUCTION; Titre: TOUT S'EST BIEN PASSE; Arrondissement: 75013; Date de debut: 2020-08-20; Date de fin: 2020-08-21; Geo: [48.83566000015182, 2.348314535961912]\n",
      "Directeur: MANDARIN PRODUCTION; Titre: TOUT S'EST BIEN PASSE; Arrondissement: 75013; Date de debut: 2020-08-20; Date de fin: 2020-08-21; Geo: [48.83566000015182, 2.348314535961912]\n",
      "Directeur: MANDARIN PRODUCTION; Titre: TOUT S'EST BIEN PASSE; Arrondissement: 75013; Date de debut: 2020-08-20; Date de fin: 2020-08-21; Geo: [48.83566000015182, 2.348314535961912]\n",
      "Directeur: MANDARIN PRODUCTION; Titre: TOUT S'EST BIEN PASSE; Arrondissement: 75013; Date de debut: 2020-08-20; Date de fin: 2020-08-21; Geo: [48.83566000015182, 2.348314535961912]\n",
      "Directeur: MANDARIN PRODUCTION; Titre: TOUT S'EST BIEN PASSE; Arrondissement: 75013; Date de debut: 2020-08-20; Date de fin: 2020-08-21; Geo: [48.83566000015182, 2.348314535961912]\n",
      "Directeur: MANDARIN PRODUCTION; Titre: TOUT S'EST BIEN PASSE; Arrondissement: 75013; Date de debut: 2020-08-20; Date de fin: 2020-08-21; Geo: [48.83566000015182, 2.348314535961912]\n",
      "Directeur: MANDARIN PRODUCTION; Titre: TOUT S'EST BIEN PASSE; Arrondissement: 75013; Date de debut: 2020-08-20; Date de fin: 2020-08-21; Geo: [48.83566000015182, 2.348314535961912]\n",
      "Directeur: MANDARIN PRODUCTION; Titre: TOUT S'EST BIEN PASSE; Arrondissement: 75013; Date de debut: 2020-08-20; Date de fin: 2020-08-21; Geo: [48.83566000015182, 2.348314535961912]\n",
      "Directeur: CLCF (Conservatoire Libre du Cinéma Français); Titre: Ca ne va pas Supermarché; Arrondissement: 75014; Date de debut: 2020-08-23; Date de fin: 2020-08-23; Geo: [48.834766700812956, 2.3155230203915282]\n",
      "Directeur: CLCF (Conservatoire Libre du Cinéma Français); Titre: Ca ne va pas Supermarché; Arrondissement: 75014; Date de debut: 2020-08-23; Date de fin: 2020-08-23; Geo: [48.834766700812956, 2.3155230203915282]\n",
      "Directeur: CLCF (Conservatoire Libre du Cinéma Français); Titre: Ca ne va pas Supermarché; Arrondissement: 75014; Date de debut: 2020-08-23; Date de fin: 2020-08-23; Geo: [48.834766700812956, 2.3155230203915282]\n",
      "Directeur: CLCF (Conservatoire Libre du Cinéma Français); Titre: Ca ne va pas Supermarché; Arrondissement: 75014; Date de debut: 2020-08-23; Date de fin: 2020-08-23; Geo: [48.834766700812956, 2.3155230203915282]\n",
      "Directeur: CLCF (Conservatoire Libre du Cinéma Français); Titre: Ca ne va pas Supermarché; Arrondissement: 75014; Date de debut: 2020-08-23; Date de fin: 2020-08-23; Geo: [48.834766700812956, 2.3155230203915282]\n",
      "Directeur: CLCF (Conservatoire Libre du Cinéma Français); Titre: Ca ne va pas Supermarché; Arrondissement: 75014; Date de debut: 2020-08-23; Date de fin: 2020-08-23; Geo: [48.834766700812956, 2.3155230203915282]\n",
      "Directeur: CLCF (Conservatoire Libre du Cinéma Français); Titre: Ca ne va pas Supermarché; Arrondissement: 75014; Date de debut: 2020-08-23; Date de fin: 2020-08-23; Geo: [48.834766700812956, 2.3155230203915282]\n",
      "Directeur: CLCF (Conservatoire Libre du Cinéma Français); Titre: Ca ne va pas Supermarché; Arrondissement: 75014; Date de debut: 2020-08-23; Date de fin: 2020-08-23; Geo: [48.834766700812956, 2.3155230203915282]\n",
      "Directeur: CLCF (Conservatoire Libre du Cinéma Français); Titre: Ca ne va pas Supermarché; Arrondissement: 75014; Date de debut: 2020-08-23; Date de fin: 2020-08-23; Geo: [48.834766700812956, 2.3155230203915282]\n",
      "Directeur: CLCF (Conservatoire Libre du Cinéma Français); Titre: Ca ne va pas Supermarché; Arrondissement: 75014; Date de debut: 2020-08-23; Date de fin: 2020-08-23; Geo: [48.834766700812956, 2.3155230203915282]\n",
      "Directeur: CLCF (Conservatoire Libre du Cinéma Français); Titre: Ca ne va pas Supermarché; Arrondissement: 75014; Date de debut: 2020-08-23; Date de fin: 2020-08-23; Geo: [48.834766700812956, 2.3155230203915282]\n",
      "Directeur: CLCF (Conservatoire Libre du Cinéma Français); Titre: Ca ne va pas Supermarché; Arrondissement: 75014; Date de debut: 2020-08-23; Date de fin: 2020-08-23; Geo: [48.834766700812956, 2.3155230203915282]\n",
      "Directeur: CLCF (Conservatoire Libre du Cinéma Français); Titre: Ca ne va pas Supermarché; Arrondissement: 75014; Date de debut: 2020-08-23; Date de fin: 2020-08-23; Geo: [48.834766700812956, 2.3155230203915282]\n",
      "Directeur: CLCF (Conservatoire Libre du Cinéma Français); Titre: Ca ne va pas Supermarché; Arrondissement: 75014; Date de debut: 2020-08-23; Date de fin: 2020-08-23; Geo: [48.834766700812956, 2.3155230203915282]\n",
      "Directeur: CURIOSA FILMS; Titre: Une jeune fille qui va bien; Arrondissement: 75004; Date de debut: 2020-08-31; Date de fin: 2020-09-01; Geo: [48.854532879115084, 2.361693551812241]\n",
      "Directeur: CURIOSA FILMS; Titre: Une jeune fille qui va bien; Arrondissement: 75004; Date de debut: 2020-08-31; Date de fin: 2020-09-01; Geo: [48.854532879115084, 2.361693551812241]\n",
      "Directeur: CURIOSA FILMS; Titre: Une jeune fille qui va bien; Arrondissement: 75004; Date de debut: 2020-08-31; Date de fin: 2020-09-01; Geo: [48.854532879115084, 2.361693551812241]\n",
      "Directeur: CURIOSA FILMS; Titre: Une jeune fille qui va bien; Arrondissement: 75004; Date de debut: 2020-08-31; Date de fin: 2020-09-01; Geo: [48.854532879115084, 2.361693551812241]\n",
      "Directeur: CURIOSA FILMS; Titre: Une jeune fille qui va bien; Arrondissement: 75004; Date de debut: 2020-08-31; Date de fin: 2020-09-01; Geo: [48.854532879115084, 2.361693551812241]\n",
      "Directeur: CURIOSA FILMS; Titre: Une jeune fille qui va bien; Arrondissement: 75004; Date de debut: 2020-08-31; Date de fin: 2020-09-01; Geo: [48.854532879115084, 2.361693551812241]\n",
      "Directeur: CURIOSA FILMS; Titre: Une jeune fille qui va bien; Arrondissement: 75004; Date de debut: 2020-08-31; Date de fin: 2020-09-01; Geo: [48.854532879115084, 2.361693551812241]\n",
      "Directeur: CURIOSA FILMS; Titre: Une jeune fille qui va bien; Arrondissement: 75004; Date de debut: 2020-08-31; Date de fin: 2020-09-01; Geo: [48.854532879115084, 2.361693551812241]\n",
      "Directeur: CURIOSA FILMS; Titre: Une jeune fille qui va bien; Arrondissement: 75004; Date de debut: 2020-08-31; Date de fin: 2020-09-01; Geo: [48.854532879115084, 2.361693551812241]\n",
      "Directeur: CURIOSA FILMS; Titre: Une jeune fille qui va bien; Arrondissement: 75004; Date de debut: 2020-08-31; Date de fin: 2020-09-01; Geo: [48.854532879115084, 2.361693551812241]\n",
      "Directeur: CURIOSA FILMS; Titre: Une jeune fille qui va bien; Arrondissement: 75004; Date de debut: 2020-08-31; Date de fin: 2020-09-01; Geo: [48.854532879115084, 2.361693551812241]\n",
      "Directeur: CURIOSA FILMS; Titre: Une jeune fille qui va bien; Arrondissement: 75004; Date de debut: 2020-08-31; Date de fin: 2020-09-01; Geo: [48.854532879115084, 2.361693551812241]\n",
      "Directeur: CURIOSA FILMS; Titre: Une jeune fille qui va bien; Arrondissement: 75004; Date de debut: 2020-08-31; Date de fin: 2020-09-01; Geo: [48.854532879115084, 2.361693551812241]\n",
      "Directeur: CURIOSA FILMS; Titre: Une jeune fille qui va bien; Arrondissement: 75004; Date de debut: 2020-08-31; Date de fin: 2020-09-01; Geo: [48.854532879115084, 2.361693551812241]\n",
      "Directeur: BEAUBOURG STORIES; Titre: BALTHAZAR 23 et 24; Arrondissement: 75019; Date de debut: 2020-09-04; Date de fin: 2020-09-04; Geo: [48.882137854853696, 2.394658237731715]\n",
      "Directeur: BEAUBOURG STORIES; Titre: BALTHAZAR 23 et 24; Arrondissement: 75019; Date de debut: 2020-09-04; Date de fin: 2020-09-04; Geo: [48.882137854853696, 2.394658237731715]\n",
      "Directeur: BEAUBOURG STORIES; Titre: BALTHAZAR 23 et 24; Arrondissement: 75019; Date de debut: 2020-09-04; Date de fin: 2020-09-04; Geo: [48.882137854853696, 2.394658237731715]\n",
      "Directeur: BEAUBOURG STORIES; Titre: BALTHAZAR 23 et 24; Arrondissement: 75019; Date de debut: 2020-09-04; Date de fin: 2020-09-04; Geo: [48.882137854853696, 2.394658237731715]\n",
      "Directeur: BEAUBOURG STORIES; Titre: BALTHAZAR 23 et 24; Arrondissement: 75019; Date de debut: 2020-09-04; Date de fin: 2020-09-04; Geo: [48.882137854853696, 2.394658237731715]\n",
      "Directeur: BEAUBOURG STORIES; Titre: BALTHAZAR 23 et 24; Arrondissement: 75019; Date de debut: 2020-09-04; Date de fin: 2020-09-04; Geo: [48.882137854853696, 2.394658237731715]\n",
      "Directeur: BEAUBOURG STORIES; Titre: BALTHAZAR 23 et 24; Arrondissement: 75019; Date de debut: 2020-09-04; Date de fin: 2020-09-04; Geo: [48.882137854853696, 2.394658237731715]\n",
      "Directeur: BEAUBOURG STORIES; Titre: BALTHAZAR 23 et 24; Arrondissement: 75019; Date de debut: 2020-09-04; Date de fin: 2020-09-04; Geo: [48.882137854853696, 2.394658237731715]\n",
      "Directeur: BEAUBOURG STORIES; Titre: BALTHAZAR 23 et 24; Arrondissement: 75019; Date de debut: 2020-09-04; Date de fin: 2020-09-04; Geo: [48.882137854853696, 2.394658237731715]\n",
      "Directeur: BEAUBOURG STORIES; Titre: BALTHAZAR 23 et 24; Arrondissement: 75019; Date de debut: 2020-09-04; Date de fin: 2020-09-04; Geo: [48.882137854853696, 2.394658237731715]\n",
      "Directeur: BEAUBOURG STORIES; Titre: BALTHAZAR 23 et 24; Arrondissement: 75019; Date de debut: 2020-09-04; Date de fin: 2020-09-04; Geo: [48.882137854853696, 2.394658237731715]\n",
      "Directeur: BEAUBOURG STORIES; Titre: BALTHAZAR 23 et 24; Arrondissement: 75019; Date de debut: 2020-09-04; Date de fin: 2020-09-04; Geo: [48.882137854853696, 2.394658237731715]\n",
      "Directeur: BEAUBOURG STORIES; Titre: BALTHAZAR 23 et 24; Arrondissement: 75019; Date de debut: 2020-09-04; Date de fin: 2020-09-04; Geo: [48.882137854853696, 2.394658237731715]\n",
      "Directeur: BEAUBOURG STORIES; Titre: BALTHAZAR 23 et 24; Arrondissement: 75019; Date de debut: 2020-09-04; Date de fin: 2020-09-04; Geo: [48.882137854853696, 2.394658237731715]\n",
      "Directeur: EGO PRoductions; Titre: Alice NEVERS; Arrondissement: 75019; Date de debut: 2019-11-28; Date de fin: 2019-11-28; Geo: [48.87409539688338, 2.37525330605596]\n",
      "Directeur: EGO PRoductions; Titre: Alice NEVERS; Arrondissement: 75019; Date de debut: 2019-11-28; Date de fin: 2019-11-28; Geo: [48.87409539688338, 2.37525330605596]\n",
      "Directeur: EGO PRoductions; Titre: Alice NEVERS; Arrondissement: 75019; Date de debut: 2019-11-28; Date de fin: 2019-11-28; Geo: [48.87409539688338, 2.37525330605596]\n",
      "Directeur: EGO PRoductions; Titre: Alice NEVERS; Arrondissement: 75019; Date de debut: 2019-11-28; Date de fin: 2019-11-28; Geo: [48.87409539688338, 2.37525330605596]\n",
      "Directeur: EGO PRoductions; Titre: Alice NEVERS; Arrondissement: 75019; Date de debut: 2019-11-28; Date de fin: 2019-11-28; Geo: [48.87409539688338, 2.37525330605596]\n",
      "Directeur: EGO PRoductions; Titre: Alice NEVERS; Arrondissement: 75019; Date de debut: 2019-11-28; Date de fin: 2019-11-28; Geo: [48.87409539688338, 2.37525330605596]\n",
      "Directeur: EGO PRoductions; Titre: Alice NEVERS; Arrondissement: 75019; Date de debut: 2019-11-28; Date de fin: 2019-11-28; Geo: [48.87409539688338, 2.37525330605596]\n",
      "Directeur: EGO PRoductions; Titre: Alice NEVERS; Arrondissement: 75019; Date de debut: 2019-11-28; Date de fin: 2019-11-28; Geo: [48.87409539688338, 2.37525330605596]\n",
      "Directeur: EGO PRoductions; Titre: Alice NEVERS; Arrondissement: 75019; Date de debut: 2019-11-28; Date de fin: 2019-11-28; Geo: [48.87409539688338, 2.37525330605596]\n",
      "Directeur: EGO PRoductions; Titre: Alice NEVERS; Arrondissement: 75019; Date de debut: 2019-11-28; Date de fin: 2019-11-28; Geo: [48.87409539688338, 2.37525330605596]\n",
      "Directeur: EGO PRoductions; Titre: Alice NEVERS; Arrondissement: 75019; Date de debut: 2019-11-28; Date de fin: 2019-11-28; Geo: [48.87409539688338, 2.37525330605596]\n",
      "Directeur: EGO PRoductions; Titre: Alice NEVERS; Arrondissement: 75019; Date de debut: 2019-11-28; Date de fin: 2019-11-28; Geo: [48.87409539688338, 2.37525330605596]\n",
      "Directeur: EGO PRoductions; Titre: Alice NEVERS; Arrondissement: 75019; Date de debut: 2019-11-28; Date de fin: 2019-11-28; Geo: [48.87409539688338, 2.37525330605596]\n",
      "Directeur: EGO PRoductions; Titre: Alice NEVERS; Arrondissement: 75019; Date de debut: 2019-11-28; Date de fin: 2019-11-28; Geo: [48.87409539688338, 2.37525330605596]\n",
      "Directeur: Same Player; Titre: French Exit; Arrondissement: 75012; Date de debut: 2019-12-04; Date de fin: 2019-12-04; Geo: [48.850066976220155, 2.376518535230019]\n",
      "Directeur: Same Player; Titre: French Exit; Arrondissement: 75012; Date de debut: 2019-12-04; Date de fin: 2019-12-04; Geo: [48.850066976220155, 2.376518535230019]\n",
      "Directeur: Same Player; Titre: French Exit; Arrondissement: 75012; Date de debut: 2019-12-04; Date de fin: 2019-12-04; Geo: [48.850066976220155, 2.376518535230019]\n",
      "Directeur: Same Player; Titre: French Exit; Arrondissement: 75012; Date de debut: 2019-12-04; Date de fin: 2019-12-04; Geo: [48.850066976220155, 2.376518535230019]\n",
      "Directeur: Same Player; Titre: French Exit; Arrondissement: 75012; Date de debut: 2019-12-04; Date de fin: 2019-12-04; Geo: [48.850066976220155, 2.376518535230019]\n",
      "Directeur: Same Player; Titre: French Exit; Arrondissement: 75012; Date de debut: 2019-12-04; Date de fin: 2019-12-04; Geo: [48.850066976220155, 2.376518535230019]\n",
      "Directeur: Same Player; Titre: French Exit; Arrondissement: 75012; Date de debut: 2019-12-04; Date de fin: 2019-12-04; Geo: [48.850066976220155, 2.376518535230019]\n",
      "Directeur: Same Player; Titre: French Exit; Arrondissement: 75012; Date de debut: 2019-12-04; Date de fin: 2019-12-04; Geo: [48.850066976220155, 2.376518535230019]\n",
      "Directeur: Same Player; Titre: French Exit; Arrondissement: 75012; Date de debut: 2019-12-04; Date de fin: 2019-12-04; Geo: [48.850066976220155, 2.376518535230019]\n",
      "Directeur: Same Player; Titre: French Exit; Arrondissement: 75012; Date de debut: 2019-12-04; Date de fin: 2019-12-04; Geo: [48.850066976220155, 2.376518535230019]\n",
      "Directeur: Same Player; Titre: French Exit; Arrondissement: 75012; Date de debut: 2019-12-04; Date de fin: 2019-12-04; Geo: [48.850066976220155, 2.376518535230019]\n",
      "Directeur: Same Player; Titre: French Exit; Arrondissement: 75012; Date de debut: 2019-12-04; Date de fin: 2019-12-04; Geo: [48.850066976220155, 2.376518535230019]\n",
      "Directeur: Same Player; Titre: French Exit; Arrondissement: 75012; Date de debut: 2019-12-04; Date de fin: 2019-12-04; Geo: [48.850066976220155, 2.376518535230019]\n",
      "Directeur: Same Player; Titre: French Exit; Arrondissement: 75012; Date de debut: 2019-12-04; Date de fin: 2019-12-04; Geo: [48.850066976220155, 2.376518535230019]\n",
      "Directeur: COMME DES CINEMAS; Titre: FIN DE MATINEE; Arrondissement: 75004; Date de debut: 2018-11-05; Date de fin: 2018-11-05; Geo: [48.854112456125364, 2.354679386870978]\n",
      "Directeur: COMME DES CINEMAS; Titre: FIN DE MATINEE; Arrondissement: 75004; Date de debut: 2018-11-05; Date de fin: 2018-11-05; Geo: [48.854112456125364, 2.354679386870978]\n",
      "Directeur: COMME DES CINEMAS; Titre: FIN DE MATINEE; Arrondissement: 75004; Date de debut: 2018-11-05; Date de fin: 2018-11-05; Geo: [48.854112456125364, 2.354679386870978]\n",
      "Directeur: COMME DES CINEMAS; Titre: FIN DE MATINEE; Arrondissement: 75004; Date de debut: 2018-11-05; Date de fin: 2018-11-05; Geo: [48.854112456125364, 2.354679386870978]\n",
      "Directeur: COMME DES CINEMAS; Titre: FIN DE MATINEE; Arrondissement: 75004; Date de debut: 2018-11-05; Date de fin: 2018-11-05; Geo: [48.854112456125364, 2.354679386870978]\n",
      "Directeur: COMME DES CINEMAS; Titre: FIN DE MATINEE; Arrondissement: 75004; Date de debut: 2018-11-05; Date de fin: 2018-11-05; Geo: [48.854112456125364, 2.354679386870978]\n",
      "Directeur: COMME DES CINEMAS; Titre: FIN DE MATINEE; Arrondissement: 75004; Date de debut: 2018-11-05; Date de fin: 2018-11-05; Geo: [48.854112456125364, 2.354679386870978]\n",
      "Directeur: COMME DES CINEMAS; Titre: FIN DE MATINEE; Arrondissement: 75004; Date de debut: 2018-11-05; Date de fin: 2018-11-05; Geo: [48.854112456125364, 2.354679386870978]\n",
      "Directeur: COMME DES CINEMAS; Titre: FIN DE MATINEE; Arrondissement: 75004; Date de debut: 2018-11-05; Date de fin: 2018-11-05; Geo: [48.854112456125364, 2.354679386870978]\n",
      "Directeur: COMME DES CINEMAS; Titre: FIN DE MATINEE; Arrondissement: 75004; Date de debut: 2018-11-05; Date de fin: 2018-11-05; Geo: [48.854112456125364, 2.354679386870978]\n",
      "Directeur: COMME DES CINEMAS; Titre: FIN DE MATINEE; Arrondissement: 75004; Date de debut: 2018-11-05; Date de fin: 2018-11-05; Geo: [48.854112456125364, 2.354679386870978]\n",
      "Directeur: COMME DES CINEMAS; Titre: FIN DE MATINEE; Arrondissement: 75004; Date de debut: 2018-11-05; Date de fin: 2018-11-05; Geo: [48.854112456125364, 2.354679386870978]\n",
      "Directeur: COMME DES CINEMAS; Titre: FIN DE MATINEE; Arrondissement: 75004; Date de debut: 2018-11-05; Date de fin: 2018-11-05; Geo: [48.854112456125364, 2.354679386870978]\n",
      "Directeur: COMME DES CINEMAS; Titre: FIN DE MATINEE; Arrondissement: 75004; Date de debut: 2018-11-05; Date de fin: 2018-11-05; Geo: [48.854112456125364, 2.354679386870978]\n",
      "Directeur: ADNP QUAD FILMS; Titre: HORS NORMES; Arrondissement: 75001; Date de debut: 2018-11-05; Date de fin: 2018-11-06; Geo: [48.86574411603937, 2.327446234271997]\n",
      "Directeur: ADNP QUAD FILMS; Titre: HORS NORMES; Arrondissement: 75001; Date de debut: 2018-11-05; Date de fin: 2018-11-06; Geo: [48.86574411603937, 2.327446234271997]\n",
      "Directeur: ADNP QUAD FILMS; Titre: HORS NORMES; Arrondissement: 75001; Date de debut: 2018-11-05; Date de fin: 2018-11-06; Geo: [48.86574411603937, 2.327446234271997]\n",
      "Directeur: ADNP QUAD FILMS; Titre: HORS NORMES; Arrondissement: 75001; Date de debut: 2018-11-05; Date de fin: 2018-11-06; Geo: [48.86574411603937, 2.327446234271997]\n",
      "Directeur: ADNP QUAD FILMS; Titre: HORS NORMES; Arrondissement: 75001; Date de debut: 2018-11-05; Date de fin: 2018-11-06; Geo: [48.86574411603937, 2.327446234271997]\n",
      "Directeur: ADNP QUAD FILMS; Titre: HORS NORMES; Arrondissement: 75001; Date de debut: 2018-11-05; Date de fin: 2018-11-06; Geo: [48.86574411603937, 2.327446234271997]\n",
      "Directeur: ADNP QUAD FILMS; Titre: HORS NORMES; Arrondissement: 75001; Date de debut: 2018-11-05; Date de fin: 2018-11-06; Geo: [48.86574411603937, 2.327446234271997]\n",
      "Directeur: ADNP QUAD FILMS; Titre: HORS NORMES; Arrondissement: 75001; Date de debut: 2018-11-05; Date de fin: 2018-11-06; Geo: [48.86574411603937, 2.327446234271997]\n",
      "Directeur: ADNP QUAD FILMS; Titre: HORS NORMES; Arrondissement: 75001; Date de debut: 2018-11-05; Date de fin: 2018-11-06; Geo: [48.86574411603937, 2.327446234271997]\n",
      "Directeur: ADNP QUAD FILMS; Titre: HORS NORMES; Arrondissement: 75001; Date de debut: 2018-11-05; Date de fin: 2018-11-06; Geo: [48.86574411603937, 2.327446234271997]\n",
      "Directeur: ADNP QUAD FILMS; Titre: HORS NORMES; Arrondissement: 75001; Date de debut: 2018-11-05; Date de fin: 2018-11-06; Geo: [48.86574411603937, 2.327446234271997]\n",
      "Directeur: ADNP QUAD FILMS; Titre: HORS NORMES; Arrondissement: 75001; Date de debut: 2018-11-05; Date de fin: 2018-11-06; Geo: [48.86574411603937, 2.327446234271997]\n",
      "Directeur: ADNP QUAD FILMS; Titre: HORS NORMES; Arrondissement: 75001; Date de debut: 2018-11-05; Date de fin: 2018-11-06; Geo: [48.86574411603937, 2.327446234271997]\n",
      "Directeur: ADNP QUAD FILMS; Titre: HORS NORMES; Arrondissement: 75001; Date de debut: 2018-11-05; Date de fin: 2018-11-06; Geo: [48.86574411603937, 2.327446234271997]\n",
      "Directeur: Unité de Production; Titre: DOCTEUR ?; Arrondissement: 75019; Date de debut: 2019-03-07; Date de fin: 2019-03-12; Geo: [48.87746050395657, 2.402220186108582]\n",
      "Directeur: Unité de Production; Titre: DOCTEUR ?; Arrondissement: 75019; Date de debut: 2019-03-07; Date de fin: 2019-03-12; Geo: [48.87746050395657, 2.402220186108582]\n",
      "Directeur: Unité de Production; Titre: DOCTEUR ?; Arrondissement: 75019; Date de debut: 2019-03-07; Date de fin: 2019-03-12; Geo: [48.87746050395657, 2.402220186108582]\n",
      "Directeur: Unité de Production; Titre: DOCTEUR ?; Arrondissement: 75019; Date de debut: 2019-03-07; Date de fin: 2019-03-12; Geo: [48.87746050395657, 2.402220186108582]\n",
      "Directeur: Unité de Production; Titre: DOCTEUR ?; Arrondissement: 75019; Date de debut: 2019-03-07; Date de fin: 2019-03-12; Geo: [48.87746050395657, 2.402220186108582]\n",
      "Directeur: Unité de Production; Titre: DOCTEUR ?; Arrondissement: 75019; Date de debut: 2019-03-07; Date de fin: 2019-03-12; Geo: [48.87746050395657, 2.402220186108582]\n",
      "Directeur: Unité de Production; Titre: DOCTEUR ?; Arrondissement: 75019; Date de debut: 2019-03-07; Date de fin: 2019-03-12; Geo: [48.87746050395657, 2.402220186108582]\n",
      "Directeur: Unité de Production; Titre: DOCTEUR ?; Arrondissement: 75019; Date de debut: 2019-03-07; Date de fin: 2019-03-12; Geo: [48.87746050395657, 2.402220186108582]\n",
      "Directeur: Unité de Production; Titre: DOCTEUR ?; Arrondissement: 75019; Date de debut: 2019-03-07; Date de fin: 2019-03-12; Geo: [48.87746050395657, 2.402220186108582]\n",
      "Directeur: Unité de Production; Titre: DOCTEUR ?; Arrondissement: 75019; Date de debut: 2019-03-07; Date de fin: 2019-03-12; Geo: [48.87746050395657, 2.402220186108582]\n",
      "Directeur: Unité de Production; Titre: DOCTEUR ?; Arrondissement: 75019; Date de debut: 2019-03-07; Date de fin: 2019-03-12; Geo: [48.87746050395657, 2.402220186108582]\n",
      "Directeur: Unité de Production; Titre: DOCTEUR ?; Arrondissement: 75019; Date de debut: 2019-03-07; Date de fin: 2019-03-12; Geo: [48.87746050395657, 2.402220186108582]\n",
      "Directeur: Unité de Production; Titre: DOCTEUR ?; Arrondissement: 75019; Date de debut: 2019-03-07; Date de fin: 2019-03-12; Geo: [48.87746050395657, 2.402220186108582]\n",
      "Directeur: Unité de Production; Titre: DOCTEUR ?; Arrondissement: 75019; Date de debut: 2019-03-07; Date de fin: 2019-03-12; Geo: [48.87746050395657, 2.402220186108582]\n",
      "Directeur: MANDARIN FILMS; Titre: JOUR J; Arrondissement: 75012; Date de debut: 2016-08-08; Date de fin: 2016-08-08; Geo: [48.84692099973854, 2.400419999842282]\n",
      "Directeur: MANDARIN FILMS; Titre: JOUR J; Arrondissement: 75012; Date de debut: 2016-08-08; Date de fin: 2016-08-08; Geo: [48.84692099973854, 2.400419999842282]\n",
      "Directeur: MANDARIN FILMS; Titre: JOUR J; Arrondissement: 75012; Date de debut: 2016-08-08; Date de fin: 2016-08-08; Geo: [48.84692099973854, 2.400419999842282]\n",
      "Directeur: MANDARIN FILMS; Titre: JOUR J; Arrondissement: 75012; Date de debut: 2016-08-08; Date de fin: 2016-08-08; Geo: [48.84692099973854, 2.400419999842282]\n",
      "Directeur: MANDARIN FILMS; Titre: JOUR J; Arrondissement: 75012; Date de debut: 2016-08-08; Date de fin: 2016-08-08; Geo: [48.84692099973854, 2.400419999842282]\n",
      "Directeur: MANDARIN FILMS; Titre: JOUR J; Arrondissement: 75012; Date de debut: 2016-08-08; Date de fin: 2016-08-08; Geo: [48.84692099973854, 2.400419999842282]\n",
      "Directeur: MANDARIN FILMS; Titre: JOUR J; Arrondissement: 75012; Date de debut: 2016-08-08; Date de fin: 2016-08-08; Geo: [48.84692099973854, 2.400419999842282]\n",
      "Directeur: MANDARIN FILMS; Titre: JOUR J; Arrondissement: 75012; Date de debut: 2016-08-08; Date de fin: 2016-08-08; Geo: [48.84692099973854, 2.400419999842282]\n",
      "Directeur: MANDARIN FILMS; Titre: JOUR J; Arrondissement: 75012; Date de debut: 2016-08-08; Date de fin: 2016-08-08; Geo: [48.84692099973854, 2.400419999842282]\n",
      "Directeur: MANDARIN FILMS; Titre: JOUR J; Arrondissement: 75012; Date de debut: 2016-08-08; Date de fin: 2016-08-08; Geo: [48.84692099973854, 2.400419999842282]\n",
      "Directeur: MANDARIN FILMS; Titre: JOUR J; Arrondissement: 75012; Date de debut: 2016-08-08; Date de fin: 2016-08-08; Geo: [48.84692099973854, 2.400419999842282]\n",
      "Directeur: MANDARIN FILMS; Titre: JOUR J; Arrondissement: 75012; Date de debut: 2016-08-08; Date de fin: 2016-08-08; Geo: [48.84692099973854, 2.400419999842282]\n",
      "Directeur: MANDARIN FILMS; Titre: JOUR J; Arrondissement: 75012; Date de debut: 2016-08-08; Date de fin: 2016-08-08; Geo: [48.84692099973854, 2.400419999842282]\n",
      "Directeur: MANDARIN FILMS; Titre: JOUR J; Arrondissement: 75012; Date de debut: 2016-08-08; Date de fin: 2016-08-08; Geo: [48.84692099973854, 2.400419999842282]\n",
      "Directeur: LES COMPAGNONS DU CINEMA; Titre: LE REDOUTABLE; Arrondissement: 75014; Date de debut: 2016-08-08; Date de fin: 2016-08-08; Geo: [48.83379800034576, 2.3311989998791702]\n",
      "Directeur: LES COMPAGNONS DU CINEMA; Titre: LE REDOUTABLE; Arrondissement: 75014; Date de debut: 2016-08-08; Date de fin: 2016-08-08; Geo: [48.83379800034576, 2.3311989998791702]\n",
      "Directeur: LES COMPAGNONS DU CINEMA; Titre: LE REDOUTABLE; Arrondissement: 75014; Date de debut: 2016-08-08; Date de fin: 2016-08-08; Geo: [48.83379800034576, 2.3311989998791702]\n",
      "Directeur: LES COMPAGNONS DU CINEMA; Titre: LE REDOUTABLE; Arrondissement: 75014; Date de debut: 2016-08-08; Date de fin: 2016-08-08; Geo: [48.83379800034576, 2.3311989998791702]\n",
      "Directeur: LES COMPAGNONS DU CINEMA; Titre: LE REDOUTABLE; Arrondissement: 75014; Date de debut: 2016-08-08; Date de fin: 2016-08-08; Geo: [48.83379800034576, 2.3311989998791702]\n",
      "Directeur: LES COMPAGNONS DU CINEMA; Titre: LE REDOUTABLE; Arrondissement: 75014; Date de debut: 2016-08-08; Date de fin: 2016-08-08; Geo: [48.83379800034576, 2.3311989998791702]\n",
      "Directeur: LES COMPAGNONS DU CINEMA; Titre: LE REDOUTABLE; Arrondissement: 75014; Date de debut: 2016-08-08; Date de fin: 2016-08-08; Geo: [48.83379800034576, 2.3311989998791702]\n",
      "Directeur: LES COMPAGNONS DU CINEMA; Titre: LE REDOUTABLE; Arrondissement: 75014; Date de debut: 2016-08-08; Date de fin: 2016-08-08; Geo: [48.83379800034576, 2.3311989998791702]\n",
      "Directeur: LES COMPAGNONS DU CINEMA; Titre: LE REDOUTABLE; Arrondissement: 75014; Date de debut: 2016-08-08; Date de fin: 2016-08-08; Geo: [48.83379800034576, 2.3311989998791702]\n",
      "Directeur: LES COMPAGNONS DU CINEMA; Titre: LE REDOUTABLE; Arrondissement: 75014; Date de debut: 2016-08-08; Date de fin: 2016-08-08; Geo: [48.83379800034576, 2.3311989998791702]\n",
      "Directeur: LES COMPAGNONS DU CINEMA; Titre: LE REDOUTABLE; Arrondissement: 75014; Date de debut: 2016-08-08; Date de fin: 2016-08-08; Geo: [48.83379800034576, 2.3311989998791702]\n",
      "Directeur: LES COMPAGNONS DU CINEMA; Titre: LE REDOUTABLE; Arrondissement: 75014; Date de debut: 2016-08-08; Date de fin: 2016-08-08; Geo: [48.83379800034576, 2.3311989998791702]\n",
      "Directeur: LES COMPAGNONS DU CINEMA; Titre: LE REDOUTABLE; Arrondissement: 75014; Date de debut: 2016-08-08; Date de fin: 2016-08-08; Geo: [48.83379800034576, 2.3311989998791702]\n",
      "Directeur: LES COMPAGNONS DU CINEMA; Titre: LE REDOUTABLE; Arrondissement: 75014; Date de debut: 2016-08-08; Date de fin: 2016-08-08; Geo: [48.83379800034576, 2.3311989998791702]\n",
      "Directeur: BEAUBOUG AUDIOVISUEL; Titre: PROFILAGE/N°72; Arrondissement: 75016; Date de debut: 2016-07-19; Date de fin: 2016-07-19; Geo: [48.866602999687714, 2.261551999451395]\n",
      "Directeur: BEAUBOUG AUDIOVISUEL; Titre: PROFILAGE/N°72; Arrondissement: 75016; Date de debut: 2016-07-19; Date de fin: 2016-07-19; Geo: [48.866602999687714, 2.261551999451395]\n",
      "Directeur: BEAUBOUG AUDIOVISUEL; Titre: PROFILAGE/N°72; Arrondissement: 75016; Date de debut: 2016-07-19; Date de fin: 2016-07-19; Geo: [48.866602999687714, 2.261551999451395]\n",
      "Directeur: BEAUBOUG AUDIOVISUEL; Titre: PROFILAGE/N°72; Arrondissement: 75016; Date de debut: 2016-07-19; Date de fin: 2016-07-19; Geo: [48.866602999687714, 2.261551999451395]\n",
      "Directeur: BEAUBOUG AUDIOVISUEL; Titre: PROFILAGE/N°72; Arrondissement: 75016; Date de debut: 2016-07-19; Date de fin: 2016-07-19; Geo: [48.866602999687714, 2.261551999451395]\n",
      "Directeur: BEAUBOUG AUDIOVISUEL; Titre: PROFILAGE/N°72; Arrondissement: 75016; Date de debut: 2016-07-19; Date de fin: 2016-07-19; Geo: [48.866602999687714, 2.261551999451395]\n",
      "Directeur: BEAUBOUG AUDIOVISUEL; Titre: PROFILAGE/N°72; Arrondissement: 75016; Date de debut: 2016-07-19; Date de fin: 2016-07-19; Geo: [48.866602999687714, 2.261551999451395]\n",
      "Directeur: BEAUBOUG AUDIOVISUEL; Titre: PROFILAGE/N°72; Arrondissement: 75016; Date de debut: 2016-07-19; Date de fin: 2016-07-19; Geo: [48.866602999687714, 2.261551999451395]\n",
      "Directeur: BEAUBOUG AUDIOVISUEL; Titre: PROFILAGE/N°72; Arrondissement: 75016; Date de debut: 2016-07-19; Date de fin: 2016-07-19; Geo: [48.866602999687714, 2.261551999451395]\n",
      "Directeur: BEAUBOUG AUDIOVISUEL; Titre: PROFILAGE/N°72; Arrondissement: 75016; Date de debut: 2016-07-19; Date de fin: 2016-07-19; Geo: [48.866602999687714, 2.261551999451395]\n",
      "Directeur: BEAUBOUG AUDIOVISUEL; Titre: PROFILAGE/N°72; Arrondissement: 75016; Date de debut: 2016-07-19; Date de fin: 2016-07-19; Geo: [48.866602999687714, 2.261551999451395]\n",
      "Directeur: BEAUBOUG AUDIOVISUEL; Titre: PROFILAGE/N°72; Arrondissement: 75016; Date de debut: 2016-07-19; Date de fin: 2016-07-19; Geo: [48.866602999687714, 2.261551999451395]\n",
      "Directeur: BEAUBOUG AUDIOVISUEL; Titre: PROFILAGE/N°72; Arrondissement: 75016; Date de debut: 2016-07-19; Date de fin: 2016-07-19; Geo: [48.866602999687714, 2.261551999451395]\n",
      "Directeur: BEAUBOUG AUDIOVISUEL; Titre: PROFILAGE/N°72; Arrondissement: 75016; Date de debut: 2016-07-19; Date de fin: 2016-07-19; Geo: [48.866602999687714, 2.261551999451395]\n",
      "Directeur: FIRSTEP; Titre: BEFIKRE; Arrondissement: 75004; Date de debut: 2016-04-30; Date de fin: 2016-04-30; Geo: [48.85340500029624, 2.35820099983797]\n",
      "Directeur: FIRSTEP; Titre: BEFIKRE; Arrondissement: 75004; Date de debut: 2016-04-30; Date de fin: 2016-04-30; Geo: [48.85340500029624, 2.35820099983797]\n",
      "Directeur: FIRSTEP; Titre: BEFIKRE; Arrondissement: 75004; Date de debut: 2016-04-30; Date de fin: 2016-04-30; Geo: [48.85340500029624, 2.35820099983797]\n",
      "Directeur: FIRSTEP; Titre: BEFIKRE; Arrondissement: 75004; Date de debut: 2016-04-30; Date de fin: 2016-04-30; Geo: [48.85340500029624, 2.35820099983797]\n",
      "Directeur: FIRSTEP; Titre: BEFIKRE; Arrondissement: 75004; Date de debut: 2016-04-30; Date de fin: 2016-04-30; Geo: [48.85340500029624, 2.35820099983797]\n",
      "Directeur: FIRSTEP; Titre: BEFIKRE; Arrondissement: 75004; Date de debut: 2016-04-30; Date de fin: 2016-04-30; Geo: [48.85340500029624, 2.35820099983797]\n",
      "Directeur: FIRSTEP; Titre: BEFIKRE; Arrondissement: 75004; Date de debut: 2016-04-30; Date de fin: 2016-04-30; Geo: [48.85340500029624, 2.35820099983797]\n",
      "Directeur: FIRSTEP; Titre: BEFIKRE; Arrondissement: 75004; Date de debut: 2016-04-30; Date de fin: 2016-04-30; Geo: [48.85340500029624, 2.35820099983797]\n",
      "Directeur: FIRSTEP; Titre: BEFIKRE; Arrondissement: 75004; Date de debut: 2016-04-30; Date de fin: 2016-04-30; Geo: [48.85340500029624, 2.35820099983797]\n",
      "Directeur: FIRSTEP; Titre: BEFIKRE; Arrondissement: 75004; Date de debut: 2016-04-30; Date de fin: 2016-04-30; Geo: [48.85340500029624, 2.35820099983797]\n",
      "Directeur: FIRSTEP; Titre: BEFIKRE; Arrondissement: 75004; Date de debut: 2016-04-30; Date de fin: 2016-04-30; Geo: [48.85340500029624, 2.35820099983797]\n",
      "Directeur: FIRSTEP; Titre: BEFIKRE; Arrondissement: 75004; Date de debut: 2016-04-30; Date de fin: 2016-04-30; Geo: [48.85340500029624, 2.35820099983797]\n",
      "Directeur: FIRSTEP; Titre: BEFIKRE; Arrondissement: 75004; Date de debut: 2016-04-30; Date de fin: 2016-04-30; Geo: [48.85340500029624, 2.35820099983797]\n",
      "Directeur: FIRSTEP; Titre: BEFIKRE; Arrondissement: 75004; Date de debut: 2016-04-30; Date de fin: 2016-04-30; Geo: [48.85340500029624, 2.35820099983797]\n",
      "Directeur: RECTANGLE PRODUCTIONS; Titre: MARIE FRANCINE; Arrondissement: 75016; Date de debut: 2016-05-11; Date de fin: 2016-05-11; Geo: [48.854971999688495, 2.280207000423661]\n",
      "Directeur: RECTANGLE PRODUCTIONS; Titre: MARIE FRANCINE; Arrondissement: 75016; Date de debut: 2016-05-11; Date de fin: 2016-05-11; Geo: [48.854971999688495, 2.280207000423661]\n",
      "Directeur: RECTANGLE PRODUCTIONS; Titre: MARIE FRANCINE; Arrondissement: 75016; Date de debut: 2016-05-11; Date de fin: 2016-05-11; Geo: [48.854971999688495, 2.280207000423661]\n",
      "Directeur: RECTANGLE PRODUCTIONS; Titre: MARIE FRANCINE; Arrondissement: 75016; Date de debut: 2016-05-11; Date de fin: 2016-05-11; Geo: [48.854971999688495, 2.280207000423661]\n",
      "Directeur: RECTANGLE PRODUCTIONS; Titre: MARIE FRANCINE; Arrondissement: 75016; Date de debut: 2016-05-11; Date de fin: 2016-05-11; Geo: [48.854971999688495, 2.280207000423661]\n",
      "Directeur: RECTANGLE PRODUCTIONS; Titre: MARIE FRANCINE; Arrondissement: 75016; Date de debut: 2016-05-11; Date de fin: 2016-05-11; Geo: [48.854971999688495, 2.280207000423661]\n",
      "Directeur: RECTANGLE PRODUCTIONS; Titre: MARIE FRANCINE; Arrondissement: 75016; Date de debut: 2016-05-11; Date de fin: 2016-05-11; Geo: [48.854971999688495, 2.280207000423661]\n",
      "Directeur: RECTANGLE PRODUCTIONS; Titre: MARIE FRANCINE; Arrondissement: 75016; Date de debut: 2016-05-11; Date de fin: 2016-05-11; Geo: [48.854971999688495, 2.280207000423661]\n",
      "Directeur: RECTANGLE PRODUCTIONS; Titre: MARIE FRANCINE; Arrondissement: 75016; Date de debut: 2016-05-11; Date de fin: 2016-05-11; Geo: [48.854971999688495, 2.280207000423661]\n",
      "Directeur: RECTANGLE PRODUCTIONS; Titre: MARIE FRANCINE; Arrondissement: 75016; Date de debut: 2016-05-11; Date de fin: 2016-05-11; Geo: [48.854971999688495, 2.280207000423661]\n",
      "Directeur: RECTANGLE PRODUCTIONS; Titre: MARIE FRANCINE; Arrondissement: 75016; Date de debut: 2016-05-11; Date de fin: 2016-05-11; Geo: [48.854971999688495, 2.280207000423661]\n",
      "Directeur: RECTANGLE PRODUCTIONS; Titre: MARIE FRANCINE; Arrondissement: 75016; Date de debut: 2016-05-11; Date de fin: 2016-05-11; Geo: [48.854971999688495, 2.280207000423661]\n",
      "Directeur: RECTANGLE PRODUCTIONS; Titre: MARIE FRANCINE; Arrondissement: 75016; Date de debut: 2016-05-11; Date de fin: 2016-05-11; Geo: [48.854971999688495, 2.280207000423661]\n",
      "Directeur: RECTANGLE PRODUCTIONS; Titre: MARIE FRANCINE; Arrondissement: 75016; Date de debut: 2016-05-11; Date de fin: 2016-05-11; Geo: [48.854971999688495, 2.280207000423661]\n",
      "Directeur: FIRSTEP; Titre: BEFIKRE; Arrondissement: 75004; Date de debut: 2016-05-20; Date de fin: 2016-05-21; Geo: [48.85536799985887, 2.355792999719545]\n",
      "Directeur: FIRSTEP; Titre: BEFIKRE; Arrondissement: 75004; Date de debut: 2016-05-20; Date de fin: 2016-05-21; Geo: [48.85536799985887, 2.355792999719545]\n",
      "Directeur: FIRSTEP; Titre: BEFIKRE; Arrondissement: 75004; Date de debut: 2016-05-20; Date de fin: 2016-05-21; Geo: [48.85536799985887, 2.355792999719545]\n",
      "Directeur: FIRSTEP; Titre: BEFIKRE; Arrondissement: 75004; Date de debut: 2016-05-20; Date de fin: 2016-05-21; Geo: [48.85536799985887, 2.355792999719545]\n",
      "Directeur: FIRSTEP; Titre: BEFIKRE; Arrondissement: 75004; Date de debut: 2016-05-20; Date de fin: 2016-05-21; Geo: [48.85536799985887, 2.355792999719545]\n",
      "Directeur: FIRSTEP; Titre: BEFIKRE; Arrondissement: 75004; Date de debut: 2016-05-20; Date de fin: 2016-05-21; Geo: [48.85536799985887, 2.355792999719545]\n",
      "Directeur: FIRSTEP; Titre: BEFIKRE; Arrondissement: 75004; Date de debut: 2016-05-20; Date de fin: 2016-05-21; Geo: [48.85536799985887, 2.355792999719545]\n",
      "Directeur: FIRSTEP; Titre: BEFIKRE; Arrondissement: 75004; Date de debut: 2016-05-20; Date de fin: 2016-05-21; Geo: [48.85536799985887, 2.355792999719545]\n",
      "Directeur: FIRSTEP; Titre: BEFIKRE; Arrondissement: 75004; Date de debut: 2016-05-20; Date de fin: 2016-05-21; Geo: [48.85536799985887, 2.355792999719545]\n",
      "Directeur: FIRSTEP; Titre: BEFIKRE; Arrondissement: 75004; Date de debut: 2016-05-20; Date de fin: 2016-05-21; Geo: [48.85536799985887, 2.355792999719545]\n",
      "Directeur: FIRSTEP; Titre: BEFIKRE; Arrondissement: 75004; Date de debut: 2016-05-20; Date de fin: 2016-05-21; Geo: [48.85536799985887, 2.355792999719545]\n",
      "Directeur: FIRSTEP; Titre: BEFIKRE; Arrondissement: 75004; Date de debut: 2016-05-20; Date de fin: 2016-05-21; Geo: [48.85536799985887, 2.355792999719545]\n",
      "Directeur: FIRSTEP; Titre: BEFIKRE; Arrondissement: 75004; Date de debut: 2016-05-20; Date de fin: 2016-05-21; Geo: [48.85536799985887, 2.355792999719545]\n",
      "Directeur: FIRSTEP; Titre: BEFIKRE; Arrondissement: 75004; Date de debut: 2016-05-20; Date de fin: 2016-05-21; Geo: [48.85536799985887, 2.355792999719545]\n",
      "Directeur: Elephant Story; Titre: Rebecca; Arrondissement: 75020; Date de debut: 2020-09-08; Date de fin: 2020-09-08; Geo: [48.8663624772574, 2.406991209365245]\n",
      "Directeur: Elephant Story; Titre: Rebecca; Arrondissement: 75020; Date de debut: 2020-09-08; Date de fin: 2020-09-08; Geo: [48.8663624772574, 2.406991209365245]\n",
      "Directeur: Elephant Story; Titre: Rebecca; Arrondissement: 75020; Date de debut: 2020-09-08; Date de fin: 2020-09-08; Geo: [48.8663624772574, 2.406991209365245]\n",
      "Directeur: Elephant Story; Titre: Rebecca; Arrondissement: 75020; Date de debut: 2020-09-08; Date de fin: 2020-09-08; Geo: [48.8663624772574, 2.406991209365245]\n",
      "Directeur: Elephant Story; Titre: Rebecca; Arrondissement: 75020; Date de debut: 2020-09-08; Date de fin: 2020-09-08; Geo: [48.8663624772574, 2.406991209365245]\n",
      "Directeur: Elephant Story; Titre: Rebecca; Arrondissement: 75020; Date de debut: 2020-09-08; Date de fin: 2020-09-08; Geo: [48.8663624772574, 2.406991209365245]\n",
      "Directeur: Elephant Story; Titre: Rebecca; Arrondissement: 75020; Date de debut: 2020-09-08; Date de fin: 2020-09-08; Geo: [48.8663624772574, 2.406991209365245]\n",
      "Directeur: Elephant Story; Titre: Rebecca; Arrondissement: 75020; Date de debut: 2020-09-08; Date de fin: 2020-09-08; Geo: [48.8663624772574, 2.406991209365245]\n",
      "Directeur: Elephant Story; Titre: Rebecca; Arrondissement: 75020; Date de debut: 2020-09-08; Date de fin: 2020-09-08; Geo: [48.8663624772574, 2.406991209365245]\n",
      "Directeur: Elephant Story; Titre: Rebecca; Arrondissement: 75020; Date de debut: 2020-09-08; Date de fin: 2020-09-08; Geo: [48.8663624772574, 2.406991209365245]\n",
      "Directeur: Elephant Story; Titre: Rebecca; Arrondissement: 75020; Date de debut: 2020-09-08; Date de fin: 2020-09-08; Geo: [48.8663624772574, 2.406991209365245]\n",
      "Directeur: Elephant Story; Titre: Rebecca; Arrondissement: 75020; Date de debut: 2020-09-08; Date de fin: 2020-09-08; Geo: [48.8663624772574, 2.406991209365245]\n",
      "Directeur: Elephant Story; Titre: Rebecca; Arrondissement: 75020; Date de debut: 2020-09-08; Date de fin: 2020-09-08; Geo: [48.8663624772574, 2.406991209365245]\n",
      "Directeur: Elephant Story; Titre: Rebecca; Arrondissement: 75020; Date de debut: 2020-09-08; Date de fin: 2020-09-08; Geo: [48.8663624772574, 2.406991209365245]\n",
      "Directeur: BEAUBOURG STORIES; Titre: BALTHAZAR 23 et 24; Arrondissement: 75012; Date de debut: 2020-09-11; Date de fin: 2020-09-11; Geo: [48.83396588870804, 2.395680539613725]\n",
      "Directeur: BEAUBOURG STORIES; Titre: BALTHAZAR 23 et 24; Arrondissement: 75012; Date de debut: 2020-09-11; Date de fin: 2020-09-11; Geo: [48.83396588870804, 2.395680539613725]\n",
      "Directeur: BEAUBOURG STORIES; Titre: BALTHAZAR 23 et 24; Arrondissement: 75012; Date de debut: 2020-09-11; Date de fin: 2020-09-11; Geo: [48.83396588870804, 2.395680539613725]\n",
      "Directeur: BEAUBOURG STORIES; Titre: BALTHAZAR 23 et 24; Arrondissement: 75012; Date de debut: 2020-09-11; Date de fin: 2020-09-11; Geo: [48.83396588870804, 2.395680539613725]\n",
      "Directeur: BEAUBOURG STORIES; Titre: BALTHAZAR 23 et 24; Arrondissement: 75012; Date de debut: 2020-09-11; Date de fin: 2020-09-11; Geo: [48.83396588870804, 2.395680539613725]\n",
      "Directeur: BEAUBOURG STORIES; Titre: BALTHAZAR 23 et 24; Arrondissement: 75012; Date de debut: 2020-09-11; Date de fin: 2020-09-11; Geo: [48.83396588870804, 2.395680539613725]\n",
      "Directeur: BEAUBOURG STORIES; Titre: BALTHAZAR 23 et 24; Arrondissement: 75012; Date de debut: 2020-09-11; Date de fin: 2020-09-11; Geo: [48.83396588870804, 2.395680539613725]\n",
      "Directeur: BEAUBOURG STORIES; Titre: BALTHAZAR 23 et 24; Arrondissement: 75012; Date de debut: 2020-09-11; Date de fin: 2020-09-11; Geo: [48.83396588870804, 2.395680539613725]\n",
      "Directeur: BEAUBOURG STORIES; Titre: BALTHAZAR 23 et 24; Arrondissement: 75012; Date de debut: 2020-09-11; Date de fin: 2020-09-11; Geo: [48.83396588870804, 2.395680539613725]\n",
      "Directeur: BEAUBOURG STORIES; Titre: BALTHAZAR 23 et 24; Arrondissement: 75012; Date de debut: 2020-09-11; Date de fin: 2020-09-11; Geo: [48.83396588870804, 2.395680539613725]\n",
      "Directeur: BEAUBOURG STORIES; Titre: BALTHAZAR 23 et 24; Arrondissement: 75012; Date de debut: 2020-09-11; Date de fin: 2020-09-11; Geo: [48.83396588870804, 2.395680539613725]\n",
      "Directeur: BEAUBOURG STORIES; Titre: BALTHAZAR 23 et 24; Arrondissement: 75012; Date de debut: 2020-09-11; Date de fin: 2020-09-11; Geo: [48.83396588870804, 2.395680539613725]\n",
      "Directeur: BEAUBOURG STORIES; Titre: BALTHAZAR 23 et 24; Arrondissement: 75012; Date de debut: 2020-09-11; Date de fin: 2020-09-11; Geo: [48.83396588870804, 2.395680539613725]\n",
      "Directeur: BEAUBOURG STORIES; Titre: BALTHAZAR 23 et 24; Arrondissement: 75012; Date de debut: 2020-09-11; Date de fin: 2020-09-11; Geo: [48.83396588870804, 2.395680539613725]\n",
      "Directeur: MANEKI FILMS; Titre: UN VOYAGE EN HIVER; Arrondissement: 75010; Date de debut: 2019-03-15; Date de fin: 2019-03-15; Geo: [48.875747374601566, 2.359590815515516]\n",
      "Directeur: MANEKI FILMS; Titre: UN VOYAGE EN HIVER; Arrondissement: 75010; Date de debut: 2019-03-15; Date de fin: 2019-03-15; Geo: [48.875747374601566, 2.359590815515516]\n",
      "Directeur: MANEKI FILMS; Titre: UN VOYAGE EN HIVER; Arrondissement: 75010; Date de debut: 2019-03-15; Date de fin: 2019-03-15; Geo: [48.875747374601566, 2.359590815515516]\n",
      "Directeur: MANEKI FILMS; Titre: UN VOYAGE EN HIVER; Arrondissement: 75010; Date de debut: 2019-03-15; Date de fin: 2019-03-15; Geo: [48.875747374601566, 2.359590815515516]\n",
      "Directeur: MANEKI FILMS; Titre: UN VOYAGE EN HIVER; Arrondissement: 75010; Date de debut: 2019-03-15; Date de fin: 2019-03-15; Geo: [48.875747374601566, 2.359590815515516]\n",
      "Directeur: MANEKI FILMS; Titre: UN VOYAGE EN HIVER; Arrondissement: 75010; Date de debut: 2019-03-15; Date de fin: 2019-03-15; Geo: [48.875747374601566, 2.359590815515516]\n",
      "Directeur: MANEKI FILMS; Titre: UN VOYAGE EN HIVER; Arrondissement: 75010; Date de debut: 2019-03-15; Date de fin: 2019-03-15; Geo: [48.875747374601566, 2.359590815515516]\n",
      "Directeur: MANEKI FILMS; Titre: UN VOYAGE EN HIVER; Arrondissement: 75010; Date de debut: 2019-03-15; Date de fin: 2019-03-15; Geo: [48.875747374601566, 2.359590815515516]\n",
      "Directeur: MANEKI FILMS; Titre: UN VOYAGE EN HIVER; Arrondissement: 75010; Date de debut: 2019-03-15; Date de fin: 2019-03-15; Geo: [48.875747374601566, 2.359590815515516]\n",
      "Directeur: MANEKI FILMS; Titre: UN VOYAGE EN HIVER; Arrondissement: 75010; Date de debut: 2019-03-15; Date de fin: 2019-03-15; Geo: [48.875747374601566, 2.359590815515516]\n",
      "Directeur: MANEKI FILMS; Titre: UN VOYAGE EN HIVER; Arrondissement: 75010; Date de debut: 2019-03-15; Date de fin: 2019-03-15; Geo: [48.875747374601566, 2.359590815515516]\n",
      "Directeur: MANEKI FILMS; Titre: UN VOYAGE EN HIVER; Arrondissement: 75010; Date de debut: 2019-03-15; Date de fin: 2019-03-15; Geo: [48.875747374601566, 2.359590815515516]\n",
      "Directeur: MANEKI FILMS; Titre: UN VOYAGE EN HIVER; Arrondissement: 75010; Date de debut: 2019-03-15; Date de fin: 2019-03-15; Geo: [48.875747374601566, 2.359590815515516]\n",
      "Directeur: MANEKI FILMS; Titre: UN VOYAGE EN HIVER; Arrondissement: 75010; Date de debut: 2019-03-15; Date de fin: 2019-03-15; Geo: [48.875747374601566, 2.359590815515516]\n",
      "Directeur: Unité de Production; Titre: DOCTEUR ?; Arrondissement: 75009; Date de debut: 2019-03-12; Date de fin: 2019-03-16; Geo: [48.881759025756374, 2.349664260235551]\n",
      "Directeur: Unité de Production; Titre: DOCTEUR ?; Arrondissement: 75009; Date de debut: 2019-03-12; Date de fin: 2019-03-16; Geo: [48.881759025756374, 2.349664260235551]\n",
      "Directeur: Unité de Production; Titre: DOCTEUR ?; Arrondissement: 75009; Date de debut: 2019-03-12; Date de fin: 2019-03-16; Geo: [48.881759025756374, 2.349664260235551]\n",
      "Directeur: Unité de Production; Titre: DOCTEUR ?; Arrondissement: 75009; Date de debut: 2019-03-12; Date de fin: 2019-03-16; Geo: [48.881759025756374, 2.349664260235551]\n",
      "Directeur: Unité de Production; Titre: DOCTEUR ?; Arrondissement: 75009; Date de debut: 2019-03-12; Date de fin: 2019-03-16; Geo: [48.881759025756374, 2.349664260235551]\n",
      "Directeur: Unité de Production; Titre: DOCTEUR ?; Arrondissement: 75009; Date de debut: 2019-03-12; Date de fin: 2019-03-16; Geo: [48.881759025756374, 2.349664260235551]\n",
      "Directeur: Unité de Production; Titre: DOCTEUR ?; Arrondissement: 75009; Date de debut: 2019-03-12; Date de fin: 2019-03-16; Geo: [48.881759025756374, 2.349664260235551]\n",
      "Directeur: Unité de Production; Titre: DOCTEUR ?; Arrondissement: 75009; Date de debut: 2019-03-12; Date de fin: 2019-03-16; Geo: [48.881759025756374, 2.349664260235551]\n",
      "Directeur: Unité de Production; Titre: DOCTEUR ?; Arrondissement: 75009; Date de debut: 2019-03-12; Date de fin: 2019-03-16; Geo: [48.881759025756374, 2.349664260235551]\n",
      "Directeur: Unité de Production; Titre: DOCTEUR ?; Arrondissement: 75009; Date de debut: 2019-03-12; Date de fin: 2019-03-16; Geo: [48.881759025756374, 2.349664260235551]\n",
      "Directeur: Unité de Production; Titre: DOCTEUR ?; Arrondissement: 75009; Date de debut: 2019-03-12; Date de fin: 2019-03-16; Geo: [48.881759025756374, 2.349664260235551]\n",
      "Directeur: Unité de Production; Titre: DOCTEUR ?; Arrondissement: 75009; Date de debut: 2019-03-12; Date de fin: 2019-03-16; Geo: [48.881759025756374, 2.349664260235551]\n",
      "Directeur: Unité de Production; Titre: DOCTEUR ?; Arrondissement: 75009; Date de debut: 2019-03-12; Date de fin: 2019-03-16; Geo: [48.881759025756374, 2.349664260235551]\n",
      "Directeur: Unité de Production; Titre: DOCTEUR ?; Arrondissement: 75009; Date de debut: 2019-03-12; Date de fin: 2019-03-16; Geo: [48.881759025756374, 2.349664260235551]\n",
      "Directeur: MERLIN PRODUCTIONS; Titre: CLEM; Arrondissement: 75019; Date de debut: 2019-01-21; Date de fin: 2019-01-21; Geo: [48.88090776085297, 2.3912097163388]\n",
      "Directeur: MERLIN PRODUCTIONS; Titre: CLEM; Arrondissement: 75019; Date de debut: 2019-01-21; Date de fin: 2019-01-21; Geo: [48.88090776085297, 2.3912097163388]\n",
      "Directeur: MERLIN PRODUCTIONS; Titre: CLEM; Arrondissement: 75019; Date de debut: 2019-01-21; Date de fin: 2019-01-21; Geo: [48.88090776085297, 2.3912097163388]\n",
      "Directeur: MERLIN PRODUCTIONS; Titre: CLEM; Arrondissement: 75019; Date de debut: 2019-01-21; Date de fin: 2019-01-21; Geo: [48.88090776085297, 2.3912097163388]\n",
      "Directeur: MERLIN PRODUCTIONS; Titre: CLEM; Arrondissement: 75019; Date de debut: 2019-01-21; Date de fin: 2019-01-21; Geo: [48.88090776085297, 2.3912097163388]\n",
      "Directeur: MERLIN PRODUCTIONS; Titre: CLEM; Arrondissement: 75019; Date de debut: 2019-01-21; Date de fin: 2019-01-21; Geo: [48.88090776085297, 2.3912097163388]\n",
      "Directeur: MERLIN PRODUCTIONS; Titre: CLEM; Arrondissement: 75019; Date de debut: 2019-01-21; Date de fin: 2019-01-21; Geo: [48.88090776085297, 2.3912097163388]\n",
      "Directeur: MERLIN PRODUCTIONS; Titre: CLEM; Arrondissement: 75019; Date de debut: 2019-01-21; Date de fin: 2019-01-21; Geo: [48.88090776085297, 2.3912097163388]\n",
      "Directeur: MERLIN PRODUCTIONS; Titre: CLEM; Arrondissement: 75019; Date de debut: 2019-01-21; Date de fin: 2019-01-21; Geo: [48.88090776085297, 2.3912097163388]\n",
      "Directeur: MERLIN PRODUCTIONS; Titre: CLEM; Arrondissement: 75019; Date de debut: 2019-01-21; Date de fin: 2019-01-21; Geo: [48.88090776085297, 2.3912097163388]\n",
      "Directeur: MERLIN PRODUCTIONS; Titre: CLEM; Arrondissement: 75019; Date de debut: 2019-01-21; Date de fin: 2019-01-21; Geo: [48.88090776085297, 2.3912097163388]\n",
      "Directeur: MERLIN PRODUCTIONS; Titre: CLEM; Arrondissement: 75019; Date de debut: 2019-01-21; Date de fin: 2019-01-21; Geo: [48.88090776085297, 2.3912097163388]\n",
      "Directeur: MERLIN PRODUCTIONS; Titre: CLEM; Arrondissement: 75019; Date de debut: 2019-01-21; Date de fin: 2019-01-21; Geo: [48.88090776085297, 2.3912097163388]\n",
      "Directeur: MERLIN PRODUCTIONS; Titre: CLEM; Arrondissement: 75019; Date de debut: 2019-01-21; Date de fin: 2019-01-21; Geo: [48.88090776085297, 2.3912097163388]\n"
     ]
    }
   ],
   "source": [
    "with open(\"tournage.json\",\"rt\") as f:\n",
    "    data=json.load(f)\n",
    "    datas=data[:20]\n",
    "    #print(data[:20])\n",
    "    for p in datas:\n",
    "        fields=p['fields']#on charge le champ de donnée\n",
    "        print('\\n'.join( f\"Directeur: {fields['nom_producteur']}; Titre: {fields['nom_tournage']}; Arrondissement: {fields['ardt_lieu']}; Date de debut: {fields['date_debut']}; Date de fin: {fields['date_fin']}; Geo: {fields['geo_point_2d']}\" for p in fields))"
   ]
  },
  {
   "cell_type": "markdown",
   "id": "c31bb085",
   "metadata": {},
   "source": [
    "3. Affichez pour chaque film (il peut y avoir plusieurs entrées pour le même film) le réalisateur, les dates de tournage et les lieux de tournage. Vous pouvez n'afficher que les 20 premiers films, mais vous devez vérifier que vous êtes en mesure d'afficher tous les films."
   ]
  },
  {
   "cell_type": "code",
   "execution_count": 79,
   "id": "5cca125b",
   "metadata": {
    "ExecuteTime": {
     "end_time": "2022-10-20T21:51:11.735990Z",
     "start_time": "2022-10-20T21:51:11.718548Z"
    }
   },
   "outputs": [
    {
     "name": "stdout",
     "output_type": "stream",
     "text": [
      "10766\n"
     ]
    }
   ],
   "source": [
    "len()"
   ]
  },
  {
   "cell_type": "code",
   "execution_count": 46,
   "id": "26b71696",
   "metadata": {},
   "outputs": [],
   "source": [
    "with open(\"tournage.json\",\"rt\") as f:\n",
    "    data=json.load(f)\n",
    "    datas=data[:20]\n",
    "    dico=dict()\n",
    "    #print(data[:20])\n",
    "    for p in datas:\n",
    "        fields=p['fields']#on charge le champ de donnée\n",
    "        #si dans le dico\n",
    "        if str(fields['nom_tournage']) in dico:\n",
    "            l=dico[fields['nom_tournage']]\n",
    "            #partie producteur\n",
    "            x=False\n",
    "            for a in l[0]:\n",
    "                if a==str(fields['nom_producteur']):\n",
    "                    x=True\n",
    "                    break\n",
    "            if x==False:\n",
    "                l[0]=l[0]+str(fields['nom_producteur'])\n",
    "            #partie dates\n",
    "            x=False\n",
    "            for a in l[1]:\n",
    "                if a==str(fields['date_debut']+\" à \"+fields['date_fin']):\n",
    "                    x=True\n",
    "                    break\n",
    "            if x==False:\n",
    "                l[1]=l[1]+str(fields['date_debut']+\" à \"+fields['date_fin']+\" \")\n",
    "            #partie lieux\n",
    "            x=False\n",
    "            for a in l[2]:\n",
    "                if a==str(fields['adresse_lieu']):\n",
    "                    x=True\n",
    "                    break\n",
    "            if x==False:\n",
    "                l[2]=l[2]+str(fields['adresse_lieu'])\n",
    "            dico[str(fields['nom_tournage'])]=l\n",
    "        #sinon\n",
    "        else:\n",
    "            l=[[],[],[]]\n",
    "            l[0]=str(fields['nom_producteur'])\n",
    "            l[1]=str(fields['date_debut']+\" à \"+fields['date_fin'])\n",
    "            l[2]=str(fields['adresse_lieu'])\n",
    "            dico[str(fields['nom_tournage'])]=l\n",
    "        \n",
    "        for b in dico.items():\n",
    "            print(b)"
   ]
  },
  {
   "cell_type": "markdown",
   "id": "6188458f",
   "metadata": {},
   "source": [
    "4. Afficher pour chaque arrondissement son nombre de tournages."
   ]
  },
  {
   "cell_type": "code",
   "execution_count": 70,
   "id": "e8e56f5a",
   "metadata": {},
   "outputs": [],
   "source": [
    "def stats():\n",
    "    with open(\"tournage.json\",\"r\") as f:\n",
    "        data=json.load(f)\n",
    "        datas=data[:20]\n",
    "        dico=dict()\n",
    "        for p in data:\n",
    "            fields=p['fields']\n",
    "            try:\n",
    "                if fields['ardt_lieu']in dico:\n",
    "                    dico[fields['ardt_lieu']]=dico[fields['ardt_lieu']]+1\n",
    "                else:\n",
    "                    dico[fields['ardt_lieu']]=1\n",
    "            except Exception:\n",
    "                if \"???\" in dico:\n",
    "                    dico[\"???\"]=dico[\"???\"]+1\n",
    "                else:\n",
    "                    dico[\"???\"]=1\n",
    "        for b in dico.items():\n",
    "            print(b)"
   ]
  },
  {
   "cell_type": "code",
   "execution_count": 71,
   "id": "bbf057c8",
   "metadata": {
    "ExecuteTime": {
     "end_time": "2022-10-20T21:51:25.200847Z",
     "start_time": "2022-10-20T21:51:25.179842Z"
    }
   },
   "outputs": [
    {
     "name": "stdout",
     "output_type": "stream",
     "text": [
      "('75013', 565)\n",
      "('75014', 293)\n",
      "('75004', 590)\n",
      "('75019', 679)\n",
      "('75012', 526)\n",
      "('75001', 633)\n",
      "('75016', 546)\n",
      "('75020', 531)\n",
      "('75010', 677)\n",
      "('75009', 580)\n",
      "('75008', 654)\n",
      "('75017', 342)\n",
      "('75018', 915)\n",
      "('75006', 404)\n",
      "('75003', 219)\n",
      "('75011', 521)\n",
      "('75116', 351)\n",
      "('75002', 260)\n",
      "('75007', 562)\n",
      "('75005', 601)\n",
      "('75015', 305)\n",
      "('93500', 4)\n",
      "('94320', 4)\n",
      "('93200', 1)\n",
      "('92220', 1)\n",
      "('???', 1)\n",
      "('93320', 1)\n"
     ]
    }
   ],
   "source": [
    "stats()"
   ]
  },
  {
   "cell_type": "markdown",
   "id": "31b58306",
   "metadata": {},
   "source": [
    "# Exercice 4 - Analyser CSV"
   ]
  },
  {
   "cell_type": "markdown",
   "id": "09d6fdf3",
   "metadata": {},
   "source": [
    "1. Retrouvez le fichier des titres les plus prêtés dans les bibliothèques de Paris sur :"
   ]
  },
  {
   "cell_type": "code",
   "execution_count": 11,
   "id": "663845ac",
   "metadata": {
    "ExecuteTime": {
     "end_time": "2022-10-20T21:51:34.450279Z",
     "start_time": "2022-10-20T21:51:34.442303Z"
    }
   },
   "outputs": [
    {
     "ename": "NameError",
     "evalue": "name 's' is not defined",
     "output_type": "error",
     "traceback": [
      "\u001b[0;31m---------------------------------------------------------------------------\u001b[0m",
      "\u001b[0;31mNameError\u001b[0m                                 Traceback (most recent call last)",
      "Input \u001b[0;32mIn [11]\u001b[0m, in \u001b[0;36m<cell line: 0>\u001b[0;34m()\u001b[0m\n\u001b[1;32m      1\u001b[0m url \u001b[38;5;241m=\u001b[39m \u001b[38;5;124m\"\u001b[39m\u001b[38;5;124mhttps://opendata.paris.fr/explore/dataset/les-titres-les-plus-pretes/download/?format=csv&timezone=Europe/Berlin&lang=en&use_labels_for_header=true&csv_separator=\u001b[39m\u001b[38;5;124m%\u001b[39m\u001b[38;5;124m3B\u001b[39m\u001b[38;5;124m\"\u001b[39m\n\u001b[0;32m----> 2\u001b[0m data_csv\u001b[38;5;241m=\u001b[39ms\u001b[38;5;241m.\u001b[39mget(url)\u001b[38;5;241m.\u001b[39mtext\n",
      "\u001b[0;31mNameError\u001b[0m: name 's' is not defined"
     ]
    }
   ],
   "source": [
    "url = \"https://opendata.paris.fr/explore/dataset/les-titres-les-plus-pretes/download/?format=csv&timezone=Europe/Berlin&lang=en&use_labels_for_header=true&csv_separator=%3B\"\n",
    "data_csv=s.get(url).text"
   ]
  },
  {
   "cell_type": "markdown",
   "id": "f2637aac",
   "metadata": {},
   "source": [
    "Réponse"
   ]
  },
  {
   "cell_type": "markdown",
   "id": "8d665083",
   "metadata": {},
   "source": [
    "2. Analysez le fichier CSV résultant pour afficher, pour toutes les entrées : le titre, l'auteur et le nombre total de prêts."
   ]
  },
  {
   "cell_type": "code",
   "execution_count": 31,
   "id": "e1b29eaf",
   "metadata": {
    "ExecuteTime": {
     "end_time": "2022-10-20T21:51:43.893586Z",
     "start_time": "2022-10-20T21:51:43.879209Z"
    }
   },
   "outputs": [
    {
     "name": "stdout",
     "output_type": "stream",
     "text": [
      "\"Max et Lili ne font pas leurs devoirs\", by Saint-Mars, Dominique de (7643 loans)\n",
      "\"Lili est stressée par la rentrée\", by Saint-Mars, Dominique de (7651 loans)\n",
      "\"Max se fait insulter à la récré\", by Saint-Mars, Dominique de (5814 loans)\n",
      "\"Max et Lili se posent des questions sur Dieu\", by Saint-Mars, Dominique de (6746 loans)\n",
      "\"Journal infime\", by Neel, Julien (5992 loans)\n",
      "\"Les Légendaires. 14. L'héritage du mal\", by Sobral, Patrick (5036 loans)\n",
      "\"Les mabouls déboulent !\", by Cohen, Jaqueline (6366 loans)\n",
      "\"Les Légendaires. 15. Amour mortel\", by Sobral, Patrick (5067 loans)\n",
      "\"L'exode de Kalandre\", by Sobral, Patrick (3981 loans)\n",
      "\"Versus inferno\", by Sobral, Patrick (4415 loans)\n",
      "\"Max est casse-cou\", by Saint-Mars, Dominique de (4882 loans)\n",
      "\"Mortelle Adèle. 2. L'enfer c'est les autres\", by Tan (3305 loans)\n",
      "\"Ca va chauffer !\", by Cohen, Jacqueline (5035 loans)\n",
      "\"Toujours dans les pattes !\", by Cazenove, Christophe (2336 loans)\n",
      "\"Mortelle Adèle. 3. C'est pas ma faute !\", by Tan (3394 loans)\n",
      "\"Les parents de Zoé divorcent\", by Saint-Mars, Dominique de (6650 loans)\n",
      "\"Star à domicile\", by Nob (558 loans)\n",
      "\"La fille qui rendait coup pour coup\", by Lagercrantz, David (862 loans)\n",
      "\"Dodo, Coco !\", by Du Bouchet, Paule (1562 loans)\n",
      "\"Le secret de la Licorne\", by Hergé (6309 loans)\n"
     ]
    }
   ],
   "source": [
    "import csv\n",
    "from io import StringIO\n",
    "with StringIO(data_csv) as csvfile:\n",
    "    #on import le csv avec le separateur ;\n",
    "    raw=csv.reader(csvfile, delimiter=\";\")\n",
    "    #on créé le string final\n",
    "    cs=\"\"\n",
    "    first=False\n",
    "    for l in raw:\n",
    "        #on evite la ligne des titre de session\n",
    "        if first==False:\n",
    "            first=True\n",
    "            continue\n",
    "        cs+=\"Titre: \\\"\"+str(l[3])+\"\\\" | Auteur: \"+str(l[4])+\" | Nombre total de prêt: \"+str(l[6])+\"\\n\"\n",
    "    print(cs)\n",
    "#print('\\n'.join( [disp_book(b) for b in books[:20]]))"
   ]
  },
  {
   "cell_type": "markdown",
   "id": "f1043a24",
   "metadata": {},
   "source": [
    "3. Afficher pour chaque type de document (il peut y avoir plusieurs entrées pour un même type de document), le nombre total de prêts pour ce type."
   ]
  },
  {
   "cell_type": "code",
   "execution_count": 36,
   "id": "48b92fb6",
   "metadata": {
    "ExecuteTime": {
     "end_time": "2022-10-20T21:53:53.114177Z",
     "start_time": "2022-10-20T21:53:53.095491Z"
    }
   },
   "outputs": [
    {
     "data": {
      "text/plain": [
       "{'Bande dessinée jeunesse': 1651195,\n",
       " 'Livre jeunesse': 885982,\n",
       " 'DVD jeunesse': 115610,\n",
       " 'Livre pour adulte': 83654,\n",
       " 'Livre sonore jeunesse': 31503,\n",
       " 'Bande dessinée pour adulte': 21536,\n",
       " 'Enregistrement musical pour la jeunesse': 6047,\n",
       " 'Jeux Vidéos tous publics': 707,\n",
       " 'Jeux de société': 522}"
      ]
     },
     "execution_count": 36,
     "metadata": {},
     "output_type": "execute_result"
    }
   ],
   "source": [
    "cs=\"\"\n",
    "with StringIO(data_csv) as csvfile:\n",
    "    raw=csv.reader(csvfile, delimiter=\";\")#on lis le csv avec le ; en espacement\n",
    "    dico={}\n",
    "    cpt=0\n",
    "    for l in raw:\n",
    "        if cpt==0:#on evite la ligne des tritre se section\n",
    "            cpt=1\n",
    "            continue\n",
    "        if str(l[1]) in dico:\n",
    "            dico[str(l[1])]=dico[str(l[1])]+int(l[6])#on ajoute\n",
    "        else:\n",
    "            dico[str(l[1])]=int(l[6])\n",
    "    res=dico.items()\n",
    "    for i in res:\n",
    "        print(i[0]+\" : \"+str(i[1]))#on dit"
   ]
  },
  {
   "cell_type": "markdown",
   "id": "e2853229",
   "metadata": {},
   "source": [
    "4. Afficher les titres par ordre de rentabilité (par ordre décroissant du nombre de prêts par exemplaire)."
   ]
  },
  {
   "cell_type": "code",
   "execution_count": 38,
   "id": "26d95669",
   "metadata": {
    "ExecuteTime": {
     "end_time": "2022-10-20T21:54:06.623233Z",
     "start_time": "2022-10-20T21:54:06.610753Z"
    }
   },
   "outputs": [
    {
     "name": "stdout",
     "output_type": "stream",
     "text": [
      "\"Un enfant chez les schtroumpfs\", by Díaz Vizoso, Miguel (6763 loans, 63 copies)\n",
      "\"La menace Schtroumpf\", by Parthoens, Luc (4951 loans, 47 copies)\n",
      "\"Superstars\", by Cohen, Jacqueline (4604 loans, 44 copies)\n",
      "\"Tablette Ipad : Parascolaire\", by  (707 loans, 7 copies)\n",
      "\"Les schtroumpfs et le livre qui dit tout\", by Jost, Alain (5311 loans, 53 copies)\n",
      "\"Le schtroumpf reporter\", by Parthoens, Luc (5680 loans, 57 copies)\n",
      "\"Toujours plus fort !\", by Cohen, Jacqueline (5389 loans, 55 copies)\n",
      "\"Les parents de Max et Lili se disputent\", by Saint-Mars, Dominique de (7963 loans, 85 copies)\n",
      "\"La Schtroumpfette\", by Delporte, Yvan (5239 loans, 56 copies)\n",
      "\"La soupe aux schtroumpfs\", by Peyo (5319 loans, 57 copies)\n",
      "\"Les Schtroumpfs et l'arbre d'or\", by Culliford, Thierry (4598 loans, 50 copies)\n",
      "\"Le devin\", by Goscinny, René (8141 loans, 89 copies)\n",
      "\"Le bébé schtroumpf\", by Peyo (4834 loans, 53 copies)\n",
      "\"Lili découvre sa Mamie\", by Saint-Mars, Dominique de (6946 loans, 77 copies)\n",
      "\"Max est jaloux\", by Saint-Mars, Dominique de (4910 loans, 55 copies)\n",
      "\"Astérix aux Jeux Olympiques\", by Goscinny, René (7047 loans, 79 copies)\n",
      "\"Rythme scolaire\", by Pica (3611 loans, 41 copies)\n",
      "\"Docteur schtroumpf\", by Parthoens, Luc (3963 loans, 45 copies)\n",
      "\"Max et Lili se sont perdus\", by Saint-Mars, Dominique de (7361 loans, 84 copies)\n",
      "\"Astérix et Latraviata\", by Uderzo, Albert (6390 loans, 73 copies)\n"
     ]
    }
   ],
   "source": [
    "cs=\"\"\n",
    "#on va utiliser un doctionnaire pour faciliter le travail\n",
    "with StringIO(data_csv) as csvfile:\n",
    "    raw=csv.reader(csvfile, delimiter=\";\")\n",
    "    dico={}\n",
    "    cpt=0\n",
    "    for l in raw:\n",
    "        if cpt==0:\n",
    "            cpt=1\n",
    "            continue\n",
    "        tmp=\"Titre: \\\"\"+str(l[3])+\"\\\" | Auteur: \"+str(l[4])+\" | Nombre total de prêt: \"+str(l[6])+\"\\n\"\n",
    "        dico[tmp]=int(l[6])\n",
    "    #on prend un nouveau dictionnaire qu'on trie en reverse\n",
    "    dic_res = dict(sorted(dico.items(), key=lambda item:item[1], reverse=True))\n",
    "    res=dic_res.items()\n",
    "    for i in res:\n",
    "        print(i[0])\n",
    "#print('\\n'.join( [disp_book(b) for b in sorted_books[:20]]))"
   ]
  },
  {
   "cell_type": "markdown",
   "id": "0cf5668b",
   "metadata": {},
   "source": [
    "# Exercice 5 * - Analyse HTML"
   ]
  },
  {
   "cell_type": "markdown",
   "id": "d07bb36d",
   "metadata": {},
   "source": [
    "1. Obtenez le contenu de la page Wikipédia à : "
   ]
  },
  {
   "cell_type": "code",
   "execution_count": 39,
   "id": "57dc6b89",
   "metadata": {
    "ExecuteTime": {
     "end_time": "2022-10-20T21:54:09.305646Z",
     "start_time": "2022-10-20T21:54:09.295841Z"
    }
   },
   "outputs": [],
   "source": [
    "url = \"https://fr.wikipedia.org/wiki/Liste_des_pays_par_densit%C3%A9_de_population\""
   ]
  },
  {
   "cell_type": "markdown",
   "id": "5107c170",
   "metadata": {},
   "source": [
    "Réponse"
   ]
  },
  {
   "cell_type": "markdown",
   "id": "f271cbfd",
   "metadata": {},
   "source": [
    "2. Affichez tous les pays mentionnés dans le tableau \"Densité par pays\". "
   ]
  },
  {
   "cell_type": "markdown",
   "id": "01169a12",
   "metadata": {},
   "source": [
    "Réponse"
   ]
  },
  {
   "cell_type": "code",
   "execution_count": 42,
   "id": "ff7ad3f0",
   "metadata": {
    "ExecuteTime": {
     "end_time": "2022-10-20T21:54:16.774237Z",
     "start_time": "2022-10-20T21:54:16.747075Z"
    }
   },
   "outputs": [
    {
     "data": {
      "text/plain": [
       "['Afghanistan',\n",
       " 'Afrique du Sud',\n",
       " 'Albanie',\n",
       " 'Algérie',\n",
       " 'Allemagne',\n",
       " 'Andorre',\n",
       " 'Angola',\n",
       " 'Anguilla (Royaume-Uni)',\n",
       " 'Antigua-et-Barbuda',\n",
       " 'Arabie saoudite',\n",
       " 'Argentine',\n",
       " 'Arménie',\n",
       " 'Aruba (Pays-Bas)',\n",
       " 'Australie',\n",
       " 'Autriche',\n",
       " 'Azerbaïdjan',\n",
       " 'Bahamas',\n",
       " 'Bahreïn',\n",
       " 'Bangladesh',\n",
       " 'Barbade',\n",
       " 'Belgique',\n",
       " 'Belize',\n",
       " 'Bénin',\n",
       " 'Bermudes (Royaume-Uni)',\n",
       " 'Bhoutan',\n",
       " 'Biélorussie',\n",
       " 'Birmanie',\n",
       " 'Bolivie',\n",
       " 'Bosnie-Herzégovine',\n",
       " 'Botswana',\n",
       " 'Brésil',\n",
       " 'Brunei',\n",
       " 'Bulgarie',\n",
       " 'Burkina Faso',\n",
       " 'Burundi',\n",
       " 'Îles Caïmans (Royaume-Uni)',\n",
       " 'Cambodge',\n",
       " 'Cameroun',\n",
       " 'Canada',\n",
       " 'Cap-Vert',\n",
       " 'République centrafricaine',\n",
       " 'Chili',\n",
       " 'Chine[a]',\n",
       " 'Chypre',\n",
       " 'Colombie',\n",
       " 'Comores',\n",
       " 'République du Congo',\n",
       " 'République démocratique du Congo',\n",
       " 'Îles Cook (Nouvelle-Zélande)',\n",
       " 'Corée du Nord',\n",
       " 'Corée du Sud',\n",
       " 'Costa Rica',\n",
       " \"Côte d'Ivoire\",\n",
       " 'Croatie',\n",
       " 'Cuba',\n",
       " 'Curaçao (Pays-Bas)',\n",
       " 'Danemark',\n",
       " 'Djibouti',\n",
       " 'République dominicaine',\n",
       " 'Dominique',\n",
       " 'Égypte',\n",
       " 'Émirats arabes unis',\n",
       " 'Équateur',\n",
       " 'Érythrée',\n",
       " 'Espagne',\n",
       " 'Estonie',\n",
       " 'Eswatini (Swaziland)',\n",
       " 'États-Unis',\n",
       " 'Éthiopie',\n",
       " 'Îles Féroé (Danemark)',\n",
       " 'Fidji',\n",
       " 'Finlande',\n",
       " 'France[b]',\n",
       " 'Gabon',\n",
       " 'Gambie',\n",
       " 'Géorgie',\n",
       " 'Ghana',\n",
       " 'Gibraltar (Royaume-Uni)',\n",
       " 'Grèce',\n",
       " 'Grenade',\n",
       " 'Groenland (Danemark)',\n",
       " 'Guadeloupe (France)',\n",
       " 'Guam (États-Unis)',\n",
       " 'Guatemala',\n",
       " 'Guernesey et  Jersey (Royaume-Uni)',\n",
       " 'Guinée',\n",
       " 'Guinée-Bissau',\n",
       " 'Guinée équatoriale',\n",
       " 'Guyana',\n",
       " 'Guyane (France)',\n",
       " 'Haïti',\n",
       " 'Honduras',\n",
       " 'Hong Kong (Chine)',\n",
       " 'Hongrie',\n",
       " 'Inde',\n",
       " 'Indonésie',\n",
       " 'Irak',\n",
       " 'Iran',\n",
       " 'Irlande',\n",
       " 'Islande',\n",
       " 'Israël',\n",
       " 'Italie',\n",
       " 'Jamaïque',\n",
       " 'Japon',\n",
       " 'Jordanie',\n",
       " 'Kazakhstan',\n",
       " 'Kenya',\n",
       " 'Kirghizistan',\n",
       " 'Kiribati',\n",
       " 'Koweït',\n",
       " 'Laos',\n",
       " 'Lesotho',\n",
       " 'Lettonie',\n",
       " 'Liban',\n",
       " 'Liberia',\n",
       " 'Libye',\n",
       " 'Liechtenstein',\n",
       " 'Lituanie',\n",
       " 'Luxembourg',\n",
       " 'Macao (Chine)',\n",
       " 'Macédoine du Nord',\n",
       " 'Madagascar',\n",
       " 'Malaisie',\n",
       " 'Malawi',\n",
       " 'Maldives',\n",
       " 'Mali',\n",
       " 'Malouines (Royaume-Uni)',\n",
       " 'Malte',\n",
       " 'Île de Man (Royaume-Uni)',\n",
       " 'Îles Mariannes du Nord (États-Unis)',\n",
       " 'Maroc',\n",
       " 'Îles Marshall',\n",
       " 'Martinique (France)',\n",
       " 'Maurice',\n",
       " 'Mauritanie',\n",
       " 'Mayotte (France)',\n",
       " 'Mexique',\n",
       " 'États fédérés de Micronésie',\n",
       " 'Moldavie[c]',\n",
       " 'Monaco',\n",
       " 'Mongolie',\n",
       " 'Monténégro',\n",
       " 'Montserrat (Royaume-Uni)',\n",
       " 'Mozambique',\n",
       " 'Namibie',\n",
       " 'Nauru',\n",
       " 'Népal',\n",
       " 'Nicaragua',\n",
       " 'Niger',\n",
       " 'Nigeria',\n",
       " 'Niue (Nouvelle-Zélande)',\n",
       " 'Norvège',\n",
       " 'Nouvelle-Calédonie (France)',\n",
       " 'Nouvelle-Zélande',\n",
       " 'Oman',\n",
       " 'Ouganda',\n",
       " 'Ouzbékistan',\n",
       " 'Pakistan',\n",
       " 'Palaos',\n",
       " 'Palestine[d]',\n",
       " 'Panama',\n",
       " 'Papouasie-Nouvelle-Guinée',\n",
       " 'Paraguay',\n",
       " 'Pays-Bas',\n",
       " 'Pérou',\n",
       " 'Philippines',\n",
       " 'Pologne',\n",
       " 'Polynésie française (France)',\n",
       " 'Porto Rico (États-Unis)',\n",
       " 'Portugal',\n",
       " 'Qatar',\n",
       " 'La Réunion (France)',\n",
       " 'Roumanie',\n",
       " 'Royaume-Uni',\n",
       " 'Russie',\n",
       " 'Rwanda',\n",
       " 'Sahara occidental[e]',\n",
       " 'Saint-Christophe-et-Niévès',\n",
       " 'Saint-Marin',\n",
       " 'Saint-Martin (Pays-Bas)',\n",
       " 'Saint-Pierre-et-Miquelon (France)',\n",
       " 'Saint-Vincent-et-les-Grenadines',\n",
       " 'Sainte-Hélène, Ascension et Tristan da Cunha (Royaume-Uni)',\n",
       " 'Sainte-Lucie',\n",
       " 'Îles Salomon',\n",
       " 'Salvador',\n",
       " 'Samoa',\n",
       " 'Samoa américaines (États-Unis)',\n",
       " 'Sao Tomé-et-Principe',\n",
       " 'Sénégal',\n",
       " 'Serbie[f]',\n",
       " 'Seychelles',\n",
       " 'Sierra Leone',\n",
       " 'Singapour',\n",
       " 'Slovaquie',\n",
       " 'Slovénie',\n",
       " 'Somalie[g]',\n",
       " 'Soudan',\n",
       " 'Soudan du Sud',\n",
       " 'Sri Lanka',\n",
       " 'Suède',\n",
       " 'Suisse',\n",
       " 'Suriname',\n",
       " 'Syrie',\n",
       " 'Tadjikistan',\n",
       " 'Taïwan',\n",
       " 'Tanzanie',\n",
       " 'Tchad',\n",
       " 'Tchéquie',\n",
       " 'Thaïlande',\n",
       " 'Timor oriental',\n",
       " 'Togo',\n",
       " 'Tokelau (Nouvelle-Zélande)',\n",
       " 'Tonga',\n",
       " 'Trinité-et-Tobago',\n",
       " 'Tunisie',\n",
       " 'Turkménistan',\n",
       " 'Îles Turques-et-Caïques (Royaume-Uni)',\n",
       " 'Turquie',\n",
       " 'Tuvalu',\n",
       " 'Ukraine',\n",
       " 'Uruguay',\n",
       " 'Vanuatu',\n",
       " 'Vatican',\n",
       " 'Venezuela',\n",
       " 'Îles Vierges britanniques (Royaume-Uni)',\n",
       " 'Îles Vierges des États-Unis (États-Unis)',\n",
       " 'Viêt Nam',\n",
       " 'Wallis-et-Futuna (France)',\n",
       " 'Yémen',\n",
       " 'Zambie',\n",
       " 'Zimbabwe']"
      ]
     },
     "execution_count": 42,
     "metadata": {},
     "output_type": "execute_result"
    }
   ],
   "source": [
    "countries"
   ]
  },
  {
   "cell_type": "markdown",
   "id": "32678327",
   "metadata": {},
   "source": [
    "3. Afficher pour chaque pays son rang, sa densité, sa population, sa superficie. "
   ]
  },
  {
   "cell_type": "markdown",
   "id": "a54339c7",
   "metadata": {},
   "source": [
    "Réponse"
   ]
  },
  {
   "cell_type": "markdown",
   "id": "ae3525d8",
   "metadata": {},
   "source": [
    "4. Sauvegarder les informations obtenues dans un dictionnaire Python. "
   ]
  },
  {
   "cell_type": "markdown",
   "id": "6fb56cd9",
   "metadata": {},
   "source": [
    "Réponse"
   ]
  },
  {
   "cell_type": "markdown",
   "id": "28c31344",
   "metadata": {},
   "source": [
    "5. En utilisant le dictionnaire Python précédemment sauvegardé, demander à l'utilisateur un pays, afficher les \n",
    "l'information correspondante."
   ]
  },
  {
   "cell_type": "markdown",
   "id": "3089f63c",
   "metadata": {},
   "source": [
    "Réponse"
   ]
  },
  {
   "cell_type": "markdown",
   "id": "53de123f",
   "metadata": {},
   "source": [
    "# Exercice 6 * - API Web"
   ]
  },
  {
   "cell_type": "markdown",
   "id": "e62855a4",
   "metadata": {},
   "source": [
    "1. Ecrivez un programme Python qui rendra disponible une API Web permettant des calculs élémentaires sur les \n",
    "entiers.\n",
    "\n",
    "L'API est accessible par GET et sous la forme : \n",
    "- /add/{integer1}/{integer2} : additionne l'entier1 et l'entier2\n",
    "- /sub/{integer1}/{integer2} : effectue la soustraction de l'entier 1 et de l'entier 2\n",
    "- /mul/{integer1}/{integer2} : effectue la multiplication de l'entier 1 et de l'entier 2\n",
    "- /div/{integer1}/{integer2} : effectue la division entière de l'entier 1 par l'entier 2\n",
    "- /mod/{integer1}/{integer2} : effectue le reste de la division entière de l'entier1\n",
    "par l'entier 2"
   ]
  },
  {
   "cell_type": "code",
   "execution_count": null,
   "id": "bcc6b6ee",
   "metadata": {
    "ExecuteTime": {
     "start_time": "2022-10-20T21:54:27.112Z"
    }
   },
   "outputs": [
    {
     "name": "stderr",
     "output_type": "stream",
     "text": [
      "Bottle v0.12.23 server starting up (using WSGIRefServer())...\n",
      "Listening on http://localhost:8080/\n",
      "Hit Ctrl-C to quit.\n",
      "\n",
      "127.0.0.1 - - [20/Oct/2022 23:54:30] \"GET / HTTP/1.1\" 404 720\n",
      "127.0.0.1 - - [20/Oct/2022 23:54:36] \"GET /div/300/20 HTTP/1.1\" 200 2\n",
      "127.0.0.1 - - [20/Oct/2022 23:54:46] \"GET /mul/6/7 HTTP/1.1\" 200 2\n"
     ]
    }
   ],
   "source": [
    "run(app, host='localhost', port=8080)"
   ]
  },
  {
   "cell_type": "markdown",
   "id": "71ba86e6",
   "metadata": {},
   "source": [
    "2. Ecrivez un programme Python qui testera l'API web disponible par le biais de la bibliothèque requests."
   ]
  }
 ],
 "metadata": {
  "celltoolbar": "Slideshow",
  "kernelspec": {
   "display_name": "Python 3 (ipykernel)",
   "language": "python",
   "name": "python3"
  },
  "language_info": {
   "codemirror_mode": {
    "name": "ipython",
    "version": 3
   },
   "file_extension": ".py",
   "mimetype": "text/x-python",
   "name": "python",
   "nbconvert_exporter": "python",
   "pygments_lexer": "ipython3",
   "version": "3.11.0rc2"
  },
  "toc": {
   "base_numbering": 1,
   "nav_menu": {},
   "number_sections": true,
   "sideBar": true,
   "skip_h1_title": true,
   "title_cell": "Table of Contents",
   "title_sidebar": "Contents",
   "toc_cell": false,
   "toc_position": {},
   "toc_section_display": true,
   "toc_window_display": false
  }
 },
 "nbformat": 4,
 "nbformat_minor": 5
}
