{
 "cells": [
  {
   "cell_type": "markdown",
   "id": "13980f54",
   "metadata": {
    "slideshow": {
     "slide_type": "slide"
    }
   },
   "source": [
    "# ProgRes, Part II\n",
    "\n",
    "# Web services"
   ]
  },
  {
   "cell_type": "markdown",
   "id": "99c42851",
   "metadata": {},
   "source": [
    "Fabien Mathieu - fabien.mathieu@normalesup.org\n",
    "\n",
    "Sébastien Tixeuil - Sebastien.Tixeuil@lip6.fr"
   ]
  },
  {
   "cell_type": "markdown",
   "id": "76c1292b",
   "metadata": {
    "slideshow": {
     "slide_type": "subslide"
    }
   },
   "source": [
    "# Roadmap"
   ]
  },
  {
   "cell_type": "markdown",
   "id": "87f5618c",
   "metadata": {},
   "source": [
    "- Part I: done\n",
    "- Part II (Web services)\n",
    "  - This week:\n",
    "    - Definitions / Reminders (OSI, HTTP, REST...)\n",
    "    - Client side\n",
    "       - Retrieve content\n",
    "       - Manipulate content\n",
    "  - Server side (next week)\n",
    "- Part III: P2P"
   ]
  },
  {
   "cell_type": "markdown",
   "id": "c702ef31",
   "metadata": {
    "slideshow": {
     "slide_type": "subslide"
    }
   },
   "source": [
    "# Methodology"
   ]
  },
  {
   "cell_type": "markdown",
   "id": "c3d5ec9c",
   "metadata": {},
   "source": [
    "- Course and practicals are made on notebooks (jupyter or jupyterlab)\n",
    "- This means you will send your practical notebooks. Please put your name on the file and inside as well!\n",
    "- Practicals: for some advanced optional questions, you may add some traditional `.py` files (companion packages) -> `zip`\n",
    "- Mini-projects: `zip` with a mix of notebooks and `.py` files is expected. Report can be integrated inside a notebook (preferred) or a PDF, limited to 10 pages."
   ]
  },
  {
   "cell_type": "markdown",
   "id": "ffc9633e",
   "metadata": {
    "slideshow": {
     "slide_type": "slide"
    }
   },
   "source": [
    "## What is a Web Service?"
   ]
  },
  {
   "cell_type": "markdown",
   "id": "94f33156",
   "metadata": {
    "slideshow": {
     "slide_type": "slide"
    }
   },
   "source": [
    "# Reminder: the OSI model"
   ]
  },
  {
   "cell_type": "markdown",
   "id": "dfcb0f34",
   "metadata": {},
   "source": [
    "| Layer | Protocol Data Unit (PDU) | Function |\n",
    "| :-- | --- | :-: |\n",
    "| 7 (Application) | Data | High-level protocols such as for resource sharing or remote file access, e.g. HTTP. |\n",
    "| 6 (Presentation) | Data | Translation of data between a networking service and an application;<br>including character encoding, data compression and encryption/decryption. |\n",
    "| 5 (Session) | Data | Managing communication sessions, i.e.,<br>continuous exchange of information in the form of multiple back-and-forth transmissions between two nodes. |\n",
    "| 4 (Transport) | Segment, datagram | Reliable transmission of data segments between points on a network,<br>including segmentation, acknowledgement and multiplexing. |\n",
    "| 3 (Network) | Packet | Structuring and managing a multi-node network, including addressing, routing and traffic control. |\n",
    "| 2 (Data link) | Frame, PRB | Transmission of data frames between two nodes connected by a physical layer. |\n",
    "| 1 (Physical) | Bit, Symbol | Transmission and reception of raw bit streams over a physical medium. |\n",
    "\n",
    "From wikipedia"
   ]
  },
  {
   "cell_type": "markdown",
   "id": "ade510b0",
   "metadata": {
    "slideshow": {
     "slide_type": "subslide"
    }
   },
   "source": [
    "# Reminder: the OSI model"
   ]
  },
  {
   "cell_type": "markdown",
   "id": "08167040",
   "metadata": {},
   "source": [
    "- OSI should be seen as a guideline more than strict frontiers\n",
    "- 1 & 2 (physical layers): depend on the physical medium you use\n",
    "- 3 & 4 (Internet layers): IP (3), UDP (\"3.5\"), TCP (4)\n",
    "- Data layers: HTTP(S), SSH, SMTP, (S)FTP... (some see 5/6/7 distinction as artificial)"
   ]
  },
  {
   "cell_type": "markdown",
   "id": "e205c332",
   "metadata": {
    "slideshow": {
     "slide_type": "subslide"
    }
   },
   "source": [
    "# The OSI hourglass"
   ]
  },
  {
   "cell_type": "markdown",
   "id": "a5ffce05",
   "metadata": {
    "cell_style": "split"
   },
   "source": [
    "Just for Internet culture\n",
    "\n",
    "- Many physical implementations\n",
    "- Many data applications\n",
    "- One waist: IP"
   ]
  },
  {
   "cell_type": "markdown",
   "id": "cfdfcc33",
   "metadata": {
    "cell_style": "split"
   },
   "source": [
    "<img src = \"https://scx2.b-cdn.net/gfx/news/hires/2011/howtheintern.jpg\">"
   ]
  },
  {
   "cell_type": "markdown",
   "id": "1140c84d",
   "metadata": {
    "slideshow": {
     "slide_type": "subslide"
    }
   },
   "source": [
    "# OSI model and PROGRES"
   ]
  },
  {
   "cell_type": "markdown",
   "id": "974be838",
   "metadata": {},
   "source": [
    "- Part I (past sessions) was making your own data layers out of sockets\n",
    "- Part II is about directly using L7 protocols\n",
    "- Part III will be about overlay networks (\"L8\")"
   ]
  },
  {
   "cell_type": "markdown",
   "id": "d20767ab",
   "metadata": {
    "slideshow": {
     "slide_type": "subslide"
    }
   },
   "source": [
    "# HTTP in the old days (Web 1.0)"
   ]
  },
  {
   "cell_type": "markdown",
   "id": "71b9311c",
   "metadata": {
    "cell_style": "split"
   },
   "source": [
    "- Goal: serve a (static) web page\n",
    "- Client (user on a navigator) requests a URL\n",
    "- Server serves a physical file (or a view of a directory)\n",
    "- Navigator displays the page\n",
    "\n",
    "- https://files.data.gouv.fr/anssi/ascadv2/\n",
    "- http://test-debit.free.fr/"
   ]
  },
  {
   "cell_type": "markdown",
   "id": "4b0d7f63",
   "metadata": {
    "cell_style": "split"
   },
   "source": [
    "- HTTP: HyperText Transfert Protocol\n",
    "- URL: Uniform Resource Locator"
   ]
  },
  {
   "cell_type": "markdown",
   "id": "d1bae6d5",
   "metadata": {
    "slideshow": {
     "slide_type": "subslide"
    }
   },
   "source": [
    "# HTTPS today (Web X.Y)"
   ]
  },
  {
   "cell_type": "markdown",
   "id": "f4b7934e",
   "metadata": {
    "cell_style": "split"
   },
   "source": [
    "- Goal: C asks R to S using a URI\n",
    "- C is anything\n",
    "- R is anything\n",
    "- S is a server\n",
    "- https://pokeapi.co/api/v2/pokemon-form/25/\n",
    "- https://api.archives-ouvertes.fr/search/?q=authIdHal_s:fabien-mathieu"
   ]
  },
  {
   "cell_type": "markdown",
   "id": "4f13010a",
   "metadata": {
    "cell_style": "split"
   },
   "source": [
    "- HTTPS: HyperText Transfert Protocol Secure\n",
    "- URI: Uniform Resource Identifier"
   ]
  },
  {
   "cell_type": "markdown",
   "id": "a705aa6a",
   "metadata": {
    "slideshow": {
     "slide_type": "subslide"
    }
   },
   "source": [
    "# Web services"
   ]
  },
  {
   "cell_type": "markdown",
   "id": "44b0c101",
   "metadata": {},
   "source": [
    "- Client is typically a program executed to access content\n",
    " - On client side (JS of a webpage)\n",
    " - On server side (to *build* the webpage to return)\n",
    "- Request is a HTTP(S) method on a URI\n",
    "- Result is anything (None, html, xml, json, image...)"
   ]
  },
  {
   "cell_type": "markdown",
   "id": "a5ca595a",
   "metadata": {
    "slideshow": {
     "slide_type": "subslide"
    }
   },
   "source": [
    "# HTTP methods"
   ]
  },
  {
   "cell_type": "markdown",
   "id": "e1b381bf",
   "metadata": {},
   "source": [
    "Any HTTP method is like this:\n",
    "- A request is sent by the client, with some headers (type of request, ...) and possibly a body (input data)\n",
    "- A response is sent by the server, with some headers (status code, metadata) and possibly a body (output data)"
   ]
  },
  {
   "cell_type": "markdown",
   "id": "6e43cdc8",
   "metadata": {
    "slideshow": {
     "slide_type": "subslide"
    }
   },
   "source": [
    "# HTTP methods: theory"
   ]
  },
  {
   "cell_type": "markdown",
   "id": "6b6781af",
   "metadata": {},
   "source": [
    "From wikipedia:\n",
    "- **GET**: requests data from the target resource. GET requests should only retrieve data. All data is in the URI (useful for caching).\n",
    "- **HEAD**: like GET, but don't actually send the data. Uses include checking whether a page is available through the status code and quickly finding the size of a file (Content-Length).\n",
    "- **POST**: requests the target to process some resources (data) sent by the client. Posted data is not on the URI. For example, it is used for posting a message to an Internet forum, subscribing to a mailing list, or completing an online shopping transaction.\n",
    "- **PUT**: requests to create or update using the data enclosed in the request. A distinction from POST is that the client specifies the target location on the server.\n",
    "- **DELETE**: requests suppression of entry.\n",
    "- **CONNECT**: establishes a TCP/IP tunnel. It is often used to secure connections through one or more HTTP proxies with TLS.\n",
    "- **OPTIONS**: requests that the supported HTTP methods that it supports. This can be used to check the functionality of a web server.\n",
    "- **TRACE**: transfers the received request in the response body. That way a client can see what (if any) changes or additions have been made by intermediaries.\n",
    "- **PATCH**: modifies part(s) of entry. This can save bandwidth by updating a part of a file or document without having to transfer it entirely."
   ]
  },
  {
   "cell_type": "markdown",
   "id": "8a9df789",
   "metadata": {
    "slideshow": {
     "slide_type": "subslide"
    }
   },
   "source": [
    "# HTTP methods: GET or POST?"
   ]
  },
  {
   "cell_type": "markdown",
   "id": "3fa56c7b",
   "metadata": {},
   "source": [
    "- **GET** can perform all methods (e.g. \"http://my.server.co/uri?method=POST&data=...\")\n",
    "- Same for **POST** (which is a GET with hidden data)\n",
    "- 99% of methods used in the real world are GET or POST"
   ]
  },
  {
   "cell_type": "markdown",
   "id": "ec47f338",
   "metadata": {
    "slideshow": {
     "slide_type": "subslide"
    }
   },
   "source": [
    "# HTTP methods: GET?"
   ]
  },
  {
   "cell_type": "markdown",
   "id": "69702f5c",
   "metadata": {
    "cell_style": "center"
   },
   "source": [
    "- All request information is visible in the URI\n",
    "- Human can write a GET in the browser\n",
    "- Useful for caching / bookmarking\n",
    "- Good practice: use get to read"
   ]
  },
  {
   "cell_type": "markdown",
   "id": "e838aa5a",
   "metadata": {
    "slideshow": {
     "slide_type": "subslide"
    }
   },
   "source": [
    "# HTTP methods: POST?"
   ]
  },
  {
   "cell_type": "markdown",
   "id": "d6211537",
   "metadata": {
    "cell_style": "center"
   },
   "source": [
    "- Hide some request information inside the sent message\n",
    "- Usually performed by forms / javascript\n",
    "- Useful for sending login / password\n",
    "- Good practice: use post to write (and password)"
   ]
  },
  {
   "cell_type": "markdown",
   "id": "13b3dd1d",
   "metadata": {
    "slideshow": {
     "slide_type": "subslide"
    }
   },
   "source": [
    "# Anatomy of a GET method: inspect"
   ]
  },
  {
   "cell_type": "markdown",
   "id": "b139faf3",
   "metadata": {},
   "source": [
    "The browser way: Inspect\n",
    "\n",
    "https://pokeapi.co/api/v2/pokemon-form/25/"
   ]
  },
  {
   "cell_type": "markdown",
   "id": "8fd8b3cb",
   "metadata": {
    "slideshow": {
     "slide_type": "subslide"
    }
   },
   "source": [
    "# Anatomy of a GET method: within Python"
   ]
  },
  {
   "cell_type": "markdown",
   "id": "30f72509",
   "metadata": {},
   "source": [
    "The requests package (that we will use intensively) gives you all."
   ]
  },
  {
   "cell_type": "code",
   "execution_count": 234,
   "id": "b340a2e0",
   "metadata": {
    "ExecuteTime": {
     "end_time": "2022-10-21T06:56:06.956360Z",
     "start_time": "2022-10-21T06:56:06.858935Z"
    },
    "slideshow": {
     "slide_type": ""
    }
   },
   "outputs": [
    {
     "name": "stdout",
     "output_type": "stream",
     "text": [
      "Request headers: {'User-Agent': 'python-requests/2.26.0', 'Accept-Encoding': 'gzip, deflate, br', 'Accept': '*/*', 'Connection': 'keep-alive'}\n",
      "Response headers: {'Date': 'Fri, 21 Oct 2022 06:56:08 GMT', 'Content-Type': 'application/json; charset=utf-8', 'Transfer-Encoding': 'chunked', 'Connection': 'keep-alive', 'access-control-allow-origin': '*', 'Cache-Control': 'public, max-age=86400, s-maxage=86400', 'etag': 'W/\"4f8-9UFHCQTIN7577Tbo+plk2O2VsR0\"', 'function-execution-id': 't7ug4xeujcin', 'strict-transport-security': 'max-age=31556926', 'x-cloud-trace-context': 'b74ae7c6207f58334b7dc42b61d4df26', 'x-country-code': 'FR', 'x-orig-accept-language': 'pl-PL,pl;q=0.9,en-US;q=0.8,en;q=0.7', 'x-powered-by': 'Express', 'x-served-by': 'cache-cdg20772-CDG', 'x-cache': 'HIT', 'x-cache-hits': '1', 'x-timer': 'S1666305942.176406,VS0,VE1', 'vary': 'Accept-Encoding,cookie,need-authorization, x-fh-requested-host, accept-encoding', 'alt-svc': 'h3=\":443\"; ma=86400, h3-29=\":443\"; ma=86400', 'CF-Cache-Status': 'HIT', 'Age': '29426', 'Server-Timing': 'cf-q-config;dur=6.9999950937927e-06', 'Report-To': '{\"endpoints\":[{\"url\":\"https:\\\\/\\\\/a.nel.cloudflare.com\\\\/report\\\\/v3?s=5G4usYzprpTKxNy3lz0GBg6eRZ71DApRz2hHSDmlZutMHy3dG%2B7hY7JOlkAM5cYEbBT%2FjC1dLua9xgRUVkKM3YgUw2fELda92gE%2Fxt%2BtUouQlyRoqOf2sI2%2FTpDO\"}],\"group\":\"cf-nel\",\"max_age\":604800}', 'NEL': '{\"success_fraction\":0,\"report_to\":\"cf-nel\",\"max_age\":604800}', 'Server': 'cloudflare', 'CF-RAY': '75d817758eeef85c-CDG', 'Content-Encoding': 'br'}\n"
     ]
    }
   ],
   "source": [
    "from requests import get\n",
    "request = get(\"https://pokeapi.co/api/v2/pokemon-form/25/\")\n",
    "print(f\"Request headers: {request.request.headers}\")\n",
    "print(f\"Response headers: {request.headers}\")"
   ]
  },
  {
   "cell_type": "markdown",
   "id": "95742ed8",
   "metadata": {
    "slideshow": {
     "slide_type": "subslide"
    }
   },
   "source": [
    "# Anatomy of a GET method: within Python"
   ]
  },
  {
   "cell_type": "code",
   "execution_count": 235,
   "id": "29058d5e",
   "metadata": {
    "ExecuteTime": {
     "end_time": "2022-10-21T06:57:25.404178Z",
     "start_time": "2022-10-21T06:57:25.395664Z"
    }
   },
   "outputs": [
    {
     "name": "stdout",
     "output_type": "stream",
     "text": [
      "Status code: 200\n",
      "Method: GET\n"
     ]
    }
   ],
   "source": [
    "print(f\"Status code: {request.status_code}\")\n",
    "print(f\"Method: {request.request.method}\")"
   ]
  },
  {
   "cell_type": "code",
   "execution_count": 236,
   "id": "02b2e057",
   "metadata": {
    "ExecuteTime": {
     "end_time": "2022-10-21T06:57:26.778250Z",
     "start_time": "2022-10-21T06:57:26.756771Z"
    }
   },
   "outputs": [
    {
     "data": {
      "text/plain": [
       "{'form_name': '',\n",
       " 'form_names': [],\n",
       " 'form_order': 1,\n",
       " 'id': 25,\n",
       " 'is_battle_only': False,\n",
       " 'is_default': True,\n",
       " 'is_mega': False,\n",
       " 'name': 'pikachu',\n",
       " 'names': [],\n",
       " 'order': 36,\n",
       " 'pokemon': {'name': 'pikachu',\n",
       "  'url': 'https://pokeapi.co/api/v2/pokemon/25/'},\n",
       " 'types': [{'slot': 1,\n",
       "   'type': {'name': 'electric', 'url': 'https://pokeapi.co/api/v2/type/13/'}}],\n",
       " 'version_group': {'name': 'red-blue',\n",
       "  'url': 'https://pokeapi.co/api/v2/version-group/1/'}}"
      ]
     },
     "execution_count": 236,
     "metadata": {},
     "output_type": "execute_result"
    }
   ],
   "source": [
    "{k: v for k, v in request.json().items() if k != 'sprites'}"
   ]
  },
  {
   "cell_type": "markdown",
   "id": "ad202e59",
   "metadata": {
    "slideshow": {
     "slide_type": "subslide"
    }
   },
   "source": [
    "# Anatomy of a POST method: within Python"
   ]
  },
  {
   "cell_type": "markdown",
   "id": "1a318e81",
   "metadata": {},
   "source": [
    "We will use http://ptsv2.com, a website to test post.\n",
    "\n",
    "http://ptsv2.com/t/progres"
   ]
  },
  {
   "cell_type": "code",
   "execution_count": 239,
   "id": "141c1d7a",
   "metadata": {
    "ExecuteTime": {
     "end_time": "2022-10-21T06:59:47.017562Z",
     "start_time": "2022-10-21T06:59:46.810928Z"
    }
   },
   "outputs": [],
   "source": [
    "from requests import post\n",
    "request = post(\"http://ptsv2.com/t/progres/post\", json={'Hello': 'world', 'ansWer': 42, 'password': 'MyPrivatePassword'})"
   ]
  },
  {
   "cell_type": "markdown",
   "id": "434a04cd",
   "metadata": {
    "slideshow": {
     "slide_type": "subslide"
    }
   },
   "source": [
    "# Anatomy of a POST method: within Python"
   ]
  },
  {
   "cell_type": "markdown",
   "id": "c212864a",
   "metadata": {},
   "source": [
    "http://ptsv2.com/t/progres"
   ]
  },
  {
   "cell_type": "code",
   "execution_count": 240,
   "id": "388c62a1",
   "metadata": {
    "ExecuteTime": {
     "end_time": "2022-10-21T07:00:10.951246Z",
     "start_time": "2022-10-21T07:00:10.937246Z"
    }
   },
   "outputs": [
    {
     "name": "stdout",
     "output_type": "stream",
     "text": [
      "Status code: 200\n",
      "Method: POST\n",
      "Request headers: {'User-Agent': 'python-requests/2.26.0', 'Accept-Encoding': 'gzip, deflate, br', 'Accept': '*/*', 'Connection': 'keep-alive', 'Content-Length': '65', 'Content-Type': 'application/json'}\n",
      "Response headers: {'Content-Type': 'text/plain; charset=utf-8', 'Vary': 'Accept-Encoding', 'Access-Control-Allow-Origin': '*', 'Content-Encoding': 'gzip', 'X-Cloud-Trace-Context': 'dcb45161edf7a0912bc7653e7560835d', 'Date': 'Fri, 21 Oct 2022 06:59:48 GMT', 'Server': 'Google Frontend', 'Cache-Control': 'private', 'Content-Length': '77'}\n",
      "Thank you for this dump. I hope you have a lovely day!\n"
     ]
    }
   ],
   "source": [
    "print(f\"Status code: {request.status_code}\")\n",
    "print(f\"Method: {request.request.method}\")\n",
    "print(f\"Request headers: {request.request.headers}\")\n",
    "print(f\"Response headers: {request.headers}\")\n",
    "print(request.text)"
   ]
  },
  {
   "cell_type": "markdown",
   "id": "7397a481",
   "metadata": {
    "slideshow": {
     "slide_type": "subslide"
    }
   },
   "source": [
    "# REST API"
   ]
  },
  {
   "cell_type": "markdown",
   "id": "e6fe7981",
   "metadata": {},
   "source": [
    "- REpresentational State Transfert Application Programming Interface is a simple, realtively normalized, way of performing web services.\n",
    "- Response is typically json or xml."
   ]
  },
  {
   "cell_type": "markdown",
   "id": "ec7cf814",
   "metadata": {},
   "source": [
    "https://pokeapi.co/api/v2/pokemon-form/25/\n",
    "\n",
    "- Method is GET (implicit)\n",
    "- https://pokeapi.co/api/ is the base URL of the URI\n",
    "- v2 is the API version\n",
    "- pokemon-form/25/ is the actual request (fetch Pikachu!)"
   ]
  },
  {
   "cell_type": "markdown",
   "id": "7cd4808e",
   "metadata": {
    "slideshow": {
     "slide_type": "slide"
    }
   },
   "source": [
    "## Client Side"
   ]
  },
  {
   "cell_type": "markdown",
   "id": "d05c767a",
   "metadata": {
    "slideshow": {
     "slide_type": "slide"
    }
   },
   "source": [
    "### Retrieve data"
   ]
  },
  {
   "cell_type": "markdown",
   "id": "1eac3c35",
   "metadata": {
    "slideshow": {
     "slide_type": "subslide"
    }
   },
   "source": [
    "# Retrieve data"
   ]
  },
  {
   "cell_type": "markdown",
   "id": "564bc102",
   "metadata": {},
   "source": [
    "Data can be:\n",
    "- Arbitrary bytes (image, pdf, binary...)\n",
    "- Text\n",
    "- Structured text (html, json, ...)\n",
    "\n",
    "You need to adapt:\n",
    "- Load in memory or save to file?\n",
    "- Don't load a text as bytes or a json as text!"
   ]
  },
  {
   "cell_type": "markdown",
   "id": "29c5e5ef",
   "metadata": {
    "slideshow": {
     "slide_type": "subslide"
    }
   },
   "source": [
    "# Retrieve with requests"
   ]
  },
  {
   "cell_type": "code",
   "execution_count": 241,
   "id": "40a7d759",
   "metadata": {
    "ExecuteTime": {
     "end_time": "2022-10-21T07:01:18.293728Z",
     "start_time": "2022-10-21T07:01:18.065534Z"
    }
   },
   "outputs": [
    {
     "name": "stdout",
     "output_type": "stream",
     "text": [
      "Request status is 200,\n",
      "Content length is 62512 bytes,\n",
      "Request encoding is UTF-8,\n",
      "Text size is 62506 chars.\n",
      "Response headers: {'Date': 'Fri, 21 Oct 2022 07:01:19 GMT', 'Content-Type': 'text/html; charset=UTF-8', 'Transfer-Encoding': 'chunked', 'Connection': 'keep-alive', 'Set-Cookie': 'mobile_lelscan=0; expires=Sat, 22-Oct-2022 07:01:19 GMT; Max-Age=86400; path=lelscans.net', 'Vary': 'Accept-Encoding', 'CF-Cache-Status': 'DYNAMIC', 'Report-To': '{\"endpoints\":[{\"url\":\"https:\\\\/\\\\/a.nel.cloudflare.com\\\\/report\\\\/v3?s=4ipRNPQorsdARL90uBVSLPhlZmbNK4c52W5aqZiw%2FVjv%2BkxU89wm38D9cGA%2FuGRFfrEasJw8yOGjr6VrtPm6Xspmpo1qWa2u4ap3Bq%2BzmwiHe8DGTWUqgFS6Uw3km%2F0%3D\"}],\"group\":\"cf-nel\",\"max_age\":604800}', 'NEL': '{\"success_fraction\":0,\"report_to\":\"cf-nel\",\"max_age\":604800}', 'Server': 'cloudflare', 'CF-RAY': '75d81f0efe3fd642-CDG', 'Content-Encoding': 'br', 'alt-svc': 'h3=\":443\"; ma=86400, h3-29=\":443\"; ma=86400'}\n"
     ]
    }
   ],
   "source": [
    "from requests import Session\n",
    "manga = \"http://lelscano.com\"\n",
    "s = Session()\n",
    "r = s.get(manga)\n",
    "print(f\"Request status is {r.status_code},\\n\"\n",
    " f\"Content length is {len(r.content)} bytes,\\n\"\n",
    " f\"Request encoding is {r.encoding},\\n\"\n",
    " f\"Text size is {len(r.text)} chars.\")\n",
    "print(f\"Response headers: {r.headers}\")"
   ]
  },
  {
   "cell_type": "markdown",
   "id": "a95c13da",
   "metadata": {
    "slideshow": {
     "slide_type": "subslide"
    }
   },
   "source": [
    "# Retrieve with requests"
   ]
  },
  {
   "cell_type": "code",
   "execution_count": 242,
   "id": "88d93ee5",
   "metadata": {
    "ExecuteTime": {
     "end_time": "2022-10-21T07:01:26.742856Z",
     "start_time": "2022-10-21T07:01:26.718703Z"
    }
   },
   "outputs": [
    {
     "data": {
      "text/plain": [
       "'<!DOCTYPE html PUBLIC \"-//W3C//DTD XHTML 1.0 Transitional//EN\" \"http://www.w3.org/TR/xhtml1/DTD/xhtml1-transitional.dtd\">\\r\\n<html xmlns=\"http://www.w3.org/1999/xhtml\">\\r\\n<head>\\r\\n<title>One Piece lecture en ligne scan</title>\\r\\n\\t<meta name=\"description\" content=\"One Piece Lecture en ligne, tous les scan One Piece.\" /> \\r\\n\\t<meta name=\"lelscan\" content=\"One Piece\" />\\r\\n\\t<meta http-equiv=\"Content-Type\" content=\"text/html;charset=ISO-8859-1\" />\\r\\n\\t<meta http-equiv=\"Content-Language\" content=\"fr\" />\\r\\n\\t<meta name=\"keywords\" content=\"One Piece lecture en ligne, lecture en ligne One Piece, scan One Piece, One Piece scan, One Piece lel, lecture en ligne One Piece, Lecture, lecture,  scan, chapitre, chapitre One Piece, lecture One Piece, lecture Chapitre One Piece, mangas, manga, One Piece, One Piece fr, One Piece france, scans, image One Piece \" /> \\r\\n\\t<meta name=\"subject\" content=\"One Piece lecture en ligne scan\" />\\r\\n\\t<meta name=\"identifier-url\" content=\"https://lelscans.net\" />\\r\\n\\t<meta property=\"og:i'"
      ]
     },
     "execution_count": 242,
     "metadata": {},
     "output_type": "execute_result"
    }
   ],
   "source": [
    "r.text[:1000]"
   ]
  },
  {
   "cell_type": "markdown",
   "id": "4a9f54d4",
   "metadata": {
    "slideshow": {
     "slide_type": "subslide"
    }
   },
   "source": [
    "# Retrieve with requests"
   ]
  },
  {
   "cell_type": "code",
   "execution_count": 243,
   "id": "dfc3debd",
   "metadata": {
    "ExecuteTime": {
     "end_time": "2022-10-21T07:01:29.483531Z",
     "start_time": "2022-10-21T07:01:29.468398Z"
    }
   },
   "outputs": [
    {
     "data": {
      "text/plain": [
       "b'<!DOCTYPE html PUBLIC \"-//W3C//DTD XHTML 1.0 Transitional//EN\" \"http://www.w3.org/TR/xhtml1/DTD/xhtml1-transitional.dtd\">\\r\\n<html xmlns=\"http://www.w3.org/1999/xhtml\">\\r\\n<head>\\r\\n<title>One Piece lecture en ligne scan</title>\\r\\n\\t<meta name=\"description\" content=\"One Piece Lecture en ligne, tous les scan One Piece.\" /> \\r\\n\\t<meta name=\"lelscan\" content=\"One Piece\" />\\r\\n\\t<meta http-equiv=\"Content-Type\" content=\"text/html;charset=ISO-8859-1\" />\\r\\n\\t<meta http-equiv=\"Content-Language\" content=\"fr\" />\\r\\n\\t<meta name=\"keywords\" content=\"One Piece lecture en ligne, lecture en ligne One Piece, scan One Piece, One Piece scan, One Piece lel, lecture en ligne One Piece, Lecture, lecture,  scan, chapitre, chapitre One Piece, lecture One Piece, lecture Chapitre One Piece, mangas, manga, One Piece, One Piece fr, One Piece france, scans, image One Piece \" /> \\r\\n\\t<meta name=\"subject\" content=\"One Piece lecture en ligne scan\" />\\r\\n\\t<meta name=\"identifier-url\" content=\"https://lelscans.net\" />\\r\\n\\t<meta property=\"og:i'"
      ]
     },
     "execution_count": 243,
     "metadata": {},
     "output_type": "execute_result"
    }
   ],
   "source": [
    "r.content[:1000]"
   ]
  },
  {
   "cell_type": "markdown",
   "id": "9cdc9b37",
   "metadata": {
    "slideshow": {
     "slide_type": "subslide"
    }
   },
   "source": [
    "# Example: remote file size"
   ]
  },
  {
   "cell_type": "code",
   "execution_count": 244,
   "id": "67e07058",
   "metadata": {
    "ExecuteTime": {
     "end_time": "2022-10-21T07:01:32.923776Z",
     "start_time": "2022-10-21T07:01:32.915932Z"
    }
   },
   "outputs": [],
   "source": [
    "def get_size(url):\n",
    "    s = Session()\n",
    "    r = s.head(url)\n",
    "    return int(r.headers['Content-Length'])"
   ]
  },
  {
   "cell_type": "code",
   "execution_count": 245,
   "id": "f752c7d3",
   "metadata": {
    "ExecuteTime": {
     "end_time": "2022-10-21T07:01:34.923284Z",
     "start_time": "2022-10-21T07:01:34.767474Z"
    }
   },
   "outputs": [
    {
     "data": {
      "text/plain": [
       "3897638912"
      ]
     },
     "execution_count": 245,
     "metadata": {},
     "output_type": "execute_result"
    }
   ],
   "source": [
    "url = \"http://ftp.crifo.org/debian-cd/current/amd64/iso-dvd/debian-11.5.0-amd64-DVD-1.iso\"\n",
    "get_size(url)"
   ]
  },
  {
   "cell_type": "markdown",
   "id": "c21e2765",
   "metadata": {
    "slideshow": {
     "slide_type": "subslide"
    }
   },
   "source": [
    "# Example: stream downloading"
   ]
  },
  {
   "cell_type": "code",
   "execution_count": 246,
   "id": "52bc8ad2",
   "metadata": {
    "ExecuteTime": {
     "end_time": "2022-10-21T07:01:37.222632Z",
     "start_time": "2022-10-21T07:01:37.198119Z"
    }
   },
   "outputs": [],
   "source": [
    "from pathlib import Path\n",
    "def download(source_url, dest_file):\n",
    "    s = Session()\n",
    "    s.verify = False\n",
    "    r = s.get(source_url, stream=True)\n",
    "    dest_file = Path(dest_file)\n",
    "    with open(dest_file, \"wb\") as f:\n",
    "        for chunk in r.iter_content(chunk_size=8192):\n",
    "            if chunk: \n",
    "                f.write(chunk)"
   ]
  },
  {
   "cell_type": "code",
   "execution_count": 247,
   "id": "901d6ee3",
   "metadata": {
    "ExecuteTime": {
     "end_time": "2022-10-21T07:01:38.825172Z",
     "start_time": "2022-10-21T07:01:38.231771Z"
    }
   },
   "outputs": [
    {
     "name": "stderr",
     "output_type": "stream",
     "text": [
      "C:\\Users\\fabienma\\anaconda3\\lib\\site-packages\\urllib3\\connectionpool.py:1013: InsecureRequestWarning: Unverified HTTPS request is being made to host 'www-npa.lip6.fr'. Adding certificate verification is strongly advised. See: https://urllib3.readthedocs.io/en/1.26.x/advanced-usage.html#ssl-warnings\n",
      "  warnings.warn(\n"
     ]
    }
   ],
   "source": [
    "url = \"https://www-npa.lip6.fr/~tixeuil/m2r/uploads/Main/PROGRES2022_2.pdf\"\n",
    "download(url, 'python.pdf')"
   ]
  },
  {
   "cell_type": "markdown",
   "id": "9dc6fe38",
   "metadata": {
    "slideshow": {
     "slide_type": "slide"
    }
   },
   "source": [
    "### Manipulate data"
   ]
  },
  {
   "cell_type": "markdown",
   "id": "09492165",
   "metadata": {
    "slideshow": {
     "slide_type": "slide"
    }
   },
   "source": [
    "#### Basic string manipulation"
   ]
  },
  {
   "cell_type": "markdown",
   "id": "2cbf92e6",
   "metadata": {
    "slideshow": {
     "slide_type": "subslide"
    }
   },
   "source": [
    "# String manipulation"
   ]
  },
  {
   "cell_type": "markdown",
   "id": "268de9bf",
   "metadata": {},
   "source": [
    "Even if you have structured data, you need to master basic string manipulations."
   ]
  },
  {
   "cell_type": "code",
   "execution_count": 248,
   "id": "aa09a372",
   "metadata": {
    "ExecuteTime": {
     "end_time": "2022-10-21T07:01:45.847775Z",
     "start_time": "2022-10-21T07:01:45.837067Z"
    }
   },
   "outputs": [
    {
     "name": "stdout",
     "output_type": "stream",
     "text": [
      " Python is a great language\n",
      " but Erlang is pretty cool too!  \n"
     ]
    }
   ],
   "source": [
    "txt = \" Python is a great language\\n but Erlang is pretty cool too!  \"\n",
    "print(txt)"
   ]
  },
  {
   "cell_type": "markdown",
   "id": "e13eaaf3",
   "metadata": {
    "slideshow": {
     "slide_type": "subslide"
    }
   },
   "source": [
    "# Split"
   ]
  },
  {
   "cell_type": "code",
   "execution_count": 249,
   "id": "72a6b37f",
   "metadata": {
    "ExecuteTime": {
     "end_time": "2022-10-21T07:01:50.019577Z",
     "start_time": "2022-10-21T07:01:50.007337Z"
    }
   },
   "outputs": [
    {
     "name": "stdout",
     "output_type": "stream",
     "text": [
      "['Python', 'is', 'a', 'great', 'language', 'but', 'Erlang', 'is', 'pretty', 'cool', 'too!']\n",
      "[' Python is ', ' gre', 't l', 'ngu', 'ge\\n but Erl', 'ng is pretty cool too!  ']\n",
      "[' Python is a great language', ' but Erlang is pretty cool too!  ']\n",
      "[' Python is a great l', 'guage\\n but Erl', 'g is pretty cool too!  ']\n"
     ]
    }
   ],
   "source": [
    "print(l1:=txt.split())\n",
    "print(l2:=txt.split('a'))\n",
    "print(l3:=txt.split('\\n'))\n",
    "print(l4:=txt.split('an'))"
   ]
  },
  {
   "cell_type": "markdown",
   "id": "f155497a",
   "metadata": {
    "slideshow": {
     "slide_type": "subslide"
    }
   },
   "source": [
    "# Join"
   ]
  },
  {
   "cell_type": "code",
   "execution_count": 250,
   "id": "1a168be8",
   "metadata": {
    "ExecuteTime": {
     "end_time": "2022-10-21T07:01:53.712787Z",
     "start_time": "2022-10-21T07:01:53.698464Z"
    }
   },
   "outputs": [
    {
     "name": "stdout",
     "output_type": "stream",
     "text": [
      "Python is a great language but Erlang is pretty cool too!\n",
      " Python is a great language\n",
      " but Erlang is pretty cool too!  \n",
      " Python is a great language\n",
      " but Erlang is pretty cool too!  \n",
      " Python is a great lANguage\n",
      " but ErlANg is pretty cool too!  \n"
     ]
    }
   ],
   "source": [
    "print(' '.join(l1))\n",
    "print('a'.join(l2))\n",
    "print('\\n'.join(l3))\n",
    "print('AN'.join(l4))"
   ]
  },
  {
   "cell_type": "markdown",
   "id": "775f3312",
   "metadata": {
    "slideshow": {
     "slide_type": "subslide"
    }
   },
   "source": [
    "# Other methods"
   ]
  },
  {
   "cell_type": "markdown",
   "id": "a81a291e",
   "metadata": {},
   "source": [
    "By default, `str` in Python have many powerful methods... Try them!"
   ]
  },
  {
   "cell_type": "code",
   "execution_count": 251,
   "id": "130e67a0",
   "metadata": {
    "ExecuteTime": {
     "end_time": "2022-10-21T07:01:56.237263Z",
     "start_time": "2022-10-21T07:01:56.217688Z"
    }
   },
   "outputs": [
    {
     "name": "stdout",
     "output_type": "stream",
     "text": [
      "capitalize, casefold, center, count, encode, endswith, expandtabs, find, format, format_map, index, isalnum, isalpha, isascii, isdecimal, isdigit, isidentifier, islower, isnumeric, isprintable, isspace, istitle, isupper, join, ljust, lower, lstrip, maketrans, partition, removeprefix, removesuffix, replace, rfind, rindex, rjust, rpartition, rsplit, rstrip, split, splitlines, startswith, strip, swapcase, title, translate, upper, zfill\n"
     ]
    }
   ],
   "source": [
    "print(', '.join([method_name for method_name in dir(txt) \n",
    "                 if callable(getattr(txt, method_name)) and not method_name.startswith('_')]))"
   ]
  },
  {
   "cell_type": "markdown",
   "id": "83da1e34",
   "metadata": {
    "slideshow": {
     "slide_type": "slide"
    }
   },
   "source": [
    "#### Regular Expression"
   ]
  },
  {
   "cell_type": "markdown",
   "id": "0e607294",
   "metadata": {
    "slideshow": {
     "slide_type": "subslide"
    }
   },
   "source": [
    "# Regular Expressions"
   ]
  },
  {
   "cell_type": "markdown",
   "id": "b37379c2",
   "metadata": {},
   "source": [
    "- More complex that basic methods\n",
    "- More powerful\n",
    "- Personal advice: don't use RegEx if you can avoid it\n",
    "- Personal advice #2: sometimes, you cannot avoid it, so you need to learn"
   ]
  },
  {
   "cell_type": "markdown",
   "id": "f56d4f8f",
   "metadata": {
    "slideshow": {
     "slide_type": "subslide"
    }
   },
   "source": [
    "# Regular Expressions"
   ]
  },
  {
   "cell_type": "markdown",
   "id": "86a6dcf7",
   "metadata": {},
   "source": [
    "Recipe:\n",
    "- define a *pattern*\n",
    "- apply pattern to a string\n",
    "- you can:\n",
    "  - find all pattern occurrences (`findall`)\n",
    "  - substitute with another string (`sub`)\n",
    "  - check if the pattern matches the string (`match`/`fullmatch`)\n",
    "  - extract parts of the pattern (`group`)"
   ]
  },
  {
   "cell_type": "markdown",
   "id": "ec4ffd80",
   "metadata": {
    "slideshow": {
     "slide_type": "subslide"
    }
   },
   "source": [
    "# Defining a pattern"
   ]
  },
  {
   "cell_type": "markdown",
   "id": "b3da9566",
   "metadata": {},
   "source": [
    "- a, X, 9, < -- ordinary characters just match themselves exactly.\n",
    "- Some characters have special meanings: . ^ \\$ * + ? { [ ] \\ | ( ) (details below)\n",
    "- . (a period) -- matches any single character except newline '\\n'\n",
    "- \\w -- (lowercase w) matches a \"word\" character: a letter or digit or underscore [a-zA-Z0-9_]. \\W matches any non-word character. \n",
    "- \\b -- boundary between word and non-word \n",
    "- \\s -- (lowercase s) matches a single whitespace character -- space, newline, return, \n",
    "tab, form [ \\n\\r\\t\\f]. \\S (upper case S) matches any non-whitespace \n",
    "character."
   ]
  },
  {
   "cell_type": "markdown",
   "id": "3d79083c",
   "metadata": {
    "slideshow": {
     "slide_type": "subslide"
    }
   },
   "source": [
    "# Defining a pattern"
   ]
  },
  {
   "cell_type": "markdown",
   "id": "427397a4",
   "metadata": {},
   "source": [
    "- \\t, \\n, \\r -- tab, newline, return \n",
    "- \\d -- decimal digit [0-9]\n",
    "- \\$=end—match the end of the string. ^ matches the start of the string but also means not\n",
    "- \\ -- inhibit the \"specialness\" of a character. So, for example, use \\\\. to match a \n",
    "period or \\\\\\\\ to match a slash. If you are unsure if a character has special meaning, \n",
    "such as '@', you can put a slash in front of it, \\@, to make sure it is treated just as a \n",
    "character"
   ]
  },
  {
   "cell_type": "markdown",
   "id": "565a2fbc",
   "metadata": {
    "slideshow": {
     "slide_type": "subslide"
    }
   },
   "source": [
    "# Defining a pattern"
   ]
  },
  {
   "cell_type": "markdown",
   "id": "1e79dbb5",
   "metadata": {},
   "source": [
    "- [] - set of possible characters\n",
    "- | - or\n",
    "- {n} - exactly n occurrences.\n",
    "- () - create group \n",
    "- \\+ - at least one occurrence.\n",
    "- \\* - zero or more occurrence.\n",
    "- ? - zero or one occurrence."
   ]
  },
  {
   "cell_type": "markdown",
   "id": "a6e3eec6",
   "metadata": {
    "slideshow": {
     "slide_type": "subslide"
    }
   },
   "source": [
    "# Example: extract Email Information"
   ]
  },
  {
   "cell_type": "code",
   "execution_count": 252,
   "id": "76008f8f",
   "metadata": {
    "ExecuteTime": {
     "end_time": "2022-10-21T07:02:17.610067Z",
     "start_time": "2022-10-21T07:02:17.601118Z"
    }
   },
   "outputs": [
    {
     "name": "stdout",
     "output_type": "stream",
     "text": [
      "('fabien.mathieu', 'normalesup.org')\n"
     ]
    }
   ],
   "source": [
    "import re\n",
    "txt = 'fabien.mathieu@normalesup.org'\n",
    "pattern = '([^@]+)@([^@]+)'\n",
    "m = re.fullmatch(pattern, txt)\n",
    "print(m.groups())"
   ]
  },
  {
   "cell_type": "markdown",
   "id": "c6e73021",
   "metadata": {
    "slideshow": {
     "slide_type": "subslide"
    }
   },
   "source": [
    "# Example: *manual* html parsing"
   ]
  },
  {
   "cell_type": "markdown",
   "id": "f575d389",
   "metadata": {},
   "source": [
    "https://www.lip6.fr/recherche/team_membres.php?acronyme=NPA"
   ]
  },
  {
   "cell_type": "code",
   "execution_count": 253,
   "id": "4f83f58c",
   "metadata": {
    "ExecuteTime": {
     "end_time": "2022-10-21T07:02:21.428269Z",
     "start_time": "2022-10-21T07:02:21.288311Z"
    }
   },
   "outputs": [],
   "source": [
    "url = \"https://www.lip6.fr/recherche/team_membres.php?acronyme=NPA\"\n",
    "r = s.get(url)\n",
    "txt = r.text"
   ]
  },
  {
   "cell_type": "markdown",
   "id": "4accf5b5",
   "metadata": {
    "slideshow": {
     "slide_type": "subslide"
    }
   },
   "source": [
    "# Example: *manual* html parsing"
   ]
  },
  {
   "cell_type": "code",
   "execution_count": 254,
   "id": "5680d6b4",
   "metadata": {
    "ExecuteTime": {
     "end_time": "2022-10-21T07:03:01.540432Z",
     "start_time": "2022-10-21T07:03:01.521547Z"
    }
   },
   "outputs": [
    {
     "data": {
      "text/plain": [
       "'\\n\\t<tr>\\n\\t\\t<td><a class=\"nouser\" title=\"Pas de page personnelle\" href=\"#\"></a><a href=\\'../actualite/personnes-fiche.php?ident=P224\\'>Baey&nbsp;Sébastien</a> (Maître de Conférences, Sorbonne Université)</td>\\n\\t\\t<td class=\\'bureau\\'>Campus Pierre et Marie Curie 26-00/103</td>\\n\\t</tr>\\n\\t<tr>\\n\\t\\t<td><a class=\"nouser\" title=\"Pas de page personnelle\" href=\"#\"></a><a href=\\'../actualite/personnes-fiche.php?ident=P144\\'>Baynat&nbsp;Bruno</a> (Maître de Conférences, Sorbonne Université)</td>\\n\\t\\t<td class=\\'bureau\\'>Campus Pierre et Marie Curie 26-00/112</td>\\n\\t</tr>\\n\\t<tr>\\n\\t\\t<td><a class=\"user\" title=\"Page personnelle\" href=\"http://lip6.fr/Lelia.Blin\"></a><a href=\\'../actualite/personnes-fiche.php?ident=P512\\'>Blin&nbsp;Lélia</a> (Maître de Conférences  [HDR], Université d’Évry - Université Paris-Saclay)</td>\\n\\t\\t<td class=\\'bureau\\'>Campus Pierre et Marie Curie 26-00/122</td>\\n\\t</tr>\\n\\t<tr>\\n\\t\\t<td><a class=\"user\" title=\"Page personnelle\" href=\"http://lip6.fr/Marcelo.Amorim\"></a><a href=\\'../actualite/personnes-fiche.php?ident=P139\\'>Dias de Amorim&nbsp;Marcelo</a> (Directeur de Recherche, CNRS)</td>\\n\\t\\t<td class=\\'bureau\\'>Campus Pierre et Marie Curie 26-00/109</td>\\n\\t</tr>\\n\\t<tr>\\n\\t\\t<td><a class=\"user\" title=\"Page personnelle\" href=\"http://lip6.fr/Serge.Fdida\"></a><a href=\\'../actualite/personnes-fiche.php?ident=P176\\'>Fdida&nbsp;Serge</a> (Professeur, Sorbonne Université)</td>\\n\\t\\t<td class=\\'bureau\\'>Campus Pierre et Marie Curie 26-00/111</td>\\n\\t</tr>\\n\\t<tr>\\n\\t\\t<td><a class=\"user\" title=\"Page personnelle\" href=\"http://lip6.fr/Anne.Fladenmuller\"></a><a href=\\'../actualite/personnes-fiche.php?ident=P1527\\'>Fladenmuller&nbsp;Anne</a> (Professeur, Sorbonne Université)</td>\\n\\t\\t<td class=\\'bureau\\'>Campus Pierre et Marie Curie 26-00/108</td>\\n\\t</tr>\\n\\t<tr>\\n\\t\\t<td><a class=\"nouser\" title=\"Pas de page personnelle\" href=\"#\"></a><a href=\\'../actualite/personnes-fiche.php?ident=P1563\\'>Fossati&nbsp;Francesca</a> (Maître de Conférences, Sorbonne Université)</td>\\n\\t\\t<td class=\\'bureau\\'>Campus Pierre et Marie Curie 26-00/117</td>\\n\\t</tr>\\n\\t<tr>\\n\\t\\t<td><a class=\"user\" title=\"Page personnelle\" href=\"http://lip6.fr/Olivier.Fourmaux\"></a><a href=\\'../actualite/personnes-fiche.php?ident=P153\\'>Fourmaux&nbsp;Olivier</a> (Maître de Conférences  [HDR], Sorbonne Université)</td>\\n\\t\\t<td class=\\'bureau\\'>Campus Pierre et Marie Curie 26-00/103</td>\\n\\t</tr>\\n\\t<tr>\\n\\t\\t<td><a class=\"user\" title=\"Page personnelle\" href=\"http://lip6.fr/Timur.Friedman\"></a><a href=\\'../actualite/personnes-fiche.php?ident=P154\\'>Friedman&nbsp;Timur</a> (Maître de Conférences, Sorbonne Université)</td>\\n\\t\\t<td class=\\'bureau\\'>Campus Pierre et Marie Curie 26-00/107</td>\\n\\t</tr>\\n\\t<tr>\\n\\t\\t<td><a class=\"user\" title=\"Page personnelle\" href=\"http://lip6.fr/Anastasios.Giovanidis\"></a><a href=\\'../actualite/personnes-fiche.php?ident=P1140\\'>Giovanidis&nbsp;Anastasios</a> (Chargé de Recherche [HDR], CNRS)</td>\\n\\t\\t<td class=\\'bureau\\'>Campus Pierre et Marie Curie 26-00/126</td>\\n\\t</tr>\\n\\t<tr>\\n\\t\\t<td><a class=\"nouser\" title=\"Pas de page personnelle\" href=\"#\"></a><a href=\\'../actualite/personnes-fiche.php?ident=P161\\'>Malouch&nbsp;Naceur</a> (Maître de Conférences  [HDR], Sorbonne Université)</td>\\n\\t\\t<td class=\\'bureau\\'>Campus Pierre et Marie Curie 26-00/105</td>\\n\\t</tr>\\n\\t<tr>\\n\\t\\t<td><a class=\"nouser\" title=\"Pas de page personnelle\" href=\"#\"></a><a href=\\'../actualite/personnes-fiche.php?ident=P187\\'>Marzouki&nbsp;Meryem</a> (Chargée de Recherche [HDR], CNRS)</td>\\n\\t\\t<td class=\\'bureau\\'>Campus Pierre et Marie Curie 26-00/105</td>\\n\\t</tr>\\n\\t<tr>\\n\\t\\t<td><a class=\"user\" title=\"Page personnelle\" href=\"http://lip6.fr/Maria.Potop-Butucaru\"></a><strong><a href=\\'../actualite/personnes-fiche.php?ident=P246\\'>Potop-Butucaru&nbsp;Maria</a></strong> (Professeur, Sorbonne Université)</td>\\n\\t\\t<td class=\\'bureau\\'>Campus Pierre et Marie Curie 26-00/115</td>\\n\\t</tr>\\n\\t<tr>\\n\\t\\t<td><a class=\"nouser\" title=\"Pas de page personnelle\" href=\"#\"></a><a href=\\'../actualite/personnes-fiche.php?ident=P223\\'>Spathis&nbsp;Prométhée</a> (Maître de Conférences  [HDR], Sorbonne Université)</td>\\n\\t\\t<td class=\\'bureau\\'>Campus Pierre et Marie Curie 26-00/128</td>\\n\\t</tr>\\n\\t<tr>\\n\\t\\t<td><a class=\"nouser\" title=\"Pas de page personnelle\" href=\"#\"></a><a href=\\'../actualite/personnes-fiche.php?ident=P172\\'>Thai&nbsp;Kim Loan</a> (Maître de Conférences, Sorbonne Université)</td>\\n\\t\\t<td class=\\'bureau\\'>Campus Pierre et Marie Curie 26-00/114</td>\\n\\t</tr>\\n\\t<tr>\\n\\t\\t<td><a class=\"user\" title=\"Page personnelle\" href=\"http://lip6.fr/Sebastien.Tixeuil\"></a><a href=\\'../actualite/personnes-fiche.php?ident=P384\\'>Tixeuil&nbsp;Sébastien</a> (Professeur, Sorbonne Université)</td>\\n\\t\\t<td class=\\'bureau\\'>Campus Pierre et Marie Curie 26-00/113</td>\\n\\t</tr>\\n\\n\\t'"
      ]
     },
     "execution_count": 254,
     "metadata": {},
     "output_type": "execute_result"
    }
   ],
   "source": [
    "pattern1 = r\"<table class='annuaire'>(.*?)</table>\"\n",
    "permanents = re.findall(pattern1, txt, re.DOTALL)[0]\n",
    "permanents"
   ]
  },
  {
   "cell_type": "markdown",
   "id": "ebcf43d1",
   "metadata": {
    "slideshow": {
     "slide_type": "subslide"
    }
   },
   "source": [
    "# Example: *manual* html parsing"
   ]
  },
  {
   "cell_type": "code",
   "execution_count": 255,
   "id": "5ea8bde7",
   "metadata": {
    "ExecuteTime": {
     "end_time": "2022-10-21T07:03:17.300232Z",
     "start_time": "2022-10-21T07:03:17.289112Z"
    }
   },
   "outputs": [
    {
     "name": "stdout",
     "output_type": "stream",
     "text": [
      "Baey Sébastien: 103\n",
      "Baynat Bruno: 112\n",
      "Blin Lélia: 122\n",
      "Dias de Amorim Marcelo: 109\n",
      "Fdida Serge: 111\n",
      "Fladenmuller Anne: 108\n",
      "Fossati Francesca: 117\n",
      "Fourmaux Olivier: 103\n",
      "Friedman Timur: 107\n",
      "Giovanidis Anastasios: 126\n",
      "Malouch Naceur: 105\n",
      "Marzouki Meryem: 105\n",
      "Potop-Butucaru Maria: 115\n",
      "Spathis Prométhée: 128\n",
      "Thai Kim Loan: 114\n",
      "Tixeuil Sébastien: 113\n"
     ]
    }
   ],
   "source": [
    "pattern = r\"<a href=.*?>([^<]*?)</a>.*?26-00/([0-9]{3})\"\n",
    "print(\"\\n\".join(f\"{p[0].replace('&nbsp;', ' ')}: {p[1]}\" \n",
    "                for p in re.findall(pattern, permanents, re.DOTALL)))"
   ]
  },
  {
   "cell_type": "markdown",
   "id": "b21dca1d",
   "metadata": {
    "slideshow": {
     "slide_type": "slide"
    }
   },
   "source": [
    "#### HTML parsing with BeautifulSoup"
   ]
  },
  {
   "cell_type": "markdown",
   "id": "47c3c862",
   "metadata": {
    "slideshow": {
     "slide_type": "subslide"
    }
   },
   "source": [
    "# BeautifulSoup"
   ]
  },
  {
   "cell_type": "markdown",
   "id": "ef041956",
   "metadata": {},
   "source": [
    "A much easier way to manipulate html!\n",
    "- Make a soup (a navigable version of a string)\n",
    "- Browse a soup \n",
    "- soup.find(\"tag\") / soup.tag (returns soup)\n",
    "- soup.find_all(\"tag\") / soup(\"tag\") (returns list)\n",
    "- soup.find(\"tag\", {'attr_name': 'attr_value'})\n",
    "- soup.contents (list of children)\n",
    "- soup.attrs: attributes"
   ]
  },
  {
   "cell_type": "markdown",
   "id": "852ce37b",
   "metadata": {
    "slideshow": {
     "slide_type": "subslide"
    }
   },
   "source": [
    "# BeautifulSoup"
   ]
  },
  {
   "cell_type": "markdown",
   "id": "e5d2646d",
   "metadata": {},
   "source": [
    "Extract text:\n",
    "- soup.decode_contents(): returns soup as string\n",
    "- soup.encode_contents(): returns soup as bytes\n",
    "- soup.text: return soup as tagless string\n",
    "- soup['attr_name']: return attribute value\n",
    "- soup.name: tag name"
   ]
  },
  {
   "cell_type": "markdown",
   "id": "45f54ff0",
   "metadata": {
    "slideshow": {
     "slide_type": "subslide"
    }
   },
   "source": [
    "# Back to RE example"
   ]
  },
  {
   "cell_type": "code",
   "execution_count": 256,
   "id": "b16514ec",
   "metadata": {
    "ExecuteTime": {
     "end_time": "2022-10-21T07:05:31.030607Z",
     "start_time": "2022-10-21T07:05:30.970883Z"
    }
   },
   "outputs": [
    {
     "name": "stdout",
     "output_type": "stream",
     "text": [
      "Baey Sébastien: 103\n",
      "Baynat Bruno: 112\n",
      "Blin Lélia: 122\n",
      "Dias de Amorim Marcelo: 109\n",
      "Fdida Serge: 111\n",
      "Fladenmuller Anne: 108\n",
      "Fossati Francesca: 117\n",
      "Fourmaux Olivier: 103\n",
      "Friedman Timur: 107\n",
      "Giovanidis Anastasios: 126\n",
      "Malouch Naceur: 105\n",
      "Marzouki Meryem: 105\n",
      "Potop-Butucaru Maria: 115\n",
      "Spathis Prométhée: 128\n",
      "Thai Kim Loan: 114\n",
      "Tixeuil Sébastien: 113\n"
     ]
    }
   ],
   "source": [
    "from bs4 import BeautifulSoup as Soup\n",
    "soup = Soup(r.text)\n",
    "nbsp = '\\xa0'\n",
    "entries = soup.table('tr')\n",
    "names = [ p('a')[1].text.replace(nbsp, ' ') for p in entries ]\n",
    "rooms = [ p('td')[-1].text.rsplit('/')[1] for p in entries ]\n",
    "print('\\n'.join(f\"{n}: {r}\" for n, r in zip(names, rooms)))"
   ]
  },
  {
   "cell_type": "markdown",
   "id": "98ac27e1",
   "metadata": {
    "slideshow": {
     "slide_type": "subslide"
    }
   },
   "source": [
    "# Another example"
   ]
  },
  {
   "cell_type": "markdown",
   "id": "9b7d1680",
   "metadata": {},
   "source": [
    "https://www.lip6.fr/production/publications-type.php?id=-1&annee=2022&type_pub=ART"
   ]
  },
  {
   "cell_type": "code",
   "execution_count": 257,
   "id": "4a3de099",
   "metadata": {
    "ExecuteTime": {
     "end_time": "2022-10-21T07:06:08.133122Z",
     "start_time": "2022-10-21T07:06:08.010240Z"
    }
   },
   "outputs": [],
   "source": [
    "news = \"https://www.lip6.fr/production/publications-type.php?id=-1&annee=2022&type_pub=ART\"\n",
    "soup = Soup(s.get(news).text)"
   ]
  },
  {
   "cell_type": "markdown",
   "id": "f75880ba",
   "metadata": {
    "slideshow": {
     "slide_type": "subslide"
    }
   },
   "source": [
    "# Another example"
   ]
  },
  {
   "cell_type": "code",
   "execution_count": 258,
   "id": "8927eaa8",
   "metadata": {
    "ExecuteTime": {
     "end_time": "2022-10-21T07:06:12.764981Z",
     "start_time": "2022-10-21T07:06:12.750978Z"
    }
   },
   "outputs": [
    {
     "data": {
      "text/plain": [
       "<li class=\"D700\"><strong>P. Amestoy, O. Boiteau, A. Buttari, M. Gerest, F. Jézéquel, J.‑Y. L'Excellent, Th. Mary</strong> : “<a href=\"https://hal.archives-ouvertes.fr/hal-03251738\">Mixed Precision Low Rank Approximations and their Application to Block Low Rank LU Factorization</a>”, IMA Journal of Numerical Analysis, (Oxford University Press (OUP)) [Amestoy 2022b]</li>"
      ]
     },
     "execution_count": 258,
     "metadata": {},
     "output_type": "execute_result"
    }
   ],
   "source": [
    "soup.find('li', {'class': 'D700'})"
   ]
  },
  {
   "cell_type": "markdown",
   "id": "e4d21c56",
   "metadata": {
    "slideshow": {
     "slide_type": "subslide"
    }
   },
   "source": [
    "# Another example"
   ]
  },
  {
   "cell_type": "code",
   "execution_count": 259,
   "id": "30eaf7e2",
   "metadata": {
    "ExecuteTime": {
     "end_time": "2022-10-21T07:06:24.158523Z",
     "start_time": "2022-10-21T07:06:24.143116Z"
    }
   },
   "outputs": [
    {
     "name": "stdout",
     "output_type": "stream",
     "text": [
      "Mixed Precision Low Rank Approximations and their Application to Block Low Rank LU Factorization\n",
      "https://hal.archives-ouvertes.fr/hal-03251738\n",
      "Proposer un jeu sérieux pour former à l’inclusion : retour d’expérience en France\n",
      "https://hal.archives-ouvertes.fr/hal-03596832\n",
      "Lessons Learned and Future Directions of MetaTutor: Leveraging Multichannel Data to Scaffold Self-Regulated Learning With an Intelligent Tutoring System\n",
      "https://hal.archives-ouvertes.fr/hal-03701172\n",
      "On Polynomial Modular Number Systems over $ \\mathbb{Z}/{p}\\mathbb{Z} $\n",
      "https://hal.archives-ouvertes.fr/hal-03611829\n",
      "Multistage knapsack\n",
      "https://hal.archives-ouvertes.fr/hal-03660984\n"
     ]
    }
   ],
   "source": [
    "for p in soup.find_all('li', {'class': 'D700'})[:5]:\n",
    "    a = p.a\n",
    "    print(a.text)\n",
    "    print(a['href'])"
   ]
  },
  {
   "cell_type": "markdown",
   "id": "69066c0f",
   "metadata": {
    "slideshow": {
     "slide_type": "slide"
    }
   },
   "source": [
    "#### XML"
   ]
  },
  {
   "cell_type": "markdown",
   "id": "600a0018",
   "metadata": {
    "slideshow": {
     "slide_type": "subslide"
    }
   },
   "source": [
    "# XML"
   ]
  },
  {
   "cell_type": "markdown",
   "id": "ceebe32e",
   "metadata": {},
   "source": [
    "- A human-readable way to represent data\n",
    "- Introduced as a generalization / normalization of HTML\n",
    "- Extensible Markup Language (XML) \n",
    "- Serializable (can be directly loaded/dumped from string)\n",
    "- Used by many langages"
   ]
  },
  {
   "cell_type": "markdown",
   "id": "e1c780f5",
   "metadata": {
    "slideshow": {
     "slide_type": "subslide"
    }
   },
   "source": [
    "# XML specification"
   ]
  },
  {
   "cell_type": "markdown",
   "id": "578c0cb3",
   "metadata": {},
   "source": [
    "XML is made of markups similar to HTML:\n",
    "- tag: something that starts with < and ends with >.\n",
    "  - start-tag, such as `<section>`\n",
    "  - end-tag, such as `</section>`\n",
    "  - empty-element tag, such as `<line-break />\n",
    "- element: empty-element tag or anything between a start and matching tags (included)\n",
    "- content: anything between a start and matching tags (excluded). Can contain text and/or element(s)\n",
    "- attribute: key-value pairs stored inside a start or empty tag."
   ]
  },
  {
   "cell_type": "markdown",
   "id": "43a616f8",
   "metadata": {
    "slideshow": {
     "slide_type": "subslide"
    }
   },
   "source": [
    "# Example #1"
   ]
  },
  {
   "cell_type": "code",
   "execution_count": 260,
   "id": "285d65f2",
   "metadata": {
    "ExecuteTime": {
     "end_time": "2022-10-21T07:06:38.687195Z",
     "start_time": "2022-10-21T07:06:38.681194Z"
    }
   },
   "outputs": [],
   "source": [
    "xml = \"\"\"\n",
    "<?xml version=\"1.0\" encoding=\"UTF-8\"?> \n",
    "<note> \n",
    "<to>Tove</to>\n",
    "<from>Jani</from> \n",
    "<heading>Reminder</heading>\n",
    "<body>Don't forget me this weekend!</body> \n",
    "</note>\n",
    "\"\"\""
   ]
  },
  {
   "cell_type": "markdown",
   "id": "e336f5bc",
   "metadata": {
    "slideshow": {
     "slide_type": "subslide"
    }
   },
   "source": [
    "# Example #2"
   ]
  },
  {
   "cell_type": "code",
   "execution_count": 261,
   "id": "4783c8d1",
   "metadata": {
    "ExecuteTime": {
     "end_time": "2022-10-21T07:06:41.153777Z",
     "start_time": "2022-10-21T07:06:41.139638Z"
    }
   },
   "outputs": [],
   "source": [
    "xml = \"\"\"<?xml version=\"1.0\"?> <data> \n",
    "<country name=\"Liechtenstein\"> <rank>1</rank>\n",
    "<year>2008</year> <gdppc>141100</gdppc>\n",
    "<neighbor name=\"Austria\" direction=\"E\"/> \n",
    "<neighbor name=\"Switzerland\" direction=\"W\"/> \n",
    "</country>\n",
    "<country name=\"Singapore\"> \n",
    "<rank>4</rank>\n",
    "<year>2011</year> <gdppc>59900</gdppc>\n",
    "<neighbor name=\"Malaysia\" direction=\"N\"/> \n",
    "</country>\n",
    "<country name=\"Panama\"> \n",
    "<rank>68</rank>\n",
    "<year>2011</year> <gdppc>13600</gdppc>\n",
    "<neighbor name=\"Costa Rica\" direction=\"W\"/> \n",
    "<neighbor name=\"Colombia\" direction=\"E\"/> \n",
    "</country> </data> \n",
    "\"\"\"\n",
    "with open('data.xml', 'wt') as f:\n",
    "    f.write(xml)"
   ]
  },
  {
   "cell_type": "markdown",
   "id": "da73de6a",
   "metadata": {
    "slideshow": {
     "slide_type": "subslide"
    }
   },
   "source": [
    "# Parsing XML with the xml package"
   ]
  },
  {
   "cell_type": "markdown",
   "id": "cbf2192c",
   "metadata": {},
   "source": [
    "xml.etree.ElementTree loads the whole file, you can then navigate in the tree structure."
   ]
  },
  {
   "cell_type": "code",
   "execution_count": 263,
   "id": "3b04a59a",
   "metadata": {
    "ExecuteTime": {
     "end_time": "2022-10-21T07:07:14.537046Z",
     "start_time": "2022-10-21T07:07:14.514508Z"
    }
   },
   "outputs": [
    {
     "name": "stdout",
     "output_type": "stream",
     "text": [
      "Main tag: data; main attributes: {}\n",
      "Text of second element of first element: 2008\n",
      "country {'name': 'Liechtenstein'}\n",
      "country {'name': 'Singapore'}\n",
      "country {'name': 'Panama'}\n",
      "{'name': 'Austria', 'direction': 'E'}\n",
      "{'name': 'Switzerland', 'direction': 'W'}\n",
      "{'name': 'Malaysia', 'direction': 'N'}\n",
      "{'name': 'Costa Rica', 'direction': 'W'}\n",
      "{'name': 'Colombia', 'direction': 'E'}\n"
     ]
    }
   ],
   "source": [
    "import xml.etree.ElementTree as ET\n",
    "root = ET.parse('data.xml').getroot()\n",
    "print(f\"Main tag: {root.tag}; main attributes: {root.attrib}\")\n",
    "print(f\"Text of second element of first element: {root[0][1].text}\")\n",
    "for child in root:\n",
    "    print(child.tag, child.attrib)\n",
    "for n in root.iter('neighbor'):\n",
    "    print(n.attrib)"
   ]
  },
  {
   "cell_type": "markdown",
   "id": "a0555598",
   "metadata": {
    "slideshow": {
     "slide_type": "subslide"
    }
   },
   "source": [
    "# Parsing XML with the xml package"
   ]
  },
  {
   "cell_type": "markdown",
   "id": "5f644880",
   "metadata": {},
   "source": [
    "- You can also load from string (instead of from file)\n",
    "- For very large files, you may want to iterate from file instead of loading the full content"
   ]
  },
  {
   "cell_type": "code",
   "execution_count": 264,
   "id": "5cd903d1",
   "metadata": {
    "ExecuteTime": {
     "end_time": "2022-10-21T07:07:26.516033Z",
     "start_time": "2022-10-21T07:07:26.492893Z"
    }
   },
   "outputs": [
    {
     "name": "stdout",
     "output_type": "stream",
     "text": [
      "Main tag: data; main attributes: {}\n"
     ]
    }
   ],
   "source": [
    "root = ET.fromstring(xml) \n",
    "print(f\"Main tag: {root.tag}; main attributes: {root.attrib}\")"
   ]
  },
  {
   "cell_type": "markdown",
   "id": "29db4627",
   "metadata": {
    "slideshow": {
     "slide_type": "subslide"
    }
   },
   "source": [
    "# Parsing XML with BeautifulSoup"
   ]
  },
  {
   "cell_type": "code",
   "execution_count": 265,
   "id": "322572f8",
   "metadata": {
    "ExecuteTime": {
     "end_time": "2022-10-21T07:07:29.745835Z",
     "start_time": "2022-10-21T07:07:29.720467Z"
    }
   },
   "outputs": [
    {
     "data": {
      "text/plain": [
       "<?xml version=\"1.0\"?><html><body><data>\n",
       "<country name=\"Liechtenstein\"> <rank>1</rank>\n",
       "<year>2008</year> <gdppc>141100</gdppc>\n",
       "<neighbor direction=\"E\" name=\"Austria\"></neighbor>\n",
       "<neighbor direction=\"W\" name=\"Switzerland\"></neighbor>\n",
       "</country>\n",
       "<country name=\"Singapore\">\n",
       "<rank>4</rank>\n",
       "<year>2011</year> <gdppc>59900</gdppc>\n",
       "<neighbor direction=\"N\" name=\"Malaysia\"></neighbor>\n",
       "</country>\n",
       "<country name=\"Panama\">\n",
       "<rank>68</rank>\n",
       "<year>2011</year> <gdppc>13600</gdppc>\n",
       "<neighbor direction=\"W\" name=\"Costa Rica\"></neighbor>\n",
       "<neighbor direction=\"E\" name=\"Colombia\"></neighbor>\n",
       "</country> </data>\n",
       "</body></html>"
      ]
     },
     "execution_count": 265,
     "metadata": {},
     "output_type": "execute_result"
    }
   ],
   "source": [
    "soup = Soup(xml)\n",
    "soup"
   ]
  },
  {
   "cell_type": "markdown",
   "id": "7da76b10",
   "metadata": {
    "slideshow": {
     "slide_type": "subslide"
    }
   },
   "source": [
    "# Parsing XML with BeautifulSoup"
   ]
  },
  {
   "cell_type": "code",
   "execution_count": 266,
   "id": "e603a052",
   "metadata": {
    "ExecuteTime": {
     "end_time": "2022-10-21T07:07:32.334446Z",
     "start_time": "2022-10-21T07:07:32.321056Z"
    }
   },
   "outputs": [
    {
     "name": "stdout",
     "output_type": "stream",
     "text": [
      "country {'name': 'Liechtenstein'}\n",
      "country {'name': 'Singapore'}\n",
      "country {'name': 'Panama'}\n"
     ]
    }
   ],
   "source": [
    "print(\"\\n\".join( c.name+\" \"+str(c.attrs) for c in soup.data.contents if c.name))"
   ]
  },
  {
   "cell_type": "code",
   "execution_count": 267,
   "id": "d371a2cd",
   "metadata": {
    "ExecuteTime": {
     "end_time": "2022-10-21T07:07:33.193883Z",
     "start_time": "2022-10-21T07:07:33.172099Z"
    }
   },
   "outputs": [
    {
     "name": "stdout",
     "output_type": "stream",
     "text": [
      "{'name': 'Austria', 'direction': 'E'}\n",
      "{'name': 'Switzerland', 'direction': 'W'}\n",
      "{'name': 'Malaysia', 'direction': 'N'}\n",
      "{'name': 'Costa Rica', 'direction': 'W'}\n",
      "{'name': 'Colombia', 'direction': 'E'}\n"
     ]
    }
   ],
   "source": [
    "\n",
    "print(\"\\n\".join( str(c.attrs) for c in soup('neighbor')))"
   ]
  },
  {
   "cell_type": "markdown",
   "id": "b17e2a47",
   "metadata": {
    "slideshow": {
     "slide_type": "slide"
    }
   },
   "source": [
    "#### JSON"
   ]
  },
  {
   "cell_type": "markdown",
   "id": "f984476e",
   "metadata": {
    "slideshow": {
     "slide_type": "subslide"
    }
   },
   "source": [
    "# JSON"
   ]
  },
  {
   "cell_type": "markdown",
   "id": "82995e7f",
   "metadata": {},
   "source": [
    "- A simple way to represent data\n",
    "- Introduced for Javascript (JavaScript Object Notation)\n",
    "- More compact than HTML/XML, but still easy to read by humans\n",
    "- Anything that can be represented in XML can be represented in JSON\n",
    "- Serializable (can be directly dumped into a string)\n",
    "- Widely used by many langages"
   ]
  },
  {
   "cell_type": "markdown",
   "id": "88e104fa",
   "metadata": {
    "slideshow": {
     "slide_type": "subslide"
    }
   },
   "source": [
    "# JSON specification"
   ]
  },
  {
   "cell_type": "markdown",
   "id": "e3a40e20",
   "metadata": {},
   "source": [
    "JSON data can be:\n",
    "- A number\n",
    "- A string\n",
    "- A boolean, `true` or `false` (-> `True` or `False` in Python)\n",
    "- An ordered list of elements (-> Python `list`)\n",
    "- A collection of key–value pairs where the keys are strings (-> Python `dict`)\n",
    "- null: an empty value, using the word `null` (-> `None`)"
   ]
  },
  {
   "cell_type": "markdown",
   "id": "dac1dba4",
   "metadata": {
    "slideshow": {
     "slide_type": "subslide"
    }
   },
   "source": [
    "# Example: from/to string"
   ]
  },
  {
   "cell_type": "code",
   "execution_count": 270,
   "id": "a823a24f",
   "metadata": {
    "ExecuteTime": {
     "end_time": "2022-10-21T07:09:25.060757Z",
     "start_time": "2022-10-21T07:09:25.042761Z"
    }
   },
   "outputs": [
    {
     "data": {
      "text/plain": [
       "'[\"a\\\\u00e9\\\\u00e7\\\\u00e8\\\\u00e0\", 1234, [4, 5, 6], {\"key1\": null, \"key2\": true}]'"
      ]
     },
     "execution_count": 270,
     "metadata": {},
     "output_type": "execute_result"
    }
   ],
   "source": [
    "from json import loads, dumps\n",
    "dumps(['aéçèà',1234,[4,5,6], {'key1': None, 'key2': True}])"
   ]
  },
  {
   "cell_type": "code",
   "execution_count": 271,
   "id": "321a348e",
   "metadata": {
    "ExecuteTime": {
     "end_time": "2022-10-21T07:09:29.728861Z",
     "start_time": "2022-10-21T07:09:29.712553Z"
    }
   },
   "outputs": [
    {
     "data": {
      "text/plain": [
       "['aéçèà', 1234, [4, 5, 6], {'key1': None, 'key2': True}]"
      ]
     },
     "execution_count": 271,
     "metadata": {},
     "output_type": "execute_result"
    }
   ],
   "source": [
    "loads('[\"a\\\\u00e9\\\\u00e7\\\\u00e8\\\\u00e0\", 1234, [4, 5, 6], {\"key1\": null, \"key2\": true}]')"
   ]
  },
  {
   "cell_type": "markdown",
   "id": "a1f2ed1a",
   "metadata": {
    "slideshow": {
     "slide_type": "subslide"
    }
   },
   "source": [
    "# Example: from/to file"
   ]
  },
  {
   "cell_type": "code",
   "execution_count": 272,
   "id": "9e0a6173",
   "metadata": {
    "ExecuteTime": {
     "end_time": "2022-10-21T07:09:36.341019Z",
     "start_time": "2022-10-21T07:09:36.323703Z"
    }
   },
   "outputs": [],
   "source": [
    "from json import load, dump\n",
    "data = {}\n",
    "data['people'] = []\n",
    "data['people'].append({'name': 'Mark', 'website': 'facebook.com'})\n",
    "data['people'].append({'name': 'Larry', 'website': 'google.com'})\n",
    "data['people'].append({'name': 'Tim', 'website': 'apple.com',})\n",
    "with open('data.json', 'wt') as f:\n",
    "    dump(data, f)"
   ]
  },
  {
   "cell_type": "markdown",
   "id": "4f27a42b",
   "metadata": {
    "slideshow": {
     "slide_type": "subslide"
    }
   },
   "source": [
    "# Example: from/to file"
   ]
  },
  {
   "cell_type": "code",
   "execution_count": 273,
   "id": "8223e571",
   "metadata": {
    "ExecuteTime": {
     "end_time": "2022-10-21T07:09:39.410559Z",
     "start_time": "2022-10-21T07:09:39.391512Z"
    }
   },
   "outputs": [
    {
     "data": {
      "text/plain": [
       "'{\"people\": [{\"name\": \"Mark\", \"website\": \"facebook.com\"}, {\"name\": \"Larry\", \"website\": \"google.com\"}, {\"name\": \"Tim\", \"website\": \"apple.com\"}]}'"
      ]
     },
     "execution_count": 273,
     "metadata": {},
     "output_type": "execute_result"
    }
   ],
   "source": [
    "with open('data.json', 'rt') as f:\n",
    "    raw = f.read()\n",
    "raw"
   ]
  },
  {
   "cell_type": "code",
   "execution_count": 274,
   "id": "64a73ec8",
   "metadata": {
    "ExecuteTime": {
     "end_time": "2022-10-21T07:09:40.161674Z",
     "start_time": "2022-10-21T07:09:40.142595Z"
    },
    "scrolled": true
   },
   "outputs": [
    {
     "name": "stdout",
     "output_type": "stream",
     "text": [
      "Name: Mark; Website: facebook.com\n",
      "Name: Larry; Website: google.com\n",
      "Name: Tim; Website: apple.com\n"
     ]
    }
   ],
   "source": [
    "with open('data.json', 'rt') as f:\n",
    "    data = load(f)\n",
    "print('\\n'.join( f\"Name: {p['name']}; Website: {p['website']}\" for p in data['people']))"
   ]
  },
  {
   "cell_type": "markdown",
   "id": "96abe79f",
   "metadata": {
    "slideshow": {
     "slide_type": "slide"
    }
   },
   "source": [
    "#### CSV"
   ]
  },
  {
   "cell_type": "markdown",
   "id": "9949b291",
   "metadata": {
    "slideshow": {
     "slide_type": "subslide"
    }
   },
   "source": [
    "# CSV"
   ]
  },
  {
   "cell_type": "markdown",
   "id": "d9091f3b",
   "metadata": {},
   "source": [
    "- CSV: Comma Separated Values\n",
    "- Cheap format for tables\n",
    "- Each line is a row\n",
    "- Column are separated by a separator (usually but not necessarily comma)\n",
    "- First row may contain header names"
   ]
  },
  {
   "cell_type": "markdown",
   "id": "fbfd0ea9",
   "metadata": {
    "slideshow": {
     "slide_type": "subslide"
    }
   },
   "source": [
    "# Example: the Big Mac index"
   ]
  },
  {
   "cell_type": "markdown",
   "id": "166970a7",
   "metadata": {},
   "source": [
    "https://github.com/TheEconomist/big-mac-data"
   ]
  },
  {
   "cell_type": "code",
   "execution_count": 275,
   "id": "86351af0",
   "metadata": {
    "ExecuteTime": {
     "end_time": "2022-10-21T07:09:46.105049Z",
     "start_time": "2022-10-21T07:09:45.592091Z"
    }
   },
   "outputs": [
    {
     "name": "stdout",
     "output_type": "stream",
     "text": [
      "name,iso_a3,currency_code,local_price,dollar_ex,GDP_dollar,date\n",
      "Argentina,ARG,ARS,2.5,1,,2000-04-01\n",
      "Australia,AUS,AUD,2.59,1.68,,2000-04-01\n",
      "Brazil,BRA,BRL,2.95,1.79,,2000-04-01\n",
      "Britain,GBR,GBP,1.9,0.632911392,,2000-04-01\n",
      "Canada,CAN,CAD,2.85,1.47,,2000-04-01\n",
      "Chile,CHL,CLP,1260,514,,2000-04-01\n",
      "China,C\n"
     ]
    }
   ],
   "source": [
    "url = \"https://github.com/TheEconomist/big-mac-data/raw/master/source-data/big-mac-source-data.csv\"\n",
    "big_mac = s.get(url).text\n",
    "print(big_mac[:300])"
   ]
  },
  {
   "cell_type": "markdown",
   "id": "70fb0856",
   "metadata": {
    "slideshow": {
     "slide_type": "subslide"
    }
   },
   "source": [
    "# Using the csv module"
   ]
  },
  {
   "cell_type": "code",
   "execution_count": 276,
   "id": "f0b57019",
   "metadata": {
    "ExecuteTime": {
     "end_time": "2022-10-21T07:09:48.651186Z",
     "start_time": "2022-10-21T07:09:48.621143Z"
    }
   },
   "outputs": [
    {
     "name": "stdout",
     "output_type": "stream",
     "text": [
      "France,3.5,2011-07-01\n",
      "France,3.6,2012-01-01\n",
      "France,3.6,2012-07-01\n",
      "France,3.6,2013-01-01\n",
      "France,3.9,2013-07-01\n",
      "France,3.8,2014-01-01\n",
      "France,3.9,2014-07-01\n",
      "France,3.9,2015-01-01\n",
      "France,4.1,2015-07-01\n",
      "France,4.1,2016-01-01\n",
      "France,4.1,2016-07-01\n",
      "France,4.1,2017-01-01\n",
      "France,4.1,2017-07-01\n",
      "France,4.2,2018-01-01\n",
      "France,4.2,2018-07-01\n",
      "France,4.2,2019-01-01\n",
      "France,4.2,2019-07-09\n",
      "France,4.2,2020-01-14\n",
      "France,4.2,2020-07-01\n",
      "France,4.2,2021-01-01\n",
      "France,4.3,2021-07-01\n",
      "France,4.35,2022-01-01\n",
      "France,4.7,2022-07-01\n"
     ]
    }
   ],
   "source": [
    "from io import StringIO # Make a string look like a file\n",
    "import csv\n",
    "with StringIO(big_mac) as csvfile:\n",
    "    r = csv.reader(csvfile)\n",
    "    for row in r:\n",
    "        if(row[0] == \"France\"):\n",
    "            print(str(row[0]) + ',' + str(row[3]) + ',' + str(row[6]))"
   ]
  },
  {
   "cell_type": "markdown",
   "id": "d944a334",
   "metadata": {
    "slideshow": {
     "slide_type": "subslide"
    }
   },
   "source": [
    "# Using the csv module"
   ]
  },
  {
   "cell_type": "code",
   "execution_count": 277,
   "id": "385979dd",
   "metadata": {
    "ExecuteTime": {
     "end_time": "2022-10-21T07:09:51.548090Z",
     "start_time": "2022-10-21T07:09:51.529290Z"
    }
   },
   "outputs": [
    {
     "name": "stdout",
     "output_type": "stream",
     "text": [
      "name,local_price,date\n",
      "Argentina,2.5,2000-04-01\n",
      "Australia,2.59,2000-04-01\n",
      "Brazil,2.95,2000-04-01\n",
      "Britain,1.9,2000-04-01\n",
      "Canada,2.85,2000-04-01\n",
      "Chile,1260,2000-04-01\n",
      "China,9.9,2000-04-01\n"
     ]
    }
   ],
   "source": [
    "with StringIO(big_mac) as csvfile:\n",
    "    r = csv.reader(csvfile)\n",
    "    for i, row in enumerate(r):\n",
    "        print(str(row[0]) + ',' + str(row[3]) + ',' + str(row[6]))\n",
    "        if i>6:\n",
    "            break"
   ]
  },
  {
   "cell_type": "markdown",
   "id": "008cca00",
   "metadata": {
    "slideshow": {
     "slide_type": "subslide"
    }
   },
   "source": [
    "# Using the csv module"
   ]
  },
  {
   "cell_type": "code",
   "execution_count": 278,
   "id": "c3da7155",
   "metadata": {
    "ExecuteTime": {
     "end_time": "2022-10-21T07:09:55.005424Z",
     "start_time": "2022-10-21T07:09:54.971755Z"
    }
   },
   "outputs": [
    {
     "name": "stdout",
     "output_type": "stream",
     "text": [
      "Austria 4.35\n",
      "Belgium 4.6\n",
      "Germany 4.58\n",
      "Spain 4.58\n",
      "Estonia 3.4\n",
      "Euro area 4.65\n",
      "Finland 5.25\n",
      "France 4.7\n",
      "Greece 4\n",
      "Ireland 5\n",
      "Italy 5.1\n",
      "Lithuania 3.05\n",
      "Latvia 3\n",
      "Netherlands 4.5\n",
      "Portugal 4\n",
      "Slovakia 3.9\n",
      "Slovenia 3.2\n"
     ]
    }
   ],
   "source": [
    "with StringIO(big_mac) as csvfile:\n",
    "    r = csv.DictReader(csvfile)\n",
    "    for row in r:\n",
    "        if row['currency_code'] == 'EUR' and '2022-07' in row['date']:\n",
    "            print(row['name'], row['local_price'])"
   ]
  },
  {
   "cell_type": "markdown",
   "id": "a7e54cdd",
   "metadata": {
    "slideshow": {
     "slide_type": "subslide"
    }
   },
   "source": [
    "# Pandas"
   ]
  },
  {
   "cell_type": "code",
   "execution_count": 279,
   "id": "3a257448",
   "metadata": {
    "ExecuteTime": {
     "end_time": "2022-10-21T07:09:57.672387Z",
     "start_time": "2022-10-21T07:09:57.633714Z"
    }
   },
   "outputs": [
    {
     "data": {
      "text/html": [
       "<div>\n",
       "<style scoped>\n",
       "    .dataframe tbody tr th:only-of-type {\n",
       "        vertical-align: middle;\n",
       "    }\n",
       "\n",
       "    .dataframe tbody tr th {\n",
       "        vertical-align: top;\n",
       "    }\n",
       "\n",
       "    .dataframe thead th {\n",
       "        text-align: right;\n",
       "    }\n",
       "</style>\n",
       "<table border=\"1\" class=\"dataframe\">\n",
       "  <thead>\n",
       "    <tr style=\"text-align: right;\">\n",
       "      <th></th>\n",
       "      <th>name</th>\n",
       "      <th>iso_a3</th>\n",
       "      <th>currency_code</th>\n",
       "      <th>local_price</th>\n",
       "      <th>dollar_ex</th>\n",
       "      <th>GDP_dollar</th>\n",
       "      <th>date</th>\n",
       "    </tr>\n",
       "  </thead>\n",
       "  <tbody>\n",
       "    <tr>\n",
       "      <th>0</th>\n",
       "      <td>Argentina</td>\n",
       "      <td>ARG</td>\n",
       "      <td>ARS</td>\n",
       "      <td>2.50</td>\n",
       "      <td>1.000000</td>\n",
       "      <td>NaN</td>\n",
       "      <td>2000-04-01</td>\n",
       "    </tr>\n",
       "    <tr>\n",
       "      <th>1</th>\n",
       "      <td>Australia</td>\n",
       "      <td>AUS</td>\n",
       "      <td>AUD</td>\n",
       "      <td>2.59</td>\n",
       "      <td>1.680000</td>\n",
       "      <td>NaN</td>\n",
       "      <td>2000-04-01</td>\n",
       "    </tr>\n",
       "    <tr>\n",
       "      <th>2</th>\n",
       "      <td>Brazil</td>\n",
       "      <td>BRA</td>\n",
       "      <td>BRL</td>\n",
       "      <td>2.95</td>\n",
       "      <td>1.790000</td>\n",
       "      <td>NaN</td>\n",
       "      <td>2000-04-01</td>\n",
       "    </tr>\n",
       "    <tr>\n",
       "      <th>3</th>\n",
       "      <td>Britain</td>\n",
       "      <td>GBR</td>\n",
       "      <td>GBP</td>\n",
       "      <td>1.90</td>\n",
       "      <td>0.632911</td>\n",
       "      <td>NaN</td>\n",
       "      <td>2000-04-01</td>\n",
       "    </tr>\n",
       "    <tr>\n",
       "      <th>4</th>\n",
       "      <td>Canada</td>\n",
       "      <td>CAN</td>\n",
       "      <td>CAD</td>\n",
       "      <td>2.85</td>\n",
       "      <td>1.470000</td>\n",
       "      <td>NaN</td>\n",
       "      <td>2000-04-01</td>\n",
       "    </tr>\n",
       "    <tr>\n",
       "      <th>...</th>\n",
       "      <td>...</td>\n",
       "      <td>...</td>\n",
       "      <td>...</td>\n",
       "      <td>...</td>\n",
       "      <td>...</td>\n",
       "      <td>...</td>\n",
       "      <td>...</td>\n",
       "    </tr>\n",
       "    <tr>\n",
       "      <th>1943</th>\n",
       "      <td>Uruguay</td>\n",
       "      <td>URY</td>\n",
       "      <td>UYU</td>\n",
       "      <td>255.00</td>\n",
       "      <td>41.910000</td>\n",
       "      <td>15169.153</td>\n",
       "      <td>2022-07-01</td>\n",
       "    </tr>\n",
       "    <tr>\n",
       "      <th>1944</th>\n",
       "      <td>United States</td>\n",
       "      <td>USA</td>\n",
       "      <td>USD</td>\n",
       "      <td>5.77</td>\n",
       "      <td>1.000000</td>\n",
       "      <td>63078.471</td>\n",
       "      <td>2022-07-01</td>\n",
       "    </tr>\n",
       "    <tr>\n",
       "      <th>1945</th>\n",
       "      <td>Venezuela</td>\n",
       "      <td>VEN</td>\n",
       "      <td>VES</td>\n",
       "      <td>10.00</td>\n",
       "      <td>5.673200</td>\n",
       "      <td>1690.659</td>\n",
       "      <td>2022-07-01</td>\n",
       "    </tr>\n",
       "    <tr>\n",
       "      <th>1946</th>\n",
       "      <td>Vietnam</td>\n",
       "      <td>VNM</td>\n",
       "      <td>VND</td>\n",
       "      <td>69000.00</td>\n",
       "      <td>23417.000000</td>\n",
       "      <td>3520.738</td>\n",
       "      <td>2022-07-01</td>\n",
       "    </tr>\n",
       "    <tr>\n",
       "      <th>1947</th>\n",
       "      <td>South Africa</td>\n",
       "      <td>ZAF</td>\n",
       "      <td>ZAR</td>\n",
       "      <td>39.90</td>\n",
       "      <td>17.036250</td>\n",
       "      <td>5624.500</td>\n",
       "      <td>2022-07-01</td>\n",
       "    </tr>\n",
       "  </tbody>\n",
       "</table>\n",
       "<p>1948 rows × 7 columns</p>\n",
       "</div>"
      ],
      "text/plain": [
       "               name iso_a3 currency_code  local_price     dollar_ex  \\\n",
       "0         Argentina    ARG           ARS         2.50      1.000000   \n",
       "1         Australia    AUS           AUD         2.59      1.680000   \n",
       "2            Brazil    BRA           BRL         2.95      1.790000   \n",
       "3           Britain    GBR           GBP         1.90      0.632911   \n",
       "4            Canada    CAN           CAD         2.85      1.470000   \n",
       "...             ...    ...           ...          ...           ...   \n",
       "1943        Uruguay    URY           UYU       255.00     41.910000   \n",
       "1944  United States    USA           USD         5.77      1.000000   \n",
       "1945      Venezuela    VEN           VES        10.00      5.673200   \n",
       "1946        Vietnam    VNM           VND     69000.00  23417.000000   \n",
       "1947   South Africa    ZAF           ZAR        39.90     17.036250   \n",
       "\n",
       "      GDP_dollar        date  \n",
       "0            NaN  2000-04-01  \n",
       "1            NaN  2000-04-01  \n",
       "2            NaN  2000-04-01  \n",
       "3            NaN  2000-04-01  \n",
       "4            NaN  2000-04-01  \n",
       "...          ...         ...  \n",
       "1943   15169.153  2022-07-01  \n",
       "1944   63078.471  2022-07-01  \n",
       "1945    1690.659  2022-07-01  \n",
       "1946    3520.738  2022-07-01  \n",
       "1947    5624.500  2022-07-01  \n",
       "\n",
       "[1948 rows x 7 columns]"
      ]
     },
     "execution_count": 279,
     "metadata": {},
     "output_type": "execute_result"
    }
   ],
   "source": [
    "import pandas as pd\n",
    "with StringIO(big_mac) as csvfile:\n",
    "    df = pd.read_csv(csvfile)\n",
    "df"
   ]
  },
  {
   "cell_type": "markdown",
   "id": "324f5ec3",
   "metadata": {
    "slideshow": {
     "slide_type": "slide"
    }
   },
   "source": [
    "#### Other formats"
   ]
  },
  {
   "cell_type": "markdown",
   "id": "96e8d1a4",
   "metadata": {
    "slideshow": {
     "slide_type": "subslide"
    }
   },
   "source": [
    "# Other formats"
   ]
  },
  {
   "cell_type": "markdown",
   "id": "0a284a2f",
   "metadata": {},
   "source": [
    "- All widely used formats have a Python package to manipulate them\n",
    "- xls, xlsx -> pandas, xlswriter\n",
    "- pdf -> pdfminer.six\n",
    "- ... (look for it when you need it)"
   ]
  },
  {
   "cell_type": "markdown",
   "id": "2926325f",
   "metadata": {
    "slideshow": {
     "slide_type": "slide"
    }
   },
   "source": [
    "#### Python packages dedicated to a website"
   ]
  },
  {
   "cell_type": "markdown",
   "id": "eab4c1ac",
   "metadata": {
    "slideshow": {
     "slide_type": "subslide"
    }
   },
   "source": [
    "# Wikipedia"
   ]
  },
  {
   "cell_type": "code",
   "execution_count": 280,
   "id": "5190ff8d",
   "metadata": {
    "ExecuteTime": {
     "end_time": "2022-10-21T07:10:04.201517Z",
     "start_time": "2022-10-21T07:10:03.470678Z"
    }
   },
   "outputs": [
    {
     "name": "stdout",
     "output_type": "stream",
     "text": [
      "Python is a high-level, general-purpose programming language. Its design philosophy emphasizes code readability with the use of significant indentation.Python is dynamically-typed and garbage-collected. It supports multiple programming paradigms, including structured (particularly procedural), object-oriented and functional programming. It is often described as a \"batteries included\" language due to its comprehensive standard library.Guido van Rossum began working on Python in the late 1980s as a successor to the ABC programming language and first released it in 1991 as Python 0.9.0. Python 2.0 was released in 2000 and introduced new features such as list comprehensions, cycle-detecting garbage collection, reference counting, and Unicode support. Python 3.0, released in 2008, was a major revision that is not completely backward-compatible with earlier versions. Python 2 was discontinued with version 2.7.18 in 2020.Python consistently ranks as one of the most popular programming languages.\n"
     ]
    }
   ],
   "source": [
    "from wikipedia import page\n",
    "r = page(\"Python (programming language)\")\n",
    "print(r.summary)"
   ]
  },
  {
   "cell_type": "markdown",
   "id": "a76fbe72",
   "metadata": {
    "slideshow": {
     "slide_type": "subslide"
    }
   },
   "source": [
    "# Google Scholar"
   ]
  },
  {
   "cell_type": "code",
   "execution_count": 281,
   "id": "295fe741",
   "metadata": {
    "ExecuteTime": {
     "end_time": "2022-10-21T07:10:07.217437Z",
     "start_time": "2022-10-21T07:10:05.781818Z"
    }
   },
   "outputs": [
    {
     "data": {
      "text/plain": [
       "['Distributed Computing', 'Computer Networks', 'Algorithms & Theory']"
      ]
     },
     "execution_count": 281,
     "metadata": {},
     "output_type": "execute_result"
    }
   ],
   "source": [
    "from scholarly import scholarly\n",
    "searcher = next(scholarly.search_author(\"Sebastien Tixeuil\"))\n",
    "searcher['interests']"
   ]
  },
  {
   "cell_type": "code",
   "execution_count": 282,
   "id": "8c2de893",
   "metadata": {
    "ExecuteTime": {
     "end_time": "2022-10-21T07:10:09.417073Z",
     "start_time": "2022-10-21T07:10:08.011919Z"
    }
   },
   "outputs": [
    {
     "data": {
      "text/plain": [
       "['Graphs', 'P2P networks', 'queuing systems', 'ranking algorithms']"
      ]
     },
     "execution_count": 282,
     "metadata": {},
     "output_type": "execute_result"
    }
   ],
   "source": [
    "searcher = next(scholarly.search_author(\"Fabien Mathieu\"))\n",
    "searcher['interests']"
   ]
  },
  {
   "cell_type": "markdown",
   "id": "0deced78",
   "metadata": {
    "slideshow": {
     "slide_type": "slide"
    }
   },
   "source": [
    "## Server Side... next week!"
   ]
  }
 ],
 "metadata": {
  "celltoolbar": "Slideshow",
  "kernelspec": {
   "display_name": "Python 3 (ipykernel)",
   "language": "python",
   "name": "python3"
  },
  "language_info": {
   "codemirror_mode": {
    "name": "ipython",
    "version": 3
   },
   "file_extension": ".py",
   "mimetype": "text/x-python",
   "name": "python",
   "nbconvert_exporter": "python",
   "pygments_lexer": "ipython3",
   "version": "3.9.7"
  },
  "toc": {
   "base_numbering": 1,
   "nav_menu": {},
   "number_sections": true,
   "sideBar": true,
   "skip_h1_title": true,
   "title_cell": "Table of Contents",
   "title_sidebar": "Contents",
   "toc_cell": false,
   "toc_position": {},
   "toc_section_display": true,
   "toc_window_display": false
  }
 },
 "nbformat": 4,
 "nbformat_minor": 5
}
